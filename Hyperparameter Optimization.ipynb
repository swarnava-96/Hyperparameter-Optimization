{
 "cells": [
  {
   "cell_type": "markdown",
   "id": "9d75c1c2",
   "metadata": {},
   "source": [
    "# All Techniques Of Hyper Parameter Optimization"
   ]
  },
  {
   "cell_type": "markdown",
   "id": "d977214f",
   "metadata": {},
   "source": [
    "#### 1. RandomizedSearchCV\n",
    "#### 2. GridSearchCV\n",
    "#### 3. Bayesian Optimization -Automate Hyperparameter Tuning (Hyperopt)\n",
    "#### 4. Optuna- Automate Hyperparameter Tuning"
   ]
  },
  {
   "cell_type": "code",
   "execution_count": 1,
   "id": "924b8f42",
   "metadata": {},
   "outputs": [],
   "source": [
    "import warnings\n",
    "warnings.filterwarnings('ignore')"
   ]
  },
  {
   "cell_type": "code",
   "execution_count": 2,
   "id": "1fbc6367",
   "metadata": {},
   "outputs": [
    {
     "data": {
      "text/html": [
       "<div>\n",
       "<style scoped>\n",
       "    .dataframe tbody tr th:only-of-type {\n",
       "        vertical-align: middle;\n",
       "    }\n",
       "\n",
       "    .dataframe tbody tr th {\n",
       "        vertical-align: top;\n",
       "    }\n",
       "\n",
       "    .dataframe thead th {\n",
       "        text-align: right;\n",
       "    }\n",
       "</style>\n",
       "<table border=\"1\" class=\"dataframe\">\n",
       "  <thead>\n",
       "    <tr style=\"text-align: right;\">\n",
       "      <th></th>\n",
       "      <th>Pregnancies</th>\n",
       "      <th>Glucose</th>\n",
       "      <th>BloodPressure</th>\n",
       "      <th>SkinThickness</th>\n",
       "      <th>Insulin</th>\n",
       "      <th>BMI</th>\n",
       "      <th>DiabetesPedigreeFunction</th>\n",
       "      <th>Age</th>\n",
       "      <th>Outcome</th>\n",
       "    </tr>\n",
       "  </thead>\n",
       "  <tbody>\n",
       "    <tr>\n",
       "      <th>0</th>\n",
       "      <td>6</td>\n",
       "      <td>148</td>\n",
       "      <td>72</td>\n",
       "      <td>35</td>\n",
       "      <td>0</td>\n",
       "      <td>33.6</td>\n",
       "      <td>0.627</td>\n",
       "      <td>50</td>\n",
       "      <td>1</td>\n",
       "    </tr>\n",
       "    <tr>\n",
       "      <th>1</th>\n",
       "      <td>1</td>\n",
       "      <td>85</td>\n",
       "      <td>66</td>\n",
       "      <td>29</td>\n",
       "      <td>0</td>\n",
       "      <td>26.6</td>\n",
       "      <td>0.351</td>\n",
       "      <td>31</td>\n",
       "      <td>0</td>\n",
       "    </tr>\n",
       "    <tr>\n",
       "      <th>2</th>\n",
       "      <td>8</td>\n",
       "      <td>183</td>\n",
       "      <td>64</td>\n",
       "      <td>0</td>\n",
       "      <td>0</td>\n",
       "      <td>23.3</td>\n",
       "      <td>0.672</td>\n",
       "      <td>32</td>\n",
       "      <td>1</td>\n",
       "    </tr>\n",
       "    <tr>\n",
       "      <th>3</th>\n",
       "      <td>1</td>\n",
       "      <td>89</td>\n",
       "      <td>66</td>\n",
       "      <td>23</td>\n",
       "      <td>94</td>\n",
       "      <td>28.1</td>\n",
       "      <td>0.167</td>\n",
       "      <td>21</td>\n",
       "      <td>0</td>\n",
       "    </tr>\n",
       "    <tr>\n",
       "      <th>4</th>\n",
       "      <td>0</td>\n",
       "      <td>137</td>\n",
       "      <td>40</td>\n",
       "      <td>35</td>\n",
       "      <td>168</td>\n",
       "      <td>43.1</td>\n",
       "      <td>2.288</td>\n",
       "      <td>33</td>\n",
       "      <td>1</td>\n",
       "    </tr>\n",
       "  </tbody>\n",
       "</table>\n",
       "</div>"
      ],
      "text/plain": [
       "   Pregnancies  Glucose  BloodPressure  SkinThickness  Insulin   BMI  \\\n",
       "0            6      148             72             35        0  33.6   \n",
       "1            1       85             66             29        0  26.6   \n",
       "2            8      183             64              0        0  23.3   \n",
       "3            1       89             66             23       94  28.1   \n",
       "4            0      137             40             35      168  43.1   \n",
       "\n",
       "   DiabetesPedigreeFunction  Age  Outcome  \n",
       "0                     0.627   50        1  \n",
       "1                     0.351   31        0  \n",
       "2                     0.672   32        1  \n",
       "3                     0.167   21        0  \n",
       "4                     2.288   33        1  "
      ]
     },
     "execution_count": 2,
     "metadata": {},
     "output_type": "execute_result"
    }
   ],
   "source": [
    "import pandas as pd\n",
    "df=pd.read_csv('diabetes.csv')\n",
    "df.head()"
   ]
  },
  {
   "cell_type": "code",
   "execution_count": 3,
   "id": "c9a530a6",
   "metadata": {},
   "outputs": [
    {
     "data": {
      "text/html": [
       "<div>\n",
       "<style scoped>\n",
       "    .dataframe tbody tr th:only-of-type {\n",
       "        vertical-align: middle;\n",
       "    }\n",
       "\n",
       "    .dataframe tbody tr th {\n",
       "        vertical-align: top;\n",
       "    }\n",
       "\n",
       "    .dataframe thead th {\n",
       "        text-align: right;\n",
       "    }\n",
       "</style>\n",
       "<table border=\"1\" class=\"dataframe\">\n",
       "  <thead>\n",
       "    <tr style=\"text-align: right;\">\n",
       "      <th></th>\n",
       "      <th>Pregnancies</th>\n",
       "      <th>Glucose</th>\n",
       "      <th>BloodPressure</th>\n",
       "      <th>SkinThickness</th>\n",
       "      <th>Insulin</th>\n",
       "      <th>BMI</th>\n",
       "      <th>DiabetesPedigreeFunction</th>\n",
       "      <th>Age</th>\n",
       "      <th>Outcome</th>\n",
       "    </tr>\n",
       "  </thead>\n",
       "  <tbody>\n",
       "    <tr>\n",
       "      <th>0</th>\n",
       "      <td>6</td>\n",
       "      <td>148.0</td>\n",
       "      <td>72</td>\n",
       "      <td>35.0</td>\n",
       "      <td>30.5</td>\n",
       "      <td>33.6</td>\n",
       "      <td>0.627</td>\n",
       "      <td>50</td>\n",
       "      <td>1</td>\n",
       "    </tr>\n",
       "    <tr>\n",
       "      <th>1</th>\n",
       "      <td>1</td>\n",
       "      <td>85.0</td>\n",
       "      <td>66</td>\n",
       "      <td>29.0</td>\n",
       "      <td>30.5</td>\n",
       "      <td>26.6</td>\n",
       "      <td>0.351</td>\n",
       "      <td>31</td>\n",
       "      <td>0</td>\n",
       "    </tr>\n",
       "    <tr>\n",
       "      <th>2</th>\n",
       "      <td>8</td>\n",
       "      <td>183.0</td>\n",
       "      <td>64</td>\n",
       "      <td>23.0</td>\n",
       "      <td>30.5</td>\n",
       "      <td>23.3</td>\n",
       "      <td>0.672</td>\n",
       "      <td>32</td>\n",
       "      <td>1</td>\n",
       "    </tr>\n",
       "    <tr>\n",
       "      <th>3</th>\n",
       "      <td>1</td>\n",
       "      <td>89.0</td>\n",
       "      <td>66</td>\n",
       "      <td>23.0</td>\n",
       "      <td>94.0</td>\n",
       "      <td>28.1</td>\n",
       "      <td>0.167</td>\n",
       "      <td>21</td>\n",
       "      <td>0</td>\n",
       "    </tr>\n",
       "    <tr>\n",
       "      <th>4</th>\n",
       "      <td>0</td>\n",
       "      <td>137.0</td>\n",
       "      <td>40</td>\n",
       "      <td>35.0</td>\n",
       "      <td>168.0</td>\n",
       "      <td>43.1</td>\n",
       "      <td>2.288</td>\n",
       "      <td>33</td>\n",
       "      <td>1</td>\n",
       "    </tr>\n",
       "  </tbody>\n",
       "</table>\n",
       "</div>"
      ],
      "text/plain": [
       "   Pregnancies  Glucose  BloodPressure  SkinThickness  Insulin   BMI  \\\n",
       "0            6    148.0             72           35.0     30.5  33.6   \n",
       "1            1     85.0             66           29.0     30.5  26.6   \n",
       "2            8    183.0             64           23.0     30.5  23.3   \n",
       "3            1     89.0             66           23.0     94.0  28.1   \n",
       "4            0    137.0             40           35.0    168.0  43.1   \n",
       "\n",
       "   DiabetesPedigreeFunction  Age  Outcome  \n",
       "0                     0.627   50        1  \n",
       "1                     0.351   31        0  \n",
       "2                     0.672   32        1  \n",
       "3                     0.167   21        0  \n",
       "4                     2.288   33        1  "
      ]
     },
     "execution_count": 3,
     "metadata": {},
     "output_type": "execute_result"
    }
   ],
   "source": [
    "import numpy as np\n",
    "df['Glucose']=np.where(df['Glucose']==0,df['Glucose'].median(),df['Glucose'])\n",
    "df['Insulin']=np.where(df['Insulin']==0,df['Insulin'].median(),df['Insulin'])\n",
    "df['SkinThickness']=np.where(df['SkinThickness']==0,df['SkinThickness'].median(),df['SkinThickness'])\n",
    "df.head()"
   ]
  },
  {
   "cell_type": "code",
   "execution_count": 4,
   "id": "4a726068",
   "metadata": {},
   "outputs": [],
   "source": [
    "#### Independent And Dependent features\n",
    "\n",
    "X=df.drop('Outcome',axis=1)\n",
    "y=df['Outcome']"
   ]
  },
  {
   "cell_type": "code",
   "execution_count": 5,
   "id": "af31edd7",
   "metadata": {},
   "outputs": [
    {
     "data": {
      "text/html": [
       "<div>\n",
       "<style scoped>\n",
       "    .dataframe tbody tr th:only-of-type {\n",
       "        vertical-align: middle;\n",
       "    }\n",
       "\n",
       "    .dataframe tbody tr th {\n",
       "        vertical-align: top;\n",
       "    }\n",
       "\n",
       "    .dataframe thead th {\n",
       "        text-align: right;\n",
       "    }\n",
       "</style>\n",
       "<table border=\"1\" class=\"dataframe\">\n",
       "  <thead>\n",
       "    <tr style=\"text-align: right;\">\n",
       "      <th></th>\n",
       "      <th>Pregnancies</th>\n",
       "      <th>Glucose</th>\n",
       "      <th>BloodPressure</th>\n",
       "      <th>SkinThickness</th>\n",
       "      <th>Insulin</th>\n",
       "      <th>BMI</th>\n",
       "      <th>DiabetesPedigreeFunction</th>\n",
       "      <th>Age</th>\n",
       "    </tr>\n",
       "  </thead>\n",
       "  <tbody>\n",
       "    <tr>\n",
       "      <th>0</th>\n",
       "      <td>6</td>\n",
       "      <td>148.0</td>\n",
       "      <td>72</td>\n",
       "      <td>35.0</td>\n",
       "      <td>30.5</td>\n",
       "      <td>33.6</td>\n",
       "      <td>0.627</td>\n",
       "      <td>50</td>\n",
       "    </tr>\n",
       "    <tr>\n",
       "      <th>1</th>\n",
       "      <td>1</td>\n",
       "      <td>85.0</td>\n",
       "      <td>66</td>\n",
       "      <td>29.0</td>\n",
       "      <td>30.5</td>\n",
       "      <td>26.6</td>\n",
       "      <td>0.351</td>\n",
       "      <td>31</td>\n",
       "    </tr>\n",
       "    <tr>\n",
       "      <th>2</th>\n",
       "      <td>8</td>\n",
       "      <td>183.0</td>\n",
       "      <td>64</td>\n",
       "      <td>23.0</td>\n",
       "      <td>30.5</td>\n",
       "      <td>23.3</td>\n",
       "      <td>0.672</td>\n",
       "      <td>32</td>\n",
       "    </tr>\n",
       "    <tr>\n",
       "      <th>3</th>\n",
       "      <td>1</td>\n",
       "      <td>89.0</td>\n",
       "      <td>66</td>\n",
       "      <td>23.0</td>\n",
       "      <td>94.0</td>\n",
       "      <td>28.1</td>\n",
       "      <td>0.167</td>\n",
       "      <td>21</td>\n",
       "    </tr>\n",
       "    <tr>\n",
       "      <th>4</th>\n",
       "      <td>0</td>\n",
       "      <td>137.0</td>\n",
       "      <td>40</td>\n",
       "      <td>35.0</td>\n",
       "      <td>168.0</td>\n",
       "      <td>43.1</td>\n",
       "      <td>2.288</td>\n",
       "      <td>33</td>\n",
       "    </tr>\n",
       "    <tr>\n",
       "      <th>...</th>\n",
       "      <td>...</td>\n",
       "      <td>...</td>\n",
       "      <td>...</td>\n",
       "      <td>...</td>\n",
       "      <td>...</td>\n",
       "      <td>...</td>\n",
       "      <td>...</td>\n",
       "      <td>...</td>\n",
       "    </tr>\n",
       "    <tr>\n",
       "      <th>763</th>\n",
       "      <td>10</td>\n",
       "      <td>101.0</td>\n",
       "      <td>76</td>\n",
       "      <td>48.0</td>\n",
       "      <td>180.0</td>\n",
       "      <td>32.9</td>\n",
       "      <td>0.171</td>\n",
       "      <td>63</td>\n",
       "    </tr>\n",
       "    <tr>\n",
       "      <th>764</th>\n",
       "      <td>2</td>\n",
       "      <td>122.0</td>\n",
       "      <td>70</td>\n",
       "      <td>27.0</td>\n",
       "      <td>30.5</td>\n",
       "      <td>36.8</td>\n",
       "      <td>0.340</td>\n",
       "      <td>27</td>\n",
       "    </tr>\n",
       "    <tr>\n",
       "      <th>765</th>\n",
       "      <td>5</td>\n",
       "      <td>121.0</td>\n",
       "      <td>72</td>\n",
       "      <td>23.0</td>\n",
       "      <td>112.0</td>\n",
       "      <td>26.2</td>\n",
       "      <td>0.245</td>\n",
       "      <td>30</td>\n",
       "    </tr>\n",
       "    <tr>\n",
       "      <th>766</th>\n",
       "      <td>1</td>\n",
       "      <td>126.0</td>\n",
       "      <td>60</td>\n",
       "      <td>23.0</td>\n",
       "      <td>30.5</td>\n",
       "      <td>30.1</td>\n",
       "      <td>0.349</td>\n",
       "      <td>47</td>\n",
       "    </tr>\n",
       "    <tr>\n",
       "      <th>767</th>\n",
       "      <td>1</td>\n",
       "      <td>93.0</td>\n",
       "      <td>70</td>\n",
       "      <td>31.0</td>\n",
       "      <td>30.5</td>\n",
       "      <td>30.4</td>\n",
       "      <td>0.315</td>\n",
       "      <td>23</td>\n",
       "    </tr>\n",
       "  </tbody>\n",
       "</table>\n",
       "<p>768 rows × 8 columns</p>\n",
       "</div>"
      ],
      "text/plain": [
       "     Pregnancies  Glucose  BloodPressure  SkinThickness  Insulin   BMI  \\\n",
       "0              6    148.0             72           35.0     30.5  33.6   \n",
       "1              1     85.0             66           29.0     30.5  26.6   \n",
       "2              8    183.0             64           23.0     30.5  23.3   \n",
       "3              1     89.0             66           23.0     94.0  28.1   \n",
       "4              0    137.0             40           35.0    168.0  43.1   \n",
       "..           ...      ...            ...            ...      ...   ...   \n",
       "763           10    101.0             76           48.0    180.0  32.9   \n",
       "764            2    122.0             70           27.0     30.5  36.8   \n",
       "765            5    121.0             72           23.0    112.0  26.2   \n",
       "766            1    126.0             60           23.0     30.5  30.1   \n",
       "767            1     93.0             70           31.0     30.5  30.4   \n",
       "\n",
       "     DiabetesPedigreeFunction  Age  \n",
       "0                       0.627   50  \n",
       "1                       0.351   31  \n",
       "2                       0.672   32  \n",
       "3                       0.167   21  \n",
       "4                       2.288   33  \n",
       "..                        ...  ...  \n",
       "763                     0.171   63  \n",
       "764                     0.340   27  \n",
       "765                     0.245   30  \n",
       "766                     0.349   47  \n",
       "767                     0.315   23  \n",
       "\n",
       "[768 rows x 8 columns]"
      ]
     },
     "execution_count": 5,
     "metadata": {},
     "output_type": "execute_result"
    }
   ],
   "source": [
    "pd.DataFrame(X,columns=df.columns[:-1])"
   ]
  },
  {
   "cell_type": "code",
   "execution_count": 6,
   "id": "79f21727",
   "metadata": {},
   "outputs": [],
   "source": [
    "#### Train Test Split\n",
    "\n",
    "from sklearn.model_selection import train_test_split\n",
    "X_train,X_test,y_train,y_test=train_test_split(X,y,test_size=0.2,random_state=0)"
   ]
  },
  {
   "cell_type": "code",
   "execution_count": 7,
   "id": "56322046",
   "metadata": {},
   "outputs": [],
   "source": [
    "from sklearn.ensemble import RandomForestClassifier"
   ]
  },
  {
   "cell_type": "code",
   "execution_count": 8,
   "id": "bccbb1ba",
   "metadata": {},
   "outputs": [],
   "source": [
    "rf_classifier=RandomForestClassifier(n_estimators=10).fit(X_train,y_train)\n",
    "prediction=rf_classifier.predict(X_test)"
   ]
  },
  {
   "cell_type": "code",
   "execution_count": 9,
   "id": "9d9c56c4",
   "metadata": {},
   "outputs": [
    {
     "data": {
      "text/plain": [
       "0    500\n",
       "1    268\n",
       "Name: Outcome, dtype: int64"
      ]
     },
     "execution_count": 9,
     "metadata": {},
     "output_type": "execute_result"
    }
   ],
   "source": [
    "y.value_counts()"
   ]
  },
  {
   "cell_type": "code",
   "execution_count": 10,
   "id": "959f2438",
   "metadata": {},
   "outputs": [
    {
     "name": "stdout",
     "output_type": "stream",
     "text": [
      "Accuracy score: 0.7857142857142857\n",
      "[[95 12]\n",
      " [21 26]]\n",
      "              precision    recall  f1-score   support\n",
      "\n",
      "           0       0.82      0.89      0.85       107\n",
      "           1       0.68      0.55      0.61        47\n",
      "\n",
      "    accuracy                           0.79       154\n",
      "   macro avg       0.75      0.72      0.73       154\n",
      "weighted avg       0.78      0.79      0.78       154\n",
      "\n"
     ]
    }
   ],
   "source": [
    "from sklearn.metrics import accuracy_score,confusion_matrix,classification_report\n",
    "print('Accuracy score:',accuracy_score(y_test,prediction))\n",
    "print(confusion_matrix(y_test,prediction))\n",
    "print(classification_report(y_test,prediction))\n",
    "\n"
   ]
  },
  {
   "cell_type": "markdown",
   "id": "f28c163e",
   "metadata": {},
   "source": [
    "### The main parameters used by a Random Forest Classifier are:\n",
    "\n",
    "##### 1. criterion = the function used to evaluate the quality of a split.\n",
    "##### 2. max_depth = maximum number of levels allowed in each tree.\n",
    "##### 3. max_features = maximum number of features considered when splitting a node.\n",
    "##### 4. min_samples_leaf = minimum number of samples which can be stored in a tree leaf.\n",
    "##### 5. min_samples_split = minimum number of samples necessary in a node to cause node splitting.\n",
    "##### 6. n_estimators = number of trees in the ensemble."
   ]
  },
  {
   "cell_type": "markdown",
   "id": "4c04e8ff",
   "metadata": {},
   "source": [
    "### Manual Hyperparameter Tuning"
   ]
  },
  {
   "cell_type": "code",
   "execution_count": 11,
   "id": "b2b2a4a4",
   "metadata": {},
   "outputs": [
    {
     "name": "stdout",
     "output_type": "stream",
     "text": [
      "Accuracy score: 0.8246753246753247\n",
      "[[97 10]\n",
      " [17 30]]\n",
      "              precision    recall  f1-score   support\n",
      "\n",
      "           0       0.85      0.91      0.88       107\n",
      "           1       0.75      0.64      0.69        47\n",
      "\n",
      "    accuracy                           0.82       154\n",
      "   macro avg       0.80      0.77      0.78       154\n",
      "weighted avg       0.82      0.82      0.82       154\n",
      "\n"
     ]
    }
   ],
   "source": [
    "model=RandomForestClassifier(n_estimators=300,criterion='entropy',max_features='sqrt',min_samples_leaf=10,random_state=100).fit(X_train,y_train)\n",
    "prediction=model.predict(X_test)\n",
    "print('Accuracy score:',accuracy_score(y_test,prediction))\n",
    "print(confusion_matrix(y_test,prediction))\n",
    "print(classification_report(y_test,prediction))\n"
   ]
  },
  {
   "cell_type": "markdown",
   "id": "99445b71",
   "metadata": {},
   "source": [
    "## Randomized Search CV"
   ]
  },
  {
   "cell_type": "code",
   "execution_count": 12,
   "id": "66af895f",
   "metadata": {},
   "outputs": [
    {
     "name": "stdout",
     "output_type": "stream",
     "text": [
      "{'n_estimators': [200, 400, 600, 800, 1000, 1200, 1400, 1600, 1800, 2000], 'max_features': ['auto', 'sqrt', 'log2'], 'max_depth': [10, 120, 230, 340, 450, 560, 670, 780, 890, 1000], 'min_samples_split': [2, 5, 10, 14], 'min_samples_leaf': [1, 2, 4, 6, 8], 'criterion': ['entropy', 'gini']}\n"
     ]
    }
   ],
   "source": [
    "import numpy as np\n",
    "from sklearn.model_selection import RandomizedSearchCV\n",
    "\n",
    "# Number of trees in random forest\n",
    "n_estimators=[int(x) for x in np.linspace(start=200,stop=2000,num=10)]\n",
    "\n",
    "# Number of features to consider at every split\n",
    "max_features=['auto','sqrt', 'log2']\n",
    "\n",
    "# Maximum number of levels in tree\n",
    "max_depth=[int(x) for x in np.linspace(10,1000,10)]\n",
    "\n",
    "# Minimum number of samples required to split a node\n",
    "min_samples_split=[2,5,10,14]\n",
    "\n",
    "# Minimum number of samples required at each leaf node\n",
    "min_samples_leaf=[1,2,4,6,8]\n",
    "\n",
    "# Create the random grid\n",
    "random_grid={'n_estimators':n_estimators,\n",
    "            'max_features':max_features,\n",
    "             'max_depth':max_depth,\n",
    "             'min_samples_split':min_samples_split,\n",
    "             'min_samples_leaf':min_samples_leaf,\n",
    "             'criterion':['entropy','gini']}\n",
    "print(random_grid)"
   ]
  },
  {
   "cell_type": "code",
   "execution_count": 13,
   "id": "d651cd1d",
   "metadata": {},
   "outputs": [
    {
     "name": "stdout",
     "output_type": "stream",
     "text": [
      "Fitting 3 folds for each of 100 candidates, totalling 300 fits\n"
     ]
    },
    {
     "data": {
      "text/plain": [
       "RandomizedSearchCV(cv=3, estimator=RandomForestClassifier(), n_iter=100,\n",
       "                   n_jobs=-1,\n",
       "                   param_distributions={'criterion': ['entropy', 'gini'],\n",
       "                                        'max_depth': [10, 120, 230, 340, 450,\n",
       "                                                      560, 670, 780, 890,\n",
       "                                                      1000],\n",
       "                                        'max_features': ['auto', 'sqrt',\n",
       "                                                         'log2'],\n",
       "                                        'min_samples_leaf': [1, 2, 4, 6, 8],\n",
       "                                        'min_samples_split': [2, 5, 10, 14],\n",
       "                                        'n_estimators': [200, 400, 600, 800,\n",
       "                                                         1000, 1200, 1400, 1600,\n",
       "                                                         1800, 2000]},\n",
       "                   random_state=100, verbose=2)"
      ]
     },
     "execution_count": 13,
     "metadata": {},
     "output_type": "execute_result"
    }
   ],
   "source": [
    "rf=RandomForestClassifier()\n",
    "rf_randomCV=RandomizedSearchCV(estimator=rf,param_distributions=random_grid,n_iter=100,cv=3,verbose=2,random_state=100,n_jobs=-1)\n",
    "\n",
    "### fit the randomized model\n",
    "rf_randomCV.fit(X_train,y_train)"
   ]
  },
  {
   "cell_type": "code",
   "execution_count": 14,
   "id": "f363981f",
   "metadata": {},
   "outputs": [
    {
     "data": {
      "text/plain": [
       "{'n_estimators': 200,\n",
       " 'min_samples_split': 2,\n",
       " 'min_samples_leaf': 2,\n",
       " 'max_features': 'log2',\n",
       " 'max_depth': 340,\n",
       " 'criterion': 'entropy'}"
      ]
     },
     "execution_count": 14,
     "metadata": {},
     "output_type": "execute_result"
    }
   ],
   "source": [
    "rf_randomCV.best_params_"
   ]
  },
  {
   "cell_type": "code",
   "execution_count": 15,
   "id": "61af6239",
   "metadata": {},
   "outputs": [
    {
     "data": {
      "text/plain": [
       "RandomizedSearchCV(cv=3, estimator=RandomForestClassifier(), n_iter=100,\n",
       "                   n_jobs=-1,\n",
       "                   param_distributions={'criterion': ['entropy', 'gini'],\n",
       "                                        'max_depth': [10, 120, 230, 340, 450,\n",
       "                                                      560, 670, 780, 890,\n",
       "                                                      1000],\n",
       "                                        'max_features': ['auto', 'sqrt',\n",
       "                                                         'log2'],\n",
       "                                        'min_samples_leaf': [1, 2, 4, 6, 8],\n",
       "                                        'min_samples_split': [2, 5, 10, 14],\n",
       "                                        'n_estimators': [200, 400, 600, 800,\n",
       "                                                         1000, 1200, 1400, 1600,\n",
       "                                                         1800, 2000]},\n",
       "                   random_state=100, verbose=2)"
      ]
     },
     "execution_count": 15,
     "metadata": {},
     "output_type": "execute_result"
    }
   ],
   "source": [
    "rf_randomCV"
   ]
  },
  {
   "cell_type": "code",
   "execution_count": 16,
   "id": "bfdfd084",
   "metadata": {},
   "outputs": [],
   "source": [
    "best_random_grid=rf_randomCV.best_estimator_"
   ]
  },
  {
   "cell_type": "code",
   "execution_count": 17,
   "id": "16bd2922",
   "metadata": {},
   "outputs": [
    {
     "name": "stdout",
     "output_type": "stream",
     "text": [
      "[[95 12]\n",
      " [13 34]]\n",
      "Accuracy score 0.8376623376623377\n",
      "Classification report               precision    recall  f1-score   support\n",
      "\n",
      "           0       0.88      0.89      0.88       107\n",
      "           1       0.74      0.72      0.73        47\n",
      "\n",
      "    accuracy                           0.84       154\n",
      "   macro avg       0.81      0.81      0.81       154\n",
      "weighted avg       0.84      0.84      0.84       154\n",
      "\n"
     ]
    }
   ],
   "source": [
    "from sklearn.metrics import accuracy_score\n",
    "y_pred=best_random_grid.predict(X_test)\n",
    "print(confusion_matrix(y_test,y_pred))\n",
    "print('Accuracy score {}'.format(accuracy_score(y_test,y_pred)))\n",
    "print('Classification report {}'.format(classification_report(y_test,y_pred)))"
   ]
  },
  {
   "cell_type": "markdown",
   "id": "e0b26af5",
   "metadata": {},
   "source": [
    "## GridSearch CV"
   ]
  },
  {
   "cell_type": "code",
   "execution_count": 18,
   "id": "f7cfcb29",
   "metadata": {},
   "outputs": [
    {
     "data": {
      "text/plain": [
       "{'n_estimators': 200,\n",
       " 'min_samples_split': 2,\n",
       " 'min_samples_leaf': 2,\n",
       " 'max_features': 'log2',\n",
       " 'max_depth': 340,\n",
       " 'criterion': 'entropy'}"
      ]
     },
     "execution_count": 18,
     "metadata": {},
     "output_type": "execute_result"
    }
   ],
   "source": [
    "rf_randomCV.best_params_"
   ]
  },
  {
   "cell_type": "code",
   "execution_count": 19,
   "id": "01314830",
   "metadata": {},
   "outputs": [],
   "source": [
    "from sklearn.model_selection import GridSearchCV"
   ]
  },
  {
   "cell_type": "code",
   "execution_count": 20,
   "id": "2f32acd0",
   "metadata": {},
   "outputs": [
    {
     "name": "stdout",
     "output_type": "stream",
     "text": [
      "{'criterion': ['entropy'], 'max_depth': [340], 'max_features': ['log2'], 'min_samples_leaf': [2, 4, 6], 'min_samples_split': [0, 1, 2, 3, 4], 'n_estimators': [0, 100, 200, 300, 400]}\n"
     ]
    }
   ],
   "source": [
    "from sklearn.model_selection import GridSearchCV\n",
    "\n",
    "param_grid = {\n",
    "    'criterion': [rf_randomCV.best_params_['criterion']],\n",
    "    'max_depth': [rf_randomCV.best_params_['max_depth']],\n",
    "    'max_features': [rf_randomCV.best_params_['max_features']],\n",
    "    'min_samples_leaf': [rf_randomCV.best_params_['min_samples_leaf'], \n",
    "                         rf_randomCV.best_params_['min_samples_leaf']+2, \n",
    "                         rf_randomCV.best_params_['min_samples_leaf'] + 4],\n",
    "    'min_samples_split': [rf_randomCV.best_params_['min_samples_split'] - 2,\n",
    "                          rf_randomCV.best_params_['min_samples_split'] - 1,\n",
    "                          rf_randomCV.best_params_['min_samples_split'], \n",
    "                          rf_randomCV.best_params_['min_samples_split'] +1,\n",
    "                          rf_randomCV.best_params_['min_samples_split'] + 2],\n",
    "    'n_estimators': [rf_randomCV.best_params_['n_estimators'] - 200, rf_randomCV.best_params_['n_estimators'] - 100, \n",
    "                     rf_randomCV.best_params_['n_estimators'], \n",
    "                     rf_randomCV.best_params_['n_estimators'] + 100, rf_randomCV.best_params_['n_estimators'] + 200]\n",
    "}\n",
    "\n",
    "print(param_grid)"
   ]
  },
  {
   "cell_type": "code",
   "execution_count": 21,
   "id": "9143dd39",
   "metadata": {},
   "outputs": [
    {
     "name": "stdout",
     "output_type": "stream",
     "text": [
      "Fitting 10 folds for each of 75 candidates, totalling 750 fits\n"
     ]
    },
    {
     "data": {
      "text/plain": [
       "GridSearchCV(cv=10, estimator=RandomForestClassifier(), n_jobs=-1,\n",
       "             param_grid={'criterion': ['entropy'], 'max_depth': [340],\n",
       "                         'max_features': ['log2'],\n",
       "                         'min_samples_leaf': [2, 4, 6],\n",
       "                         'min_samples_split': [0, 1, 2, 3, 4],\n",
       "                         'n_estimators': [0, 100, 200, 300, 400]},\n",
       "             verbose=2)"
      ]
     },
     "execution_count": 21,
     "metadata": {},
     "output_type": "execute_result"
    }
   ],
   "source": [
    "#### Fit the grid_search to the data\n",
    "\n",
    "rf=RandomForestClassifier()\n",
    "grid_search=GridSearchCV(estimator=rf,param_grid=param_grid,n_jobs=-1,cv=10,verbose=2)\n",
    "grid_search.fit(X_train,y_train)"
   ]
  },
  {
   "cell_type": "code",
   "execution_count": 22,
   "id": "08f9fe38",
   "metadata": {},
   "outputs": [
    {
     "data": {
      "text/plain": [
       "RandomForestClassifier(criterion='entropy', max_depth=340, max_features='log2',\n",
       "                       min_samples_leaf=6, min_samples_split=3,\n",
       "                       n_estimators=300)"
      ]
     },
     "execution_count": 22,
     "metadata": {},
     "output_type": "execute_result"
    }
   ],
   "source": [
    "grid_search.best_estimator_"
   ]
  },
  {
   "cell_type": "code",
   "execution_count": 23,
   "id": "ee953a7a",
   "metadata": {},
   "outputs": [],
   "source": [
    "best_grid=grid_search.best_estimator_"
   ]
  },
  {
   "cell_type": "code",
   "execution_count": 24,
   "id": "63ea088f",
   "metadata": {},
   "outputs": [
    {
     "data": {
      "text/plain": [
       "RandomForestClassifier(criterion='entropy', max_depth=340, max_features='log2',\n",
       "                       min_samples_leaf=6, min_samples_split=3,\n",
       "                       n_estimators=300)"
      ]
     },
     "execution_count": 24,
     "metadata": {},
     "output_type": "execute_result"
    }
   ],
   "source": [
    "best_grid"
   ]
  },
  {
   "cell_type": "code",
   "execution_count": 26,
   "id": "0d6164bc",
   "metadata": {},
   "outputs": [
    {
     "name": "stdout",
     "output_type": "stream",
     "text": [
      "[[97 10]\n",
      " [14 33]]\n",
      "Accuracy score: 0.8441558441558441\n",
      "              precision    recall  f1-score   support\n",
      "\n",
      "           0       0.87      0.91      0.89       107\n",
      "           1       0.77      0.70      0.73        47\n",
      "\n",
      "    accuracy                           0.84       154\n",
      "   macro avg       0.82      0.80      0.81       154\n",
      "weighted avg       0.84      0.84      0.84       154\n",
      "\n"
     ]
    }
   ],
   "source": [
    "y_pred=best_grid.predict(X_test)\n",
    "print(confusion_matrix(y_test,y_pred))\n",
    "print('Accuracy score: {}'.format(accuracy_score(y_test,y_pred)))\n",
    "print(classification_report(y_test,y_pred))"
   ]
  },
  {
   "cell_type": "markdown",
   "id": "96939463",
   "metadata": {},
   "source": [
    "## Automated Hyperparameter Tuning"
   ]
  },
  {
   "cell_type": "markdown",
   "id": "f4a88f5d",
   "metadata": {},
   "source": [
    "Automated Hyperparameter Tuning can be done by using techniques such as:\n",
    "\n",
    "##### 1.Bayesian Optimization\n",
    "##### 2.Gradient Descent\n",
    "##### 3.Evolutionary Algorithms\n",
    "\n",
    "\n",
    "### Bayesian Optimization\n",
    "\n",
    "Bayesian optimization uses probability to find the minimum of a function. The final aim is to find the input value to a function which can gives us the lowest possible output value.It usually performs better than random,grid and manual search providing better performance in the testing phase and reduced optimization time. In Hyperopt, Bayesian Optimization can be implemented giving 3 three main parameters to the function fmin.\n",
    "\n",
    "##### 1.Objective Function = defines the loss function to minimize.\n",
    "##### 2.Domain Space = defines the range of input values to test (in Bayesian Optimization this space creates a probability distribution for each of the used Hyperparameters).\n",
    "##### 3.Optimization Algorithm = defines the search algorithm to use to select the best input values to use in each new iteration."
   ]
  },
  {
   "cell_type": "code",
   "execution_count": 28,
   "id": "5eaa978e",
   "metadata": {},
   "outputs": [],
   "source": [
    "from hyperopt import hp,fmin,tpe,STATUS_OK,Trials"
   ]
  },
  {
   "cell_type": "code",
   "execution_count": 29,
   "id": "2dc12658",
   "metadata": {},
   "outputs": [],
   "source": [
    "space={'criterion':hp.choice('criterion',['entropy','gini']),                     ##choice--selection\n",
    "      'max_depth':hp.quniform('max_depth',10,1200,10),                            ##quniform--selects integer values\n",
    "      'max_features':hp.choice('max_features',['auto','sqrt','log2',None]),\n",
    "      'min_samples_leaf':hp.uniform('min_samples_leaf',0,0.5),                    ##uniform--selects floats\n",
    "      'min_samples_split':hp.uniform('min_samples_split',0,1),\n",
    "      'n_estimators':hp.choice('n_estimators',[10, 50, 300, 750, 1200,1300,1500])}"
   ]
  },
  {
   "cell_type": "code",
   "execution_count": 30,
   "id": "124b55e5",
   "metadata": {},
   "outputs": [
    {
     "data": {
      "text/plain": [
       "{'criterion': <hyperopt.pyll.base.Apply at 0x15f1b59e430>,\n",
       " 'max_depth': <hyperopt.pyll.base.Apply at 0x15f1b59e130>,\n",
       " 'max_features': <hyperopt.pyll.base.Apply at 0x15f1b4698b0>,\n",
       " 'min_samples_leaf': <hyperopt.pyll.base.Apply at 0x15f1b469a60>,\n",
       " 'min_samples_split': <hyperopt.pyll.base.Apply at 0x15f1b469e50>,\n",
       " 'n_estimators': <hyperopt.pyll.base.Apply at 0x15f1b469d60>}"
      ]
     },
     "execution_count": 30,
     "metadata": {},
     "output_type": "execute_result"
    }
   ],
   "source": [
    "space"
   ]
  },
  {
   "cell_type": "code",
   "execution_count": 31,
   "id": "9c311ff8",
   "metadata": {},
   "outputs": [],
   "source": [
    "def objective(space):\n",
    "    model=RandomForestClassifier(criterion=space['criterion'],\n",
    "                                max_depth=space['max_depth'],\n",
    "                                max_features=space['max_features'],\n",
    "                                min_samples_leaf=space['min_samples_leaf'],\n",
    "                                min_samples_split=space['min_samples_split'],\n",
    "                                n_estimators=space['n_estimators'])\n",
    "    \n",
    "    accuracy=cross_val_score(model,X_train,y_train,cv=5).mean()\n",
    "    \n",
    "    # We aim to maximize accuracy, therefore we return it as a negative value\n",
    "    return {'loss':-accuracy,'status':STATUS_OK}"
   ]
  },
  {
   "cell_type": "code",
   "execution_count": 32,
   "id": "647264f1",
   "metadata": {},
   "outputs": [
    {
     "name": "stdout",
     "output_type": "stream",
     "text": [
      "100%|███████████████████████████████████████████████| 80/80 [29:24<00:00, 22.06s/trial, best loss: -0.7703585232573638]\n"
     ]
    },
    {
     "data": {
      "text/plain": [
       "{'criterion': 0,\n",
       " 'max_depth': 1140.0,\n",
       " 'max_features': 2,\n",
       " 'min_samples_leaf': 0.08894422036326523,\n",
       " 'min_samples_split': 0.10644335206994177,\n",
       " 'n_estimators': 4}"
      ]
     },
     "execution_count": 32,
     "metadata": {},
     "output_type": "execute_result"
    }
   ],
   "source": [
    "from sklearn.model_selection import cross_val_score\n",
    "trials=Trials()\n",
    "best=fmin(fn=objective,\n",
    "         space=space,\n",
    "         algo=tpe.suggest,\n",
    "         max_evals=80,\n",
    "         trials=trials)\n",
    "best"
   ]
  },
  {
   "cell_type": "code",
   "execution_count": 33,
   "id": "d1898e44",
   "metadata": {},
   "outputs": [
    {
     "name": "stdout",
     "output_type": "stream",
     "text": [
      "entropy\n",
      "log2\n",
      "1200\n"
     ]
    }
   ],
   "source": [
    "crit={0:'entropy',1:'gini'}\n",
    "feat={0:'auto',1:'sqrt',2:'log2',3:None}\n",
    "est = {0: 10, 1: 50, 2: 300, 3: 750, 4: 1200,5:1300,6:1500}\n",
    "\n",
    "print(crit[best['criterion']])\n",
    "print(feat[best['max_features']])\n",
    "print(est[best['n_estimators']])"
   ]
  },
  {
   "cell_type": "code",
   "execution_count": 34,
   "id": "258d00f2",
   "metadata": {},
   "outputs": [
    {
     "data": {
      "text/plain": [
       "0.08894422036326523"
      ]
     },
     "execution_count": 34,
     "metadata": {},
     "output_type": "execute_result"
    }
   ],
   "source": [
    "best['min_samples_leaf']"
   ]
  },
  {
   "cell_type": "code",
   "execution_count": 38,
   "id": "e5f14266",
   "metadata": {},
   "outputs": [
    {
     "name": "stdout",
     "output_type": "stream",
     "text": [
      "[[96 11]\n",
      " [24 23]]\n",
      "0.7727272727272727\n",
      "              precision    recall  f1-score   support\n",
      "\n",
      "           0       0.80      0.90      0.85       107\n",
      "           1       0.68      0.49      0.57        47\n",
      "\n",
      "    accuracy                           0.77       154\n",
      "   macro avg       0.74      0.69      0.71       154\n",
      "weighted avg       0.76      0.77      0.76       154\n",
      "\n"
     ]
    }
   ],
   "source": [
    "trainedforest=RandomForestClassifier(criterion=crit[best['criterion']],\n",
    "                                     max_depth=best['max_depth'],\n",
    "                                     max_features=feat[best['max_features']],\n",
    "                                     min_samples_leaf=best['min_samples_leaf'],\n",
    "                                     min_samples_split=best['min_samples_split'],\n",
    "                                     n_estimators=est[best['n_estimators']]).fit(X_train,y_train)\n",
    "\n",
    "predictionforest = trainedforest.predict(X_test)\n",
    "print(confusion_matrix(y_test,predictionforest))\n",
    "print(accuracy_score(y_test,predictionforest))\n",
    "print(classification_report(y_test,predictionforest))\n",
    "acc5 = accuracy_score(y_test,predictionforest)"
   ]
  },
  {
   "cell_type": "markdown",
   "id": "e6508159",
   "metadata": {},
   "source": [
    "## Optimize hyperparameters of the model using Optuna\n",
    "\n",
    "The hyperparameters of the above algorithm are n_estimators and max_depth for which we can try different values to see if the model accuracy can be improved. The objective function is modified to accept a trial object. This trial has several methods for sampling hyperparameters. We create a study to run the hyperparameter optimization and finally read the best hyperparameters."
   ]
  },
  {
   "cell_type": "code",
   "execution_count": 42,
   "id": "7b3abd2b",
   "metadata": {},
   "outputs": [],
   "source": [
    "\n",
    "import optuna\n",
    "import sklearn.svm\n",
    "def objective(trial):\n",
    "\n",
    "    classifier = trial.suggest_categorical('classifier', ['RandomForest', 'SVC'])\n",
    "    \n",
    "    if classifier == 'RandomForest':\n",
    "        n_estimators = trial.suggest_int('n_estimators', 200, 2000,10)\n",
    "        max_depth = int(trial.suggest_float('max_depth', 10, 100, log=True))\n",
    "\n",
    "        clf = sklearn.ensemble.RandomForestClassifier(\n",
    "            n_estimators=n_estimators, max_depth=max_depth)\n",
    "    else:\n",
    "        c = trial.suggest_float('svc_c', 1e-10, 1e10, log=True)\n",
    "        \n",
    "        clf = sklearn.svm.SVC(C=c, gamma='auto')\n",
    "\n",
    "    return sklearn.model_selection.cross_val_score(\n",
    "        clf,X_train,y_train, n_jobs=-1, cv=3).mean()"
   ]
  },
  {
   "cell_type": "code",
   "execution_count": 43,
   "id": "b5a9bd47",
   "metadata": {},
   "outputs": [
    {
     "name": "stderr",
     "output_type": "stream",
     "text": [
      "\u001b[32m[I 2021-06-21 03:04:28,901]\u001b[0m A new study created in memory with name: no-name-8f9f2fec-d960-4464-a274-5bcff6228323\u001b[0m\n",
      "\u001b[32m[I 2021-06-21 03:05:12,150]\u001b[0m Trial 0 finished with value: 0.7491790212019768 and parameters: {'classifier': 'RandomForest', 'n_estimators': 950, 'max_depth': 90.84840052666893}. Best is trial 0 with value: 0.7491790212019768.\u001b[0m\n",
      "\u001b[32m[I 2021-06-21 03:05:22,425]\u001b[0m Trial 1 finished with value: 0.7491630798660928 and parameters: {'classifier': 'RandomForest', 'n_estimators': 920, 'max_depth': 14.245797627872903}. Best is trial 0 with value: 0.7491790212019768.\u001b[0m\n",
      "\u001b[32m[I 2021-06-21 03:05:34,772]\u001b[0m Trial 2 finished with value: 0.7540650406504065 and parameters: {'classifier': 'RandomForest', 'n_estimators': 1770, 'max_depth': 23.39991257944089}. Best is trial 2 with value: 0.7540650406504065.\u001b[0m\n",
      "\u001b[32m[I 2021-06-21 03:05:36,875]\u001b[0m Trial 3 finished with value: 0.640068547744301 and parameters: {'classifier': 'SVC', 'svc_c': 1554671939.415974}. Best is trial 2 with value: 0.7540650406504065.\u001b[0m\n",
      "\u001b[32m[I 2021-06-21 03:05:53,157]\u001b[0m Trial 4 finished with value: 0.7524310537223019 and parameters: {'classifier': 'RandomForest', 'n_estimators': 1970, 'max_depth': 48.50691057831621}. Best is trial 2 with value: 0.7540650406504065.\u001b[0m\n",
      "\u001b[32m[I 2021-06-21 03:06:04,302]\u001b[0m Trial 5 finished with value: 0.744300972421489 and parameters: {'classifier': 'RandomForest', 'n_estimators': 1530, 'max_depth': 60.1108993198119}. Best is trial 2 with value: 0.7540650406504065.\u001b[0m\n",
      "\u001b[32m[I 2021-06-21 03:06:04,489]\u001b[0m Trial 6 finished with value: 0.640068547744301 and parameters: {'classifier': 'SVC', 'svc_c': 8.395497898566497e-07}. Best is trial 2 with value: 0.7540650406504065.\u001b[0m\n",
      "\u001b[32m[I 2021-06-21 03:06:04,612]\u001b[0m Trial 7 finished with value: 0.640068547744301 and parameters: {'classifier': 'SVC', 'svc_c': 6.373275400678672e-07}. Best is trial 2 with value: 0.7540650406504065.\u001b[0m\n",
      "\u001b[32m[I 2021-06-21 03:06:04,721]\u001b[0m Trial 8 finished with value: 0.640068547744301 and parameters: {'classifier': 'SVC', 'svc_c': 1.2198734368350037e-07}. Best is trial 2 with value: 0.7540650406504065.\u001b[0m\n",
      "\u001b[32m[I 2021-06-21 03:06:08,398]\u001b[0m Trial 9 finished with value: 0.7459110473457676 and parameters: {'classifier': 'RandomForest', 'n_estimators': 490, 'max_depth': 65.12319744681527}. Best is trial 2 with value: 0.7540650406504065.\u001b[0m\n",
      "\u001b[32m[I 2021-06-21 03:06:25,039]\u001b[0m Trial 10 finished with value: 0.7524310537223019 and parameters: {'classifier': 'RandomForest', 'n_estimators': 1990, 'max_depth': 19.607834337817057}. Best is trial 2 with value: 0.7540650406504065.\u001b[0m\n",
      "\u001b[32m[I 2021-06-21 03:06:39,930]\u001b[0m Trial 11 finished with value: 0.7491869918699187 and parameters: {'classifier': 'RandomForest', 'n_estimators': 1930, 'max_depth': 31.05086993059467}. Best is trial 2 with value: 0.7540650406504065.\u001b[0m\n",
      "\u001b[32m[I 2021-06-21 03:06:49,237]\u001b[0m Trial 12 finished with value: 0.7475530049418141 and parameters: {'classifier': 'RandomForest', 'n_estimators': 1580, 'max_depth': 38.6856748144108}. Best is trial 2 with value: 0.7540650406504065.\u001b[0m\n",
      "\u001b[32m[I 2021-06-21 03:06:59,803]\u001b[0m Trial 13 finished with value: 0.7508050374621393 and parameters: {'classifier': 'RandomForest', 'n_estimators': 1630, 'max_depth': 27.719906383312253}. Best is trial 2 with value: 0.7540650406504065.\u001b[0m\n",
      "\u001b[32m[I 2021-06-21 03:07:12,193]\u001b[0m Trial 14 finished with value: 0.7491710505340348 and parameters: {'classifier': 'RandomForest', 'n_estimators': 2000, 'max_depth': 10.404398326522314}. Best is trial 2 with value: 0.7540650406504065.\u001b[0m\n",
      "\u001b[32m[I 2021-06-21 03:07:20,388]\u001b[0m Trial 15 finished with value: 0.7491790212019768 and parameters: {'classifier': 'RandomForest', 'n_estimators': 1330, 'max_depth': 43.85960909416356}. Best is trial 2 with value: 0.7540650406504065.\u001b[0m\n",
      "\u001b[32m[I 2021-06-21 03:07:32,176]\u001b[0m Trial 16 finished with value: 0.7524390243902439 and parameters: {'classifier': 'RandomForest', 'n_estimators': 1800, 'max_depth': 20.912038882679212}. Best is trial 2 with value: 0.7540650406504065.\u001b[0m\n",
      "\u001b[32m[I 2021-06-21 03:07:39,446]\u001b[0m Trial 17 finished with value: 0.7540650406504065 and parameters: {'classifier': 'RandomForest', 'n_estimators': 1210, 'max_depth': 22.646115860907475}. Best is trial 2 with value: 0.7540650406504065.\u001b[0m\n",
      "\u001b[32m[I 2021-06-21 03:07:43,643]\u001b[0m Trial 18 finished with value: 0.7540490993145226 and parameters: {'classifier': 'RandomForest', 'n_estimators': 570, 'max_depth': 20.113414505165814}. Best is trial 2 with value: 0.7540650406504065.\u001b[0m\n",
      "\u001b[32m[I 2021-06-21 03:07:51,483]\u001b[0m Trial 19 finished with value: 0.7508130081300813 and parameters: {'classifier': 'RandomForest', 'n_estimators': 1180, 'max_depth': 14.04280001195587}. Best is trial 2 with value: 0.7540650406504065.\u001b[0m\n",
      "\u001b[32m[I 2021-06-21 03:07:53,232]\u001b[0m Trial 20 finished with value: 0.7491710505340348 and parameters: {'classifier': 'RandomForest', 'n_estimators': 240, 'max_depth': 24.442478027444988}. Best is trial 2 with value: 0.7540650406504065.\u001b[0m\n",
      "\u001b[32m[I 2021-06-21 03:07:57,101]\u001b[0m Trial 21 finished with value: 0.7524310537223019 and parameters: {'classifier': 'RandomForest', 'n_estimators': 630, 'max_depth': 17.03408949800658}. Best is trial 2 with value: 0.7540650406504065.\u001b[0m\n",
      "\u001b[32m[I 2021-06-21 03:08:01,738]\u001b[0m Trial 22 finished with value: 0.7540570699824646 and parameters: {'classifier': 'RandomForest', 'n_estimators': 680, 'max_depth': 22.915647057810055}. Best is trial 2 with value: 0.7540650406504065.\u001b[0m\n",
      "\u001b[32m[I 2021-06-21 03:08:07,222]\u001b[0m Trial 23 finished with value: 0.7426590148254424 and parameters: {'classifier': 'RandomForest', 'n_estimators': 880, 'max_depth': 26.00619574173289}. Best is trial 2 with value: 0.7540650406504065.\u001b[0m\n",
      "\u001b[32m[I 2021-06-21 03:08:16,239]\u001b[0m Trial 24 finished with value: 0.7508050374621393 and parameters: {'classifier': 'RandomForest', 'n_estimators': 1350, 'max_depth': 36.32531860161528}. Best is trial 2 with value: 0.7540650406504065.\u001b[0m\n",
      "\u001b[32m[I 2021-06-21 03:08:17,700]\u001b[0m Trial 25 finished with value: 0.752415112386418 and parameters: {'classifier': 'RandomForest', 'n_estimators': 200, 'max_depth': 14.979222539148083}. Best is trial 2 with value: 0.7540650406504065.\u001b[0m\n",
      "\u001b[32m[I 2021-06-21 03:08:22,576]\u001b[0m Trial 26 finished with value: 0.7507890961262554 and parameters: {'classifier': 'RandomForest', 'n_estimators': 740, 'max_depth': 10.903494968197878}. Best is trial 2 with value: 0.7540650406504065.\u001b[0m\n",
      "\u001b[32m[I 2021-06-21 03:08:22,811]\u001b[0m Trial 27 finished with value: 0.640068547744301 and parameters: {'classifier': 'SVC', 'svc_c': 7912596440.737961}. Best is trial 2 with value: 0.7540650406504065.\u001b[0m\n",
      "\u001b[32m[I 2021-06-21 03:08:25,599]\u001b[0m Trial 28 finished with value: 0.7507890961262554 and parameters: {'classifier': 'RandomForest', 'n_estimators': 400, 'max_depth': 23.843075431596784}. Best is trial 2 with value: 0.7540650406504065.\u001b[0m\n",
      "\u001b[32m[I 2021-06-21 03:08:32,362]\u001b[0m Trial 29 finished with value: 0.7508050374621393 and parameters: {'classifier': 'RandomForest', 'n_estimators': 1140, 'max_depth': 31.892842801497572}. Best is trial 2 with value: 0.7540650406504065.\u001b[0m\n",
      "\u001b[32m[I 2021-06-21 03:08:37,659]\u001b[0m Trial 30 finished with value: 0.7491630798660928 and parameters: {'classifier': 'RandomForest', 'n_estimators': 730, 'max_depth': 12.152935328486896}. Best is trial 2 with value: 0.7540650406504065.\u001b[0m\n",
      "\u001b[32m[I 2021-06-21 03:08:40,793]\u001b[0m Trial 31 finished with value: 0.75242308305436 and parameters: {'classifier': 'RandomForest', 'n_estimators': 410, 'max_depth': 20.014374183057}. Best is trial 2 with value: 0.7540650406504065.\u001b[0m\n",
      "\u001b[32m[I 2021-06-21 03:08:44,910]\u001b[0m Trial 32 finished with value: 0.7491551091981509 and parameters: {'classifier': 'RandomForest', 'n_estimators': 650, 'max_depth': 17.13120307502296}. Best is trial 2 with value: 0.7540650406504065.\u001b[0m\n",
      "\u001b[32m[I 2021-06-21 03:08:47,878]\u001b[0m Trial 33 finished with value: 0.7442770604176631 and parameters: {'classifier': 'RandomForest', 'n_estimators': 490, 'max_depth': 21.45694757466592}. Best is trial 2 with value: 0.7540650406504065.\u001b[0m\n",
      "\u001b[32m[I 2021-06-21 03:08:53,968]\u001b[0m Trial 34 finished with value: 0.7491710505340348 and parameters: {'classifier': 'RandomForest', 'n_estimators': 1010, 'max_depth': 28.734451526406666}. Best is trial 2 with value: 0.7540650406504065.\u001b[0m\n"
     ]
    },
    {
     "name": "stderr",
     "output_type": "stream",
     "text": [
      "\u001b[32m[I 2021-06-21 03:09:02,557]\u001b[0m Trial 35 finished with value: 0.7507970667941973 and parameters: {'classifier': 'RandomForest', 'n_estimators': 1370, 'max_depth': 16.83733965425094}. Best is trial 2 with value: 0.7540650406504065.\u001b[0m\n",
      "\u001b[32m[I 2021-06-21 03:09:07,632]\u001b[0m Trial 36 finished with value: 0.7508050374621393 and parameters: {'classifier': 'RandomForest', 'n_estimators': 820, 'max_depth': 22.735434254996317}. Best is trial 2 with value: 0.7540650406504065.\u001b[0m\n",
      "\u001b[32m[I 2021-06-21 03:09:07,855]\u001b[0m Trial 37 finished with value: 0.640068547744301 and parameters: {'classifier': 'SVC', 'svc_c': 308.81430654568607}. Best is trial 2 with value: 0.7540650406504065.\u001b[0m\n",
      "\u001b[32m[I 2021-06-21 03:09:13,923]\u001b[0m Trial 38 finished with value: 0.7475290929379882 and parameters: {'classifier': 'RandomForest', 'n_estimators': 1030, 'max_depth': 18.953685132952348}. Best is trial 2 with value: 0.7540650406504065.\u001b[0m\n",
      "\u001b[32m[I 2021-06-21 03:09:14,164]\u001b[0m Trial 39 finished with value: 0.640068547744301 and parameters: {'classifier': 'SVC', 'svc_c': 147.3448253086547}. Best is trial 2 with value: 0.7540650406504065.\u001b[0m\n",
      "\u001b[32m[I 2021-06-21 03:09:16,048]\u001b[0m Trial 40 finished with value: 0.7459190180137095 and parameters: {'classifier': 'RandomForest', 'n_estimators': 310, 'max_depth': 34.7785453986494}. Best is trial 2 with value: 0.7540650406504065.\u001b[0m\n",
      "\u001b[32m[I 2021-06-21 03:09:28,896]\u001b[0m Trial 41 finished with value: 0.7459190180137095 and parameters: {'classifier': 'RandomForest', 'n_estimators': 1780, 'max_depth': 22.09106532202053}. Best is trial 2 with value: 0.7540650406504065.\u001b[0m\n",
      "\u001b[32m[I 2021-06-21 03:09:40,187]\u001b[0m Trial 42 finished with value: 0.7556830862426271 and parameters: {'classifier': 'RandomForest', 'n_estimators': 1810, 'max_depth': 26.126517718299326}. Best is trial 42 with value: 0.7556830862426271.\u001b[0m\n",
      "\u001b[32m[I 2021-06-21 03:09:52,055]\u001b[0m Trial 43 finished with value: 0.7491710505340348 and parameters: {'classifier': 'RandomForest', 'n_estimators': 1760, 'max_depth': 26.66925298465993}. Best is trial 42 with value: 0.7556830862426271.\u001b[0m\n",
      "\u001b[32m[I 2021-06-21 03:10:02,817]\u001b[0m Trial 44 finished with value: 0.7507970667941973 and parameters: {'classifier': 'RandomForest', 'n_estimators': 1470, 'max_depth': 30.061825552841107}. Best is trial 42 with value: 0.7556830862426271.\u001b[0m\n",
      "\u001b[32m[I 2021-06-21 03:10:06,806]\u001b[0m Trial 45 finished with value: 0.7459349593495935 and parameters: {'classifier': 'RandomForest', 'n_estimators': 570, 'max_depth': 18.29241172116083}. Best is trial 42 with value: 0.7556830862426271.\u001b[0m\n",
      "\u001b[32m[I 2021-06-21 03:10:17,279]\u001b[0m Trial 46 finished with value: 0.7508050374621393 and parameters: {'classifier': 'RandomForest', 'n_estimators': 1670, 'max_depth': 14.323143010291163}. Best is trial 42 with value: 0.7556830862426271.\u001b[0m\n",
      "\u001b[32m[I 2021-06-21 03:10:35,111]\u001b[0m Trial 47 finished with value: 0.7524310537223019 and parameters: {'classifier': 'RandomForest', 'n_estimators': 1870, 'max_depth': 24.559271682231003}. Best is trial 42 with value: 0.7556830862426271.\u001b[0m\n",
      "\u001b[32m[I 2021-06-21 03:10:50,306]\u001b[0m Trial 48 finished with value: 0.7524390243902439 and parameters: {'classifier': 'RandomForest', 'n_estimators': 1270, 'max_depth': 93.83588701553059}. Best is trial 42 with value: 0.7556830862426271.\u001b[0m\n",
      "\u001b[32m[I 2021-06-21 03:10:50,687]\u001b[0m Trial 49 finished with value: 0.640068547744301 and parameters: {'classifier': 'SVC', 'svc_c': 0.032786379840972095}. Best is trial 42 with value: 0.7556830862426271.\u001b[0m\n",
      "\u001b[32m[I 2021-06-21 03:11:04,549]\u001b[0m Trial 50 finished with value: 0.7540650406504065 and parameters: {'classifier': 'RandomForest', 'n_estimators': 1440, 'max_depth': 43.41278480703109}. Best is trial 42 with value: 0.7556830862426271.\u001b[0m\n",
      "\u001b[32m[I 2021-06-21 03:11:16,877]\u001b[0m Trial 51 finished with value: 0.7491790212019768 and parameters: {'classifier': 'RandomForest', 'n_estimators': 1430, 'max_depth': 58.240489533023606}. Best is trial 42 with value: 0.7556830862426271.\u001b[0m\n",
      "\u001b[32m[I 2021-06-21 03:11:29,696]\u001b[0m Trial 52 finished with value: 0.7459269886816515 and parameters: {'classifier': 'RandomForest', 'n_estimators': 1210, 'max_depth': 42.11594067612243}. Best is trial 42 with value: 0.7556830862426271.\u001b[0m\n",
      "\u001b[32m[I 2021-06-21 03:11:45,489]\u001b[0m Trial 53 finished with value: 0.75242308305436 and parameters: {'classifier': 'RandomForest', 'n_estimators': 1550, 'max_depth': 48.95841066083323}. Best is trial 42 with value: 0.7556830862426271.\u001b[0m\n",
      "\u001b[32m[I 2021-06-21 03:12:04,024]\u001b[0m Trial 54 finished with value: 0.7459269886816515 and parameters: {'classifier': 'RandomForest', 'n_estimators': 1650, 'max_depth': 27.19013444418256}. Best is trial 42 with value: 0.7556830862426271.\u001b[0m\n",
      "\u001b[32m[I 2021-06-21 03:12:19,615]\u001b[0m Trial 55 finished with value: 0.7426590148254424 and parameters: {'classifier': 'RandomForest', 'n_estimators': 1850, 'max_depth': 32.4523892431367}. Best is trial 42 with value: 0.7556830862426271.\u001b[0m\n",
      "\u001b[32m[I 2021-06-21 03:12:32,509]\u001b[0m Trial 56 finished with value: 0.7540730113183485 and parameters: {'classifier': 'RandomForest', 'n_estimators': 1920, 'max_depth': 20.7213797500935}. Best is trial 42 with value: 0.7556830862426271.\u001b[0m\n",
      "\u001b[32m[I 2021-06-21 03:12:45,515]\u001b[0m Trial 57 finished with value: 0.7491869918699187 and parameters: {'classifier': 'RandomForest', 'n_estimators': 1930, 'max_depth': 51.756576063316906}. Best is trial 42 with value: 0.7556830862426271.\u001b[0m\n",
      "\u001b[32m[I 2021-06-21 03:12:57,180]\u001b[0m Trial 58 finished with value: 0.7524310537223019 and parameters: {'classifier': 'RandomForest', 'n_estimators': 1690, 'max_depth': 40.19751814461922}. Best is trial 42 with value: 0.7556830862426271.\u001b[0m\n",
      "\u001b[32m[I 2021-06-21 03:13:11,155]\u001b[0m Trial 59 finished with value: 0.7524390243902439 and parameters: {'classifier': 'RandomForest', 'n_estimators': 1990, 'max_depth': 25.00752694879468}. Best is trial 42 with value: 0.7556830862426271.\u001b[0m\n",
      "\u001b[32m[I 2021-06-21 03:13:21,588]\u001b[0m Trial 60 finished with value: 0.7491710505340348 and parameters: {'classifier': 'RandomForest', 'n_estimators': 1490, 'max_depth': 72.06124839545492}. Best is trial 42 with value: 0.7556830862426271.\u001b[0m\n",
      "\u001b[32m[I 2021-06-21 03:13:33,320]\u001b[0m Trial 61 finished with value: 0.7524390243902439 and parameters: {'classifier': 'RandomForest', 'n_estimators': 1910, 'max_depth': 20.51174176852811}. Best is trial 42 with value: 0.7556830862426271.\u001b[0m\n",
      "\u001b[32m[I 2021-06-21 03:13:43,345]\u001b[0m Trial 62 finished with value: 0.7491790212019768 and parameters: {'classifier': 'RandomForest', 'n_estimators': 1720, 'max_depth': 18.4347059676269}. Best is trial 42 with value: 0.7556830862426271.\u001b[0m\n",
      "\u001b[32m[I 2021-06-21 03:13:54,021]\u001b[0m Trial 63 finished with value: 0.7524310537223019 and parameters: {'classifier': 'RandomForest', 'n_estimators': 1590, 'max_depth': 22.53469900553538}. Best is trial 42 with value: 0.7556830862426271.\u001b[0m\n",
      "\u001b[32m[I 2021-06-21 03:14:02,699]\u001b[0m Trial 64 finished with value: 0.7508130081300813 and parameters: {'classifier': 'RandomForest', 'n_estimators': 1250, 'max_depth': 15.150070633981812}. Best is trial 42 with value: 0.7556830862426271.\u001b[0m\n",
      "\u001b[32m[I 2021-06-21 03:14:10,910]\u001b[0m Trial 65 finished with value: 0.7508130081300813 and parameters: {'classifier': 'RandomForest', 'n_estimators': 1080, 'max_depth': 28.286765014548116}. Best is trial 42 with value: 0.7556830862426271.\u001b[0m\n",
      "\u001b[32m[I 2021-06-21 03:14:23,552]\u001b[0m Trial 66 finished with value: 0.755699027578511 and parameters: {'classifier': 'RandomForest', 'n_estimators': 1830, 'max_depth': 20.39308358838134}. Best is trial 66 with value: 0.755699027578511.\u001b[0m\n",
      "\u001b[32m[I 2021-06-21 03:14:35,321]\u001b[0m Trial 67 finished with value: 0.7524310537223019 and parameters: {'classifier': 'RandomForest', 'n_estimators': 1830, 'max_depth': 23.462145233576592}. Best is trial 66 with value: 0.755699027578511.\u001b[0m\n",
      "\u001b[32m[I 2021-06-21 03:14:49,804]\u001b[0m Trial 68 finished with value: 0.7573170731707317 and parameters: {'classifier': 'RandomForest', 'n_estimators': 1960, 'max_depth': 36.19982225815653}. Best is trial 68 with value: 0.7573170731707317.\u001b[0m\n",
      "\u001b[32m[I 2021-06-21 03:15:02,282]\u001b[0m Trial 69 finished with value: 0.7524310537223019 and parameters: {'classifier': 'RandomForest', 'n_estimators': 1950, 'max_depth': 37.06123094343396}. Best is trial 68 with value: 0.7573170731707317.\u001b[0m\n"
     ]
    },
    {
     "name": "stderr",
     "output_type": "stream",
     "text": [
      "\u001b[32m[I 2021-06-21 03:15:12,597]\u001b[0m Trial 70 finished with value: 0.7524390243902439 and parameters: {'classifier': 'RandomForest', 'n_estimators': 1740, 'max_depth': 32.182895103888676}. Best is trial 68 with value: 0.7573170731707317.\u001b[0m\n",
      "\u001b[32m[I 2021-06-21 03:15:23,919]\u001b[0m Trial 71 finished with value: 0.7524390243902439 and parameters: {'classifier': 'RandomForest', 'n_estimators': 1890, 'max_depth': 20.8224345957276}. Best is trial 68 with value: 0.7573170731707317.\u001b[0m\n",
      "\u001b[32m[I 2021-06-21 03:15:35,718]\u001b[0m Trial 72 finished with value: 0.7475450342738722 and parameters: {'classifier': 'RandomForest', 'n_estimators': 1990, 'max_depth': 25.700930052100485}. Best is trial 68 with value: 0.7573170731707317.\u001b[0m\n",
      "\u001b[32m[I 2021-06-21 03:15:47,703]\u001b[0m Trial 73 finished with value: 0.7475450342738722 and parameters: {'classifier': 'RandomForest', 'n_estimators': 1800, 'max_depth': 46.59140536063879}. Best is trial 68 with value: 0.7573170731707317.\u001b[0m\n",
      "\u001b[32m[I 2021-06-21 03:16:00,219]\u001b[0m Trial 74 finished with value: 0.7508050374621393 and parameters: {'classifier': 'RandomForest', 'n_estimators': 1630, 'max_depth': 16.176704629189658}. Best is trial 68 with value: 0.7573170731707317.\u001b[0m\n",
      "\u001b[32m[I 2021-06-21 03:16:14,689]\u001b[0m Trial 75 finished with value: 0.7475370636059302 and parameters: {'classifier': 'RandomForest', 'n_estimators': 1820, 'max_depth': 34.51386768991061}. Best is trial 68 with value: 0.7573170731707317.\u001b[0m\n",
      "\u001b[32m[I 2021-06-21 03:16:14,956]\u001b[0m Trial 76 finished with value: 0.640068547744301 and parameters: {'classifier': 'SVC', 'svc_c': 3236195.848534766}. Best is trial 68 with value: 0.7573170731707317.\u001b[0m\n",
      "\u001b[32m[I 2021-06-21 03:16:25,171]\u001b[0m Trial 77 finished with value: 0.7540490993145226 and parameters: {'classifier': 'RandomForest', 'n_estimators': 1410, 'max_depth': 19.440607293343746}. Best is trial 68 with value: 0.7573170731707317.\u001b[0m\n",
      "\u001b[32m[I 2021-06-21 03:16:33,010]\u001b[0m Trial 78 finished with value: 0.7524390243902439 and parameters: {'classifier': 'RandomForest', 'n_estimators': 950, 'max_depth': 29.882354964704188}. Best is trial 68 with value: 0.7573170731707317.\u001b[0m\n",
      "\u001b[32m[I 2021-06-21 03:16:46,182]\u001b[0m Trial 79 finished with value: 0.7508209787980232 and parameters: {'classifier': 'RandomForest', 'n_estimators': 1940, 'max_depth': 21.705634190742842}. Best is trial 68 with value: 0.7573170731707317.\u001b[0m\n",
      "\u001b[32m[I 2021-06-21 03:16:53,857]\u001b[0m Trial 80 finished with value: 0.7507970667941973 and parameters: {'classifier': 'RandomForest', 'n_estimators': 1150, 'max_depth': 24.16352207062094}. Best is trial 68 with value: 0.7573170731707317.\u001b[0m\n",
      "\u001b[32m[I 2021-06-21 03:17:03,672]\u001b[0m Trial 81 finished with value: 0.7508209787980232 and parameters: {'classifier': 'RandomForest', 'n_estimators': 1400, 'max_depth': 19.414935812426933}. Best is trial 68 with value: 0.7573170731707317.\u001b[0m\n",
      "\u001b[32m[I 2021-06-21 03:17:12,790]\u001b[0m Trial 82 finished with value: 0.7540730113183485 and parameters: {'classifier': 'RandomForest', 'n_estimators': 1330, 'max_depth': 17.706961789822934}. Best is trial 68 with value: 0.7573170731707317.\u001b[0m\n",
      "\u001b[32m[I 2021-06-21 03:17:21,448]\u001b[0m Trial 83 finished with value: 0.7491790212019768 and parameters: {'classifier': 'RandomForest', 'n_estimators': 1240, 'max_depth': 18.484918184210773}. Best is trial 68 with value: 0.7573170731707317.\u001b[0m\n",
      "\u001b[32m[I 2021-06-21 03:17:30,300]\u001b[0m Trial 84 finished with value: 0.7475689462776981 and parameters: {'classifier': 'RandomForest', 'n_estimators': 1280, 'max_depth': 12.754753666643085}. Best is trial 68 with value: 0.7573170731707317.\u001b[0m\n",
      "\u001b[32m[I 2021-06-21 03:17:39,496]\u001b[0m Trial 85 finished with value: 0.7491710505340348 and parameters: {'classifier': 'RandomForest', 'n_estimators': 1120, 'max_depth': 16.994490669383033}. Best is trial 68 with value: 0.7573170731707317.\u001b[0m\n",
      "\u001b[32m[I 2021-06-21 03:17:45,335]\u001b[0m Trial 86 finished with value: 0.7491790212019768 and parameters: {'classifier': 'RandomForest', 'n_estimators': 870, 'max_depth': 25.82719042275072}. Best is trial 68 with value: 0.7573170731707317.\u001b[0m\n",
      "\u001b[32m[I 2021-06-21 03:17:54,056]\u001b[0m Trial 87 finished with value: 0.7459190180137095 and parameters: {'classifier': 'RandomForest', 'n_estimators': 1310, 'max_depth': 23.148273310811895}. Best is trial 68 with value: 0.7573170731707317.\u001b[0m\n",
      "\u001b[32m[I 2021-06-21 03:18:04,823]\u001b[0m Trial 88 finished with value: 0.7540650406504065 and parameters: {'classifier': 'RandomForest', 'n_estimators': 1510, 'max_depth': 21.972213605834874}. Best is trial 68 with value: 0.7573170731707317.\u001b[0m\n",
      "\u001b[32m[I 2021-06-21 03:18:16,604]\u001b[0m Trial 89 finished with value: 0.7491630798660928 and parameters: {'classifier': 'RandomForest', 'n_estimators': 1520, 'max_depth': 21.85166281759656}. Best is trial 68 with value: 0.7573170731707317.\u001b[0m\n",
      "\u001b[32m[I 2021-06-21 03:18:16,755]\u001b[0m Trial 90 finished with value: 0.640068547744301 and parameters: {'classifier': 'SVC', 'svc_c': 3.1811191770442617e-10}. Best is trial 68 with value: 0.7573170731707317.\u001b[0m\n",
      "\u001b[32m[I 2021-06-21 03:18:26,870]\u001b[0m Trial 91 finished with value: 0.7475530049418141 and parameters: {'classifier': 'RandomForest', 'n_estimators': 1350, 'max_depth': 20.12204660268986}. Best is trial 68 with value: 0.7573170731707317.\u001b[0m\n",
      "\u001b[32m[I 2021-06-21 03:18:39,085]\u001b[0m Trial 92 finished with value: 0.7491790212019768 and parameters: {'classifier': 'RandomForest', 'n_estimators': 1610, 'max_depth': 17.699372309712906}. Best is trial 68 with value: 0.7573170731707317.\u001b[0m\n",
      "\u001b[32m[I 2021-06-21 03:18:49,706]\u001b[0m Trial 93 finished with value: 0.7491710505340348 and parameters: {'classifier': 'RandomForest', 'n_estimators': 1480, 'max_depth': 26.713140282684876}. Best is trial 68 with value: 0.7573170731707317.\u001b[0m\n",
      "\u001b[32m[I 2021-06-21 03:19:01,751]\u001b[0m Trial 94 finished with value: 0.7508050374621393 and parameters: {'classifier': 'RandomForest', 'n_estimators': 1870, 'max_depth': 20.88955019390983}. Best is trial 68 with value: 0.7573170731707317.\u001b[0m\n",
      "\u001b[32m[I 2021-06-21 03:19:13,466]\u001b[0m Trial 95 finished with value: 0.7475530049418141 and parameters: {'classifier': 'RandomForest', 'n_estimators': 1560, 'max_depth': 16.216389968578383}. Best is trial 68 with value: 0.7573170731707317.\u001b[0m\n",
      "\u001b[32m[I 2021-06-21 03:19:21,582]\u001b[0m Trial 96 finished with value: 0.7475450342738722 and parameters: {'classifier': 'RandomForest', 'n_estimators': 1190, 'max_depth': 28.377071794369066}. Best is trial 68 with value: 0.7573170731707317.\u001b[0m\n",
      "\u001b[32m[I 2021-06-21 03:19:32,139]\u001b[0m Trial 97 finished with value: 0.7524390243902439 and parameters: {'classifier': 'RandomForest', 'n_estimators': 1760, 'max_depth': 23.30564793761478}. Best is trial 68 with value: 0.7573170731707317.\u001b[0m\n",
      "\u001b[32m[I 2021-06-21 03:19:39,805]\u001b[0m Trial 98 finished with value: 0.7475530049418141 and parameters: {'classifier': 'RandomForest', 'n_estimators': 1310, 'max_depth': 42.976015046280544}. Best is trial 68 with value: 0.7573170731707317.\u001b[0m\n",
      "\u001b[32m[I 2021-06-21 03:19:49,891]\u001b[0m Trial 99 finished with value: 0.7524390243902439 and parameters: {'classifier': 'RandomForest', 'n_estimators': 1690, 'max_depth': 34.19418575535904}. Best is trial 68 with value: 0.7573170731707317.\u001b[0m\n"
     ]
    },
    {
     "name": "stdout",
     "output_type": "stream",
     "text": [
      "Accuracy: 0.7573170731707317\n",
      "Best hyperparameters: {'classifier': 'RandomForest', 'n_estimators': 1960, 'max_depth': 36.19982225815653}\n"
     ]
    }
   ],
   "source": [
    "study=optuna.create_study(direction='maximize')\n",
    "study.optimize(objective,n_trials=100)\n",
    "\n",
    "trial=study.best_trial\n",
    "\n",
    "print('Accuracy: {}'.format(trial.value))\n",
    "print(\"Best hyperparameters: {}\".format(trial.params))"
   ]
  },
  {
   "cell_type": "code",
   "execution_count": 44,
   "id": "a5f2b9e1",
   "metadata": {},
   "outputs": [
    {
     "data": {
      "text/plain": [
       "FrozenTrial(number=68, values=[0.7573170731707317], datetime_start=datetime.datetime(2021, 6, 21, 3, 14, 35, 323991), datetime_complete=datetime.datetime(2021, 6, 21, 3, 14, 49, 804605), params={'classifier': 'RandomForest', 'n_estimators': 1960, 'max_depth': 36.19982225815653}, distributions={'classifier': CategoricalDistribution(choices=('RandomForest', 'SVC')), 'n_estimators': IntUniformDistribution(high=2000, low=200, step=10), 'max_depth': LogUniformDistribution(high=100.0, low=10.0)}, user_attrs={}, system_attrs={}, intermediate_values={}, trial_id=68, state=TrialState.COMPLETE, value=None)"
      ]
     },
     "execution_count": 44,
     "metadata": {},
     "output_type": "execute_result"
    }
   ],
   "source": [
    "trial"
   ]
  },
  {
   "cell_type": "code",
   "execution_count": 45,
   "id": "35d17eae",
   "metadata": {},
   "outputs": [
    {
     "data": {
      "text/plain": [
       "{'classifier': 'RandomForest',\n",
       " 'n_estimators': 1960,\n",
       " 'max_depth': 36.19982225815653}"
      ]
     },
     "execution_count": 45,
     "metadata": {},
     "output_type": "execute_result"
    }
   ],
   "source": [
    "study.best_params"
   ]
  },
  {
   "cell_type": "code",
   "execution_count": 46,
   "id": "c246c369",
   "metadata": {},
   "outputs": [
    {
     "data": {
      "text/plain": [
       "RandomForestClassifier(max_depth=30, n_estimators=330)"
      ]
     },
     "execution_count": 46,
     "metadata": {},
     "output_type": "execute_result"
    }
   ],
   "source": [
    "rf=RandomForestClassifier(n_estimators=330,max_depth=30)\n",
    "rf.fit(X_train,y_train)"
   ]
  },
  {
   "cell_type": "code",
   "execution_count": 47,
   "id": "9807b83c",
   "metadata": {},
   "outputs": [
    {
     "name": "stdout",
     "output_type": "stream",
     "text": [
      "[[95 12]\n",
      " [15 32]]\n",
      "0.8246753246753247\n",
      "              precision    recall  f1-score   support\n",
      "\n",
      "           0       0.86      0.89      0.88       107\n",
      "           1       0.73      0.68      0.70        47\n",
      "\n",
      "    accuracy                           0.82       154\n",
      "   macro avg       0.80      0.78      0.79       154\n",
      "weighted avg       0.82      0.82      0.82       154\n",
      "\n"
     ]
    }
   ],
   "source": [
    "y_pred=rf.predict(X_test)\n",
    "print(confusion_matrix(y_test,y_pred))\n",
    "print(accuracy_score(y_test,y_pred))\n",
    "print(classification_report(y_test,y_pred))"
   ]
  }
 ],
 "metadata": {
  "kernelspec": {
   "display_name": "Python 3",
   "language": "python",
   "name": "python3"
  },
  "language_info": {
   "codemirror_mode": {
    "name": "ipython",
    "version": 3
   },
   "file_extension": ".py",
   "mimetype": "text/x-python",
   "name": "python",
   "nbconvert_exporter": "python",
   "pygments_lexer": "ipython3",
   "version": "3.9.5"
  }
 },
 "nbformat": 4,
 "nbformat_minor": 5
}
