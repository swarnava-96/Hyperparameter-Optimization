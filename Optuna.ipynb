{
  "nbformat": 4,
  "nbformat_minor": 0,
  "metadata": {
    "kernelspec": {
      "display_name": "Python 3",
      "language": "python",
      "name": "python3"
    },
    "language_info": {
      "codemirror_mode": {
        "name": "ipython",
        "version": 3
      },
      "file_extension": ".py",
      "mimetype": "text/x-python",
      "name": "python",
      "nbconvert_exporter": "python",
      "pygments_lexer": "ipython3",
      "version": "3.7.4"
    },
    "colab": {
      "name": "Optuna",
      "provenance": []
    }
  },
  "cells": [
    {
      "cell_type": "markdown",
      "metadata": {
        "id": "6PbbelXpWmBW"
      },
      "source": [
        "# A Quick Introduction to Optuna\n",
        "\n",
        "This Jupyter notebook goes through the basic usage of Optuna.\n",
        "\n",
        "- Install Optuna\n",
        "- Write a training algorithm that involves hyperparameters\n",
        "  - Read train/valid data\n",
        "  - Define and train model\n",
        "  - Evaluate model\n",
        "- Use Optuna to tune the hyperparameters (hyperparameter optimization, HPO)\n",
        "- Visualize HPO"
      ]
    },
    {
      "cell_type": "markdown",
      "metadata": {
        "id": "ZO4nnSonWmBj"
      },
      "source": [
        "## Install `optuna`\n",
        "\n",
        "Optuna can be installed via `pip` or `conda`."
      ]
    },
    {
      "cell_type": "code",
      "metadata": {
        "id": "HI5F6T7GWmBm",
        "colab": {
          "base_uri": "https://localhost:8080/"
        },
        "outputId": "286593d8-b240-4460-c8c3-cdaa44199bd5"
      },
      "source": [
        "!pip install --quiet optuna"
      ],
      "execution_count": 1,
      "outputs": [
        {
          "output_type": "stream",
          "text": [
            "\u001b[K     |████████████████████████████████| 307kB 3.9MB/s \n",
            "\u001b[K     |████████████████████████████████| 174kB 18.4MB/s \n",
            "\u001b[K     |████████████████████████████████| 81kB 8.1MB/s \n",
            "\u001b[K     |████████████████████████████████| 81kB 8.6MB/s \n",
            "\u001b[K     |████████████████████████████████| 143kB 17.5MB/s \n",
            "\u001b[K     |████████████████████████████████| 51kB 6.1MB/s \n",
            "\u001b[K     |████████████████████████████████| 112kB 19.5MB/s \n",
            "\u001b[?25h  Building wheel for pyperclip (setup.py) ... \u001b[?25l\u001b[?25hdone\n"
          ],
          "name": "stdout"
        }
      ]
    },
    {
      "cell_type": "code",
      "metadata": {
        "id": "OazAyMRwWmBo",
        "colab": {
          "base_uri": "https://localhost:8080/",
          "height": 35
        },
        "outputId": "756d5cf9-17a6-4889-b794-945253a16dc5"
      },
      "source": [
        "import optuna\n",
        "\n",
        "optuna.__version__"
      ],
      "execution_count": 2,
      "outputs": [
        {
          "output_type": "execute_result",
          "data": {
            "application/vnd.google.colaboratory.intrinsic+json": {
              "type": "string"
            },
            "text/plain": [
              "'2.8.0'"
            ]
          },
          "metadata": {
            "tags": []
          },
          "execution_count": 2
        }
      ]
    },
    {
      "cell_type": "markdown",
      "metadata": {
        "id": "pZtzRQP_WmBq"
      },
      "source": [
        "## Optimize Hyperparameters\n",
        "\n",
        "### Define a simple scikit-learn model\n",
        "\n",
        "We start with a simple random forest model to classify flowers in the Iris dataset. We define a function called `objective` that encapsulates the whole training process and outputs the accuracy of the model."
      ]
    },
    {
      "cell_type": "code",
      "metadata": {
        "id": "ec608fOwWmBr",
        "colab": {
          "base_uri": "https://localhost:8080/"
        },
        "outputId": "93a549df-fd66-4fe9-e5e9-af16a38ff847"
      },
      "source": [
        "import sklearn.datasets\n",
        "import sklearn.ensemble\n",
        "import sklearn.model_selection\n",
        "\n",
        "def objective():\n",
        "    iris = sklearn.datasets.load_iris()  # Prepare the data.\n",
        "    \n",
        "    clf = sklearn.ensemble.RandomForestClassifier(    \n",
        "        n_estimators=5, max_depth=3)  # Define the model.\n",
        "    \n",
        "    return sklearn.model_selection.cross_val_score(\n",
        "        clf, iris.data, iris.target, n_jobs=-1, cv=3).mean()  # Train and evaluate the model.\n",
        "\n",
        "print('Accuracy: {}'.format(objective()))"
      ],
      "execution_count": 3,
      "outputs": [
        {
          "output_type": "stream",
          "text": [
            "Accuracy: 0.9466666666666667\n"
          ],
          "name": "stdout"
        }
      ]
    },
    {
      "cell_type": "markdown",
      "metadata": {
        "id": "gcrl75hJWmBt"
      },
      "source": [
        "### Optimize hyperparameters of the model\n",
        "\n",
        "The hyperparameters of the above algorithm are `n_estimators` and `max_depth` for which we can try different values to see if the model accuracy can be improved. The `objective` function is modified to accept a trial object. This trial has several methods for sampling hyperparameters. We create a study to run the hyperparameter optimization and finally read the best hyperparameters."
      ]
    },
    {
      "cell_type": "code",
      "metadata": {
        "id": "NNaArWEoWmBv",
        "colab": {
          "base_uri": "https://localhost:8080/"
        },
        "outputId": "0ad4f4ce-bd98-4d5c-a56e-ebfb140e7598"
      },
      "source": [
        "import optuna\n",
        "\n",
        "def objective(trial):\n",
        "    iris = sklearn.datasets.load_iris()\n",
        "    \n",
        "    n_estimators = trial.suggest_int('n_estimators', 2, 20)\n",
        "    max_depth = int(trial.suggest_float('max_depth', 1, 32, log=True))\n",
        "    \n",
        "    clf = sklearn.ensemble.RandomForestClassifier(\n",
        "        n_estimators=n_estimators, max_depth=max_depth)\n",
        "    \n",
        "    return sklearn.model_selection.cross_val_score(\n",
        "        clf, iris.data, iris.target, n_jobs=-1, cv=3).mean()\n",
        "\n",
        "study = optuna.create_study(direction='maximize')\n",
        "study.optimize(objective, n_trials=100)\n",
        "\n",
        "trial = study.best_trial\n",
        "\n",
        "print('Accuracy: {}'.format(trial.value))\n",
        "print(\"Best hyperparameters: {}\".format(trial.params))"
      ],
      "execution_count": 4,
      "outputs": [
        {
          "output_type": "stream",
          "text": [
            "\u001b[32m[I 2021-06-20 22:02:28,005]\u001b[0m A new study created in memory with name: no-name-94eab2f0-4f88-4c24-a7c6-1dc743e4ae3f\u001b[0m\n",
            "\u001b[32m[I 2021-06-20 22:02:28,070]\u001b[0m Trial 0 finished with value: 0.9266666666666666 and parameters: {'n_estimators': 14, 'max_depth': 1.1580995707822532}. Best is trial 0 with value: 0.9266666666666666.\u001b[0m\n",
            "\u001b[32m[I 2021-06-20 22:02:28,099]\u001b[0m Trial 1 finished with value: 0.9533333333333333 and parameters: {'n_estimators': 5, 'max_depth': 10.143521700245973}. Best is trial 1 with value: 0.9533333333333333.\u001b[0m\n",
            "\u001b[32m[I 2021-06-20 22:02:28,156]\u001b[0m Trial 2 finished with value: 0.7600000000000001 and parameters: {'n_estimators': 13, 'max_depth': 1.4779775117084137}. Best is trial 1 with value: 0.9533333333333333.\u001b[0m\n",
            "\u001b[32m[I 2021-06-20 22:02:28,181]\u001b[0m Trial 3 finished with value: 0.9466666666666667 and parameters: {'n_estimators': 3, 'max_depth': 26.042441674849826}. Best is trial 1 with value: 0.9533333333333333.\u001b[0m\n",
            "\u001b[32m[I 2021-06-20 22:02:28,243]\u001b[0m Trial 4 finished with value: 0.96 and parameters: {'n_estimators': 13, 'max_depth': 24.83214199505995}. Best is trial 4 with value: 0.96.\u001b[0m\n",
            "\u001b[32m[I 2021-06-20 22:02:28,280]\u001b[0m Trial 5 finished with value: 0.96 and parameters: {'n_estimators': 7, 'max_depth': 13.560098384264604}. Best is trial 4 with value: 0.96.\u001b[0m\n",
            "\u001b[32m[I 2021-06-20 22:02:28,334]\u001b[0m Trial 6 finished with value: 0.96 and parameters: {'n_estimators': 12, 'max_depth': 19.18062995813959}. Best is trial 4 with value: 0.96.\u001b[0m\n",
            "\u001b[32m[I 2021-06-20 22:02:28,375]\u001b[0m Trial 7 finished with value: 0.9533333333333333 and parameters: {'n_estimators': 8, 'max_depth': 5.724738060572301}. Best is trial 4 with value: 0.96.\u001b[0m\n",
            "\u001b[32m[I 2021-06-20 22:02:28,436]\u001b[0m Trial 8 finished with value: 0.96 and parameters: {'n_estimators': 14, 'max_depth': 3.4330929697150383}. Best is trial 4 with value: 0.96.\u001b[0m\n",
            "\u001b[32m[I 2021-06-20 22:02:28,457]\u001b[0m Trial 9 finished with value: 0.9533333333333333 and parameters: {'n_estimators': 2, 'max_depth': 12.328194716261462}. Best is trial 4 with value: 0.96.\u001b[0m\n",
            "\u001b[32m[I 2021-06-20 22:02:28,537]\u001b[0m Trial 10 finished with value: 0.96 and parameters: {'n_estimators': 20, 'max_depth': 28.1860738171424}. Best is trial 4 with value: 0.96.\u001b[0m\n",
            "\u001b[32m[I 2021-06-20 22:02:28,580]\u001b[0m Trial 11 finished with value: 0.9533333333333333 and parameters: {'n_estimators': 8, 'max_depth': 13.391435198621789}. Best is trial 4 with value: 0.96.\u001b[0m\n",
            "\u001b[32m[I 2021-06-20 22:02:28,635]\u001b[0m Trial 12 finished with value: 0.96 and parameters: {'n_estimators': 8, 'max_depth': 6.5069951112584015}. Best is trial 4 with value: 0.96.\u001b[0m\n",
            "\u001b[32m[I 2021-06-20 22:02:28,711]\u001b[0m Trial 13 finished with value: 0.9666666666666667 and parameters: {'n_estimators': 17, 'max_depth': 31.44353740251283}. Best is trial 13 with value: 0.9666666666666667.\u001b[0m\n",
            "\u001b[32m[I 2021-06-20 22:02:28,789]\u001b[0m Trial 14 finished with value: 0.96 and parameters: {'n_estimators': 18, 'max_depth': 30.322822588744156}. Best is trial 13 with value: 0.9666666666666667.\u001b[0m\n",
            "\u001b[32m[I 2021-06-20 22:02:28,868]\u001b[0m Trial 15 finished with value: 0.9666666666666667 and parameters: {'n_estimators': 16, 'max_depth': 20.0766752385063}. Best is trial 13 with value: 0.9666666666666667.\u001b[0m\n",
            "\u001b[32m[I 2021-06-20 22:02:28,942]\u001b[0m Trial 16 finished with value: 0.96 and parameters: {'n_estimators': 17, 'max_depth': 2.3096354303017614}. Best is trial 13 with value: 0.9666666666666667.\u001b[0m\n",
            "\u001b[32m[I 2021-06-20 22:02:29,021]\u001b[0m Trial 17 finished with value: 0.9666666666666667 and parameters: {'n_estimators': 17, 'max_depth': 18.777497013659698}. Best is trial 13 with value: 0.9666666666666667.\u001b[0m\n",
            "\u001b[32m[I 2021-06-20 22:02:29,111]\u001b[0m Trial 18 finished with value: 0.9666666666666667 and parameters: {'n_estimators': 20, 'max_depth': 8.34270483874906}. Best is trial 13 with value: 0.9666666666666667.\u001b[0m\n",
            "\u001b[32m[I 2021-06-20 22:02:29,201]\u001b[0m Trial 19 finished with value: 0.96 and parameters: {'n_estimators': 20, 'max_depth': 8.428496742014218}. Best is trial 13 with value: 0.9666666666666667.\u001b[0m\n",
            "\u001b[32m[I 2021-06-20 22:02:29,271]\u001b[0m Trial 20 finished with value: 0.9533333333333333 and parameters: {'n_estimators': 16, 'max_depth': 18.29259426846683}. Best is trial 13 with value: 0.9666666666666667.\u001b[0m\n",
            "\u001b[32m[I 2021-06-20 22:02:29,351]\u001b[0m Trial 21 finished with value: 0.9533333333333333 and parameters: {'n_estimators': 19, 'max_depth': 4.030263098618039}. Best is trial 13 with value: 0.9666666666666667.\u001b[0m\n",
            "\u001b[32m[I 2021-06-20 22:02:29,417]\u001b[0m Trial 22 finished with value: 0.9666666666666667 and parameters: {'n_estimators': 15, 'max_depth': 18.147172923465234}. Best is trial 13 with value: 0.9666666666666667.\u001b[0m\n",
            "\u001b[32m[I 2021-06-20 22:02:29,482]\u001b[0m Trial 23 finished with value: 0.96 and parameters: {'n_estimators': 15, 'max_depth': 7.880390221411685}. Best is trial 13 with value: 0.9666666666666667.\u001b[0m\n",
            "\u001b[32m[I 2021-06-20 22:02:29,531]\u001b[0m Trial 24 finished with value: 0.9533333333333333 and parameters: {'n_estimators': 10, 'max_depth': 16.685720967638755}. Best is trial 13 with value: 0.9666666666666667.\u001b[0m\n",
            "\u001b[32m[I 2021-06-20 22:02:29,604]\u001b[0m Trial 25 finished with value: 0.9533333333333333 and parameters: {'n_estimators': 18, 'max_depth': 31.628061842081923}. Best is trial 13 with value: 0.9666666666666667.\u001b[0m\n",
            "\u001b[32m[I 2021-06-20 22:02:29,663]\u001b[0m Trial 26 finished with value: 0.9666666666666667 and parameters: {'n_estimators': 11, 'max_depth': 23.034264839707063}. Best is trial 13 with value: 0.9666666666666667.\u001b[0m\n",
            "\u001b[32m[I 2021-06-20 22:02:29,747]\u001b[0m Trial 27 finished with value: 0.9666666666666667 and parameters: {'n_estimators': 20, 'max_depth': 4.231231233883554}. Best is trial 13 with value: 0.9666666666666667.\u001b[0m\n",
            "\u001b[32m[I 2021-06-20 22:02:29,823]\u001b[0m Trial 28 finished with value: 0.9533333333333333 and parameters: {'n_estimators': 18, 'max_depth': 11.058073053454667}. Best is trial 13 with value: 0.9666666666666667.\u001b[0m\n",
            "\u001b[32m[I 2021-06-20 22:02:29,876]\u001b[0m Trial 29 finished with value: 0.9666666666666667 and parameters: {'n_estimators': 10, 'max_depth': 21.406347519095448}. Best is trial 13 with value: 0.9666666666666667.\u001b[0m\n",
            "\u001b[32m[I 2021-06-20 22:02:29,925]\u001b[0m Trial 30 finished with value: 0.9666666666666667 and parameters: {'n_estimators': 10, 'max_depth': 4.192136172059238}. Best is trial 13 with value: 0.9666666666666667.\u001b[0m\n",
            "\u001b[32m[I 2021-06-20 22:02:29,990]\u001b[0m Trial 31 finished with value: 0.96 and parameters: {'n_estimators': 15, 'max_depth': 3.1706621658540817}. Best is trial 13 with value: 0.9666666666666667.\u001b[0m\n",
            "\u001b[32m[I 2021-06-20 22:02:30,052]\u001b[0m Trial 32 finished with value: 0.96 and parameters: {'n_estimators': 11, 'max_depth': 24.222697823496524}. Best is trial 13 with value: 0.9666666666666667.\u001b[0m\n",
            "\u001b[32m[I 2021-06-20 22:02:30,108]\u001b[0m Trial 33 finished with value: 0.96 and parameters: {'n_estimators': 10, 'max_depth': 4.542001717925404}. Best is trial 13 with value: 0.9666666666666667.\u001b[0m\n",
            "\u001b[32m[I 2021-06-20 22:02:30,147]\u001b[0m Trial 34 finished with value: 0.9466666666666667 and parameters: {'n_estimators': 6, 'max_depth': 2.2919905403809766}. Best is trial 13 with value: 0.9666666666666667.\u001b[0m\n",
            "\u001b[32m[I 2021-06-20 22:02:30,222]\u001b[0m Trial 35 finished with value: 0.9533333333333333 and parameters: {'n_estimators': 14, 'max_depth': 14.767504065244554}. Best is trial 13 with value: 0.9666666666666667.\u001b[0m\n",
            "\u001b[32m[I 2021-06-20 22:02:30,321]\u001b[0m Trial 36 finished with value: 0.9466666666666667 and parameters: {'n_estimators': 20, 'max_depth': 9.305268086534852}. Best is trial 13 with value: 0.9666666666666667.\u001b[0m\n",
            "\u001b[32m[I 2021-06-20 22:02:30,379]\u001b[0m Trial 37 finished with value: 0.96 and parameters: {'n_estimators': 9, 'max_depth': 1.0575348538740843}. Best is trial 13 with value: 0.9666666666666667.\u001b[0m\n",
            "\u001b[32m[I 2021-06-20 22:02:30,411]\u001b[0m Trial 38 finished with value: 0.9466666666666667 and parameters: {'n_estimators': 4, 'max_depth': 2.4573277676739593}. Best is trial 13 with value: 0.9666666666666667.\u001b[0m\n",
            "\u001b[32m[I 2021-06-20 22:02:30,469]\u001b[0m Trial 39 finished with value: 0.96 and parameters: {'n_estimators': 12, 'max_depth': 4.827106258623601}. Best is trial 13 with value: 0.9666666666666667.\u001b[0m\n",
            "\u001b[32m[I 2021-06-20 22:02:30,506]\u001b[0m Trial 40 finished with value: 0.7999999999999999 and parameters: {'n_estimators': 6, 'max_depth': 1.4999488767337845}. Best is trial 13 with value: 0.9666666666666667.\u001b[0m\n",
            "\u001b[32m[I 2021-06-20 22:02:30,561]\u001b[0m Trial 41 finished with value: 0.9666666666666667 and parameters: {'n_estimators': 11, 'max_depth': 5.834142747610661}. Best is trial 13 with value: 0.9666666666666667.\u001b[0m\n",
            "\u001b[32m[I 2021-06-20 22:02:30,616]\u001b[0m Trial 42 finished with value: 0.9466666666666667 and parameters: {'n_estimators': 12, 'max_depth': 6.604289958372778}. Best is trial 13 with value: 0.9666666666666667.\u001b[0m\n",
            "\u001b[32m[I 2021-06-20 22:02:30,691]\u001b[0m Trial 43 finished with value: 0.9533333333333333 and parameters: {'n_estimators': 16, 'max_depth': 15.70497120272554}. Best is trial 13 with value: 0.9666666666666667.\u001b[0m\n",
            "\u001b[32m[I 2021-06-20 22:02:30,755]\u001b[0m Trial 44 finished with value: 0.96 and parameters: {'n_estimators': 13, 'max_depth': 22.552813984807038}. Best is trial 13 with value: 0.9666666666666667.\u001b[0m\n",
            "\u001b[32m[I 2021-06-20 22:02:30,837]\u001b[0m Trial 45 finished with value: 0.9533333333333333 and parameters: {'n_estimators': 19, 'max_depth': 27.760153612149786}. Best is trial 13 with value: 0.9666666666666667.\u001b[0m\n",
            "\u001b[32m[I 2021-06-20 22:02:30,883]\u001b[0m Trial 46 finished with value: 0.9666666666666667 and parameters: {'n_estimators': 9, 'max_depth': 12.124256356741714}. Best is trial 13 with value: 0.9666666666666667.\u001b[0m\n",
            "\u001b[32m[I 2021-06-20 22:02:30,948]\u001b[0m Trial 47 finished with value: 0.9466666666666667 and parameters: {'n_estimators': 15, 'max_depth': 11.974959703049127}. Best is trial 13 with value: 0.9666666666666667.\u001b[0m\n",
            "\u001b[32m[I 2021-06-20 22:02:31,000]\u001b[0m Trial 48 finished with value: 0.96 and parameters: {'n_estimators': 9, 'max_depth': 3.3627485474151335}. Best is trial 13 with value: 0.9666666666666667.\u001b[0m\n",
            "\u001b[32m[I 2021-06-20 22:02:31,091]\u001b[0m Trial 49 finished with value: 0.9533333333333333 and parameters: {'n_estimators': 19, 'max_depth': 21.058836370622263}. Best is trial 13 with value: 0.9666666666666667.\u001b[0m\n",
            "\u001b[32m[I 2021-06-20 22:02:31,166]\u001b[0m Trial 50 finished with value: 0.9466666666666667 and parameters: {'n_estimators': 16, 'max_depth': 8.881734664318081}. Best is trial 13 with value: 0.9666666666666667.\u001b[0m\n",
            "\u001b[32m[I 2021-06-20 22:02:31,222]\u001b[0m Trial 51 finished with value: 0.9466666666666667 and parameters: {'n_estimators': 11, 'max_depth': 7.1688828281556916}. Best is trial 13 with value: 0.9666666666666667.\u001b[0m\n",
            "\u001b[32m[I 2021-06-20 22:02:31,264]\u001b[0m Trial 52 finished with value: 0.96 and parameters: {'n_estimators': 7, 'max_depth': 5.7353955171996835}. Best is trial 13 with value: 0.9666666666666667.\u001b[0m\n",
            "\u001b[32m[I 2021-06-20 22:02:31,346]\u001b[0m Trial 53 finished with value: 0.96 and parameters: {'n_estimators': 17, 'max_depth': 31.696955709927032}. Best is trial 13 with value: 0.9666666666666667.\u001b[0m\n",
            "\u001b[32m[I 2021-06-20 22:02:31,424]\u001b[0m Trial 54 finished with value: 0.9466666666666667 and parameters: {'n_estimators': 17, 'max_depth': 19.920583116081886}. Best is trial 13 with value: 0.9666666666666667.\u001b[0m\n",
            "\u001b[32m[I 2021-06-20 22:02:31,476]\u001b[0m Trial 55 finished with value: 0.9533333333333333 and parameters: {'n_estimators': 10, 'max_depth': 3.8482049542442702}. Best is trial 13 with value: 0.9666666666666667.\u001b[0m\n",
            "\u001b[32m[I 2021-06-20 22:02:31,558]\u001b[0m Trial 56 finished with value: 0.9533333333333333 and parameters: {'n_estimators': 19, 'max_depth': 10.624143668737714}. Best is trial 13 with value: 0.9666666666666667.\u001b[0m\n",
            "\u001b[32m[I 2021-06-20 22:02:31,620]\u001b[0m Trial 57 finished with value: 0.9466666666666667 and parameters: {'n_estimators': 13, 'max_depth': 2.797883328360816}. Best is trial 13 with value: 0.9666666666666667.\u001b[0m\n",
            "\u001b[32m[I 2021-06-20 22:02:31,686]\u001b[0m Trial 58 finished with value: 0.9533333333333333 and parameters: {'n_estimators': 14, 'max_depth': 17.741423516948696}. Best is trial 13 with value: 0.9666666666666667.\u001b[0m\n",
            "\u001b[32m[I 2021-06-20 22:02:31,744]\u001b[0m Trial 59 finished with value: 0.9533333333333333 and parameters: {'n_estimators': 12, 'max_depth': 4.904725456242379}. Best is trial 13 with value: 0.9666666666666667.\u001b[0m\n",
            "\u001b[32m[I 2021-06-20 22:02:31,798]\u001b[0m Trial 60 finished with value: 0.9466666666666667 and parameters: {'n_estimators': 11, 'max_depth': 1.6116220041146112}. Best is trial 13 with value: 0.9666666666666667.\u001b[0m\n",
            "\u001b[32m[I 2021-06-20 22:02:31,873]\u001b[0m Trial 61 finished with value: 0.9666666666666667 and parameters: {'n_estimators': 17, 'max_depth': 5.621342733598457}. Best is trial 13 with value: 0.9666666666666667.\u001b[0m\n",
            "\u001b[32m[I 2021-06-20 22:02:31,922]\u001b[0m Trial 62 finished with value: 0.94 and parameters: {'n_estimators': 9, 'max_depth': 13.786889558698109}. Best is trial 13 with value: 0.9666666666666667.\u001b[0m\n",
            "\u001b[32m[I 2021-06-20 22:02:31,995]\u001b[0m Trial 63 finished with value: 0.9666666666666667 and parameters: {'n_estimators': 18, 'max_depth': 25.874823348987075}. Best is trial 13 with value: 0.9666666666666667.\u001b[0m\n",
            "\u001b[32m[I 2021-06-20 22:02:32,088]\u001b[0m Trial 64 finished with value: 0.96 and parameters: {'n_estimators': 20, 'max_depth': 25.53233817437285}. Best is trial 13 with value: 0.9666666666666667.\u001b[0m\n",
            "\u001b[32m[I 2021-06-20 22:02:32,164]\u001b[0m Trial 65 finished with value: 0.96 and parameters: {'n_estimators': 18, 'max_depth': 21.186421361540013}. Best is trial 13 with value: 0.9666666666666667.\u001b[0m\n",
            "\u001b[32m[I 2021-06-20 22:02:32,253]\u001b[0m Trial 66 finished with value: 0.9533333333333333 and parameters: {'n_estimators': 19, 'max_depth': 7.587791222931476}. Best is trial 13 with value: 0.9666666666666667.\u001b[0m\n",
            "\u001b[32m[I 2021-06-20 22:02:32,322]\u001b[0m Trial 67 finished with value: 0.94 and parameters: {'n_estimators': 16, 'max_depth': 5.489739044398382}. Best is trial 13 with value: 0.9666666666666667.\u001b[0m\n",
            "\u001b[32m[I 2021-06-20 22:02:32,397]\u001b[0m Trial 68 finished with value: 0.9533333333333333 and parameters: {'n_estimators': 18, 'max_depth': 27.566568297602302}. Best is trial 13 with value: 0.9666666666666667.\u001b[0m\n",
            "\u001b[32m[I 2021-06-20 22:02:32,469]\u001b[0m Trial 69 finished with value: 0.9666666666666667 and parameters: {'n_estimators': 15, 'max_depth': 16.962500629968208}. Best is trial 13 with value: 0.9666666666666667.\u001b[0m\n",
            "\u001b[32m[I 2021-06-20 22:02:32,512]\u001b[0m Trial 70 finished with value: 0.9533333333333333 and parameters: {'n_estimators': 8, 'max_depth': 12.53259981813017}. Best is trial 13 with value: 0.9666666666666667.\u001b[0m\n",
            "\u001b[32m[I 2021-06-20 22:02:32,561]\u001b[0m Trial 71 finished with value: 0.9533333333333333 and parameters: {'n_estimators': 10, 'max_depth': 22.83408438324828}. Best is trial 13 with value: 0.9666666666666667.\u001b[0m\n",
            "\u001b[32m[I 2021-06-20 22:02:32,645]\u001b[0m Trial 72 finished with value: 0.9533333333333333 and parameters: {'n_estimators': 20, 'max_depth': 30.891213848073598}. Best is trial 13 with value: 0.9666666666666667.\u001b[0m\n",
            "\u001b[32m[I 2021-06-20 22:02:32,719]\u001b[0m Trial 73 finished with value: 0.9666666666666667 and parameters: {'n_estimators': 17, 'max_depth': 15.179572426113294}. Best is trial 13 with value: 0.9666666666666667.\u001b[0m\n",
            "\u001b[32m[I 2021-06-20 22:02:32,797]\u001b[0m Trial 74 finished with value: 0.9533333333333333 and parameters: {'n_estimators': 17, 'max_depth': 4.117225661258992}. Best is trial 13 with value: 0.9666666666666667.\u001b[0m\n",
            "\u001b[32m[I 2021-06-20 22:02:32,855]\u001b[0m Trial 75 finished with value: 0.9666666666666667 and parameters: {'n_estimators': 12, 'max_depth': 6.0365933317506855}. Best is trial 13 with value: 0.9666666666666667.\u001b[0m\n",
            "\u001b[32m[I 2021-06-20 22:02:32,923]\u001b[0m Trial 76 finished with value: 0.9533333333333333 and parameters: {'n_estimators': 14, 'max_depth': 18.574388524028766}. Best is trial 13 with value: 0.9666666666666667.\u001b[0m\n",
            "\u001b[32m[I 2021-06-20 22:02:32,980]\u001b[0m Trial 77 finished with value: 0.9533333333333333 and parameters: {'n_estimators': 9, 'max_depth': 4.253827460106414}. Best is trial 13 with value: 0.9666666666666667.\u001b[0m\n",
            "\u001b[32m[I 2021-06-20 22:02:33,028]\u001b[0m Trial 78 finished with value: 0.9533333333333333 and parameters: {'n_estimators': 8, 'max_depth': 3.663986622300141}. Best is trial 13 with value: 0.9666666666666667.\u001b[0m\n",
            "\u001b[32m[I 2021-06-20 22:02:33,117]\u001b[0m Trial 79 finished with value: 0.9666666666666667 and parameters: {'n_estimators': 18, 'max_depth': 5.080917367496649}. Best is trial 13 with value: 0.9666666666666667.\u001b[0m\n",
            "\u001b[32m[I 2021-06-20 22:02:33,182]\u001b[0m Trial 80 finished with value: 0.9533333333333333 and parameters: {'n_estimators': 13, 'max_depth': 6.488370348471323}. Best is trial 13 with value: 0.9666666666666667.\u001b[0m\n",
            "\u001b[32m[I 2021-06-20 22:02:33,255]\u001b[0m Trial 81 finished with value: 0.9533333333333333 and parameters: {'n_estimators': 15, 'max_depth': 16.69532787458961}. Best is trial 13 with value: 0.9666666666666667.\u001b[0m\n",
            "\u001b[32m[I 2021-06-20 22:02:33,326]\u001b[0m Trial 82 finished with value: 0.96 and parameters: {'n_estimators': 15, 'max_depth': 17.17571715814121}. Best is trial 13 with value: 0.9666666666666667.\u001b[0m\n",
            "\u001b[32m[I 2021-06-20 22:02:33,381]\u001b[0m Trial 83 finished with value: 0.96 and parameters: {'n_estimators': 10, 'max_depth': 20.11614739635988}. Best is trial 13 with value: 0.9666666666666667.\u001b[0m\n",
            "\u001b[32m[I 2021-06-20 22:02:33,460]\u001b[0m Trial 84 finished with value: 0.96 and parameters: {'n_estimators': 16, 'max_depth': 3.029284504908694}. Best is trial 13 with value: 0.9666666666666667.\u001b[0m\n",
            "\u001b[32m[I 2021-06-20 22:02:33,533]\u001b[0m Trial 85 finished with value: 0.9466666666666667 and parameters: {'n_estimators': 16, 'max_depth': 7.163732873895779}. Best is trial 13 with value: 0.9666666666666667.\u001b[0m\n",
            "\u001b[32m[I 2021-06-20 22:02:33,588]\u001b[0m Trial 86 finished with value: 0.96 and parameters: {'n_estimators': 11, 'max_depth': 5.186335834851309}. Best is trial 13 with value: 0.9666666666666667.\u001b[0m\n",
            "\u001b[32m[I 2021-06-20 22:02:33,645]\u001b[0m Trial 87 finished with value: 0.96 and parameters: {'n_estimators': 12, 'max_depth': 14.116902167823275}. Best is trial 13 with value: 0.9666666666666667.\u001b[0m\n",
            "\u001b[32m[I 2021-06-20 22:02:33,719]\u001b[0m Trial 88 finished with value: 0.9666666666666667 and parameters: {'n_estimators': 13, 'max_depth': 4.369583334392505}. Best is trial 13 with value: 0.9666666666666667.\u001b[0m\n",
            "\u001b[32m[I 2021-06-20 22:02:33,777]\u001b[0m Trial 89 finished with value: 0.96 and parameters: {'n_estimators': 13, 'max_depth': 9.20918652653804}. Best is trial 13 with value: 0.9666666666666667.\u001b[0m\n",
            "\u001b[32m[I 2021-06-20 22:02:33,851]\u001b[0m Trial 90 finished with value: 0.96 and parameters: {'n_estimators': 17, 'max_depth': 4.506315945047268}. Best is trial 13 with value: 0.9666666666666667.\u001b[0m\n",
            "\u001b[32m[I 2021-06-20 22:02:33,929]\u001b[0m Trial 91 finished with value: 0.9533333333333333 and parameters: {'n_estimators': 18, 'max_depth': 10.095450689833743}. Best is trial 13 with value: 0.9666666666666667.\u001b[0m\n",
            "\u001b[32m[I 2021-06-20 22:02:34,010]\u001b[0m Trial 92 finished with value: 0.96 and parameters: {'n_estimators': 18, 'max_depth': 8.269959699065819}. Best is trial 13 with value: 0.9666666666666667.\u001b[0m\n",
            "\u001b[32m[I 2021-06-20 22:02:34,097]\u001b[0m Trial 93 finished with value: 0.96 and parameters: {'n_estimators': 17, 'max_depth': 15.704564679657166}. Best is trial 13 with value: 0.9666666666666667.\u001b[0m\n",
            "\u001b[32m[I 2021-06-20 22:02:34,179]\u001b[0m Trial 94 finished with value: 0.9533333333333333 and parameters: {'n_estimators': 17, 'max_depth': 11.514214642810497}. Best is trial 13 with value: 0.9666666666666667.\u001b[0m\n",
            "\u001b[32m[I 2021-06-20 22:02:34,251]\u001b[0m Trial 95 finished with value: 0.96 and parameters: {'n_estimators': 15, 'max_depth': 25.41256351734796}. Best is trial 13 with value: 0.9666666666666667.\u001b[0m\n",
            "\u001b[32m[I 2021-06-20 22:02:34,324]\u001b[0m Trial 96 finished with value: 0.96 and parameters: {'n_estimators': 14, 'max_depth': 23.413397894991608}. Best is trial 13 with value: 0.9666666666666667.\u001b[0m\n",
            "\u001b[32m[I 2021-06-20 22:02:34,396]\u001b[0m Trial 97 finished with value: 0.9466666666666667 and parameters: {'n_estimators': 16, 'max_depth': 6.3843733488728525}. Best is trial 13 with value: 0.9666666666666667.\u001b[0m\n",
            "\u001b[32m[I 2021-06-20 22:02:34,462]\u001b[0m Trial 98 finished with value: 0.9533333333333333 and parameters: {'n_estimators': 13, 'max_depth': 29.445458778983216}. Best is trial 13 with value: 0.9666666666666667.\u001b[0m\n",
            "\u001b[32m[I 2021-06-20 22:02:34,546]\u001b[0m Trial 99 finished with value: 0.9533333333333333 and parameters: {'n_estimators': 19, 'max_depth': 27.294507778063526}. Best is trial 13 with value: 0.9666666666666667.\u001b[0m\n"
          ],
          "name": "stderr"
        },
        {
          "output_type": "stream",
          "text": [
            "Accuracy: 0.9666666666666667\n",
            "Best hyperparameters: {'n_estimators': 17, 'max_depth': 31.44353740251283}\n"
          ],
          "name": "stdout"
        }
      ]
    },
    {
      "cell_type": "markdown",
      "metadata": {
        "id": "1LSQBAJiWmBy"
      },
      "source": [
        "It is possible to condition hyperparameters using Python `if` statements. We can for instance include another classifier, a support vector machine, in our HPO and define hyperparameters specific to the random forest model and the support vector machine."
      ]
    },
    {
      "cell_type": "code",
      "metadata": {
        "id": "tNUtiDgZWmBz",
        "colab": {
          "base_uri": "https://localhost:8080/"
        },
        "outputId": "de20f5cb-d683-4fcd-a167-cb2e88205341"
      },
      "source": [
        "import sklearn.svm\n",
        "\n",
        "def objective(trial):\n",
        "    iris = sklearn.datasets.load_iris()\n",
        "\n",
        "    classifier = trial.suggest_categorical('classifier', ['RandomForest', 'SVC'])\n",
        "    \n",
        "    if classifier == 'RandomForest':\n",
        "        n_estimators = trial.suggest_int('n_estimators', 2, 20)\n",
        "        max_depth = int(trial.suggest_float('max_depth', 1, 32, log=True))\n",
        "\n",
        "        clf = sklearn.ensemble.RandomForestClassifier(\n",
        "            n_estimators=n_estimators, max_depth=max_depth)\n",
        "    else:\n",
        "        c = trial.suggest_float('svc_c', 1e-10, 1e10, log=True)\n",
        "        \n",
        "        clf = sklearn.svm.SVC(C=c, gamma='auto')\n",
        "\n",
        "    return sklearn.model_selection.cross_val_score(\n",
        "        clf, iris.data, iris.target, n_jobs=-1, cv=3).mean()\n",
        "\n",
        "study = optuna.create_study(direction='maximize')\n",
        "study.optimize(objective, n_trials=100)\n",
        "\n",
        "trial = study.best_trial\n",
        "\n",
        "print('Accuracy: {}'.format(trial.value))\n",
        "print(\"Best hyperparameters: {}\".format(trial.params))"
      ],
      "execution_count": 5,
      "outputs": [
        {
          "output_type": "stream",
          "text": [
            "\u001b[32m[I 2021-06-20 22:02:34,574]\u001b[0m A new study created in memory with name: no-name-839f178a-9ff9-4d1e-8d63-24d4f7eec36c\u001b[0m\n",
            "\u001b[32m[I 2021-06-20 22:02:34,612]\u001b[0m Trial 0 finished with value: 0.7466666666666667 and parameters: {'classifier': 'RandomForest', 'n_estimators': 7, 'max_depth': 1.6458248300063194}. Best is trial 0 with value: 0.7466666666666667.\u001b[0m\n",
            "\u001b[32m[I 2021-06-20 22:02:34,679]\u001b[0m Trial 1 finished with value: 0.9666666666666667 and parameters: {'classifier': 'RandomForest', 'n_estimators': 16, 'max_depth': 8.201375692811228}. Best is trial 1 with value: 0.9666666666666667.\u001b[0m\n",
            "\u001b[32m[I 2021-06-20 22:02:34,693]\u001b[0m Trial 2 finished with value: 0.32 and parameters: {'classifier': 'SVC', 'svc_c': 1.1106127225103179e-05}. Best is trial 1 with value: 0.9666666666666667.\u001b[0m\n",
            "\u001b[32m[I 2021-06-20 22:02:34,719]\u001b[0m Trial 3 finished with value: 0.6666666666666666 and parameters: {'classifier': 'RandomForest', 'n_estimators': 4, 'max_depth': 1.8527679516349724}. Best is trial 1 with value: 0.9666666666666667.\u001b[0m\n",
            "\u001b[32m[I 2021-06-20 22:02:34,732]\u001b[0m Trial 4 finished with value: 0.96 and parameters: {'classifier': 'SVC', 'svc_c': 1115193608.7301815}. Best is trial 1 with value: 0.9666666666666667.\u001b[0m\n",
            "\u001b[32m[I 2021-06-20 22:02:34,746]\u001b[0m Trial 5 finished with value: 0.32 and parameters: {'classifier': 'SVC', 'svc_c': 0.00032834066448947396}. Best is trial 1 with value: 0.9666666666666667.\u001b[0m\n",
            "\u001b[32m[I 2021-06-20 22:02:34,811]\u001b[0m Trial 6 finished with value: 0.96 and parameters: {'classifier': 'RandomForest', 'n_estimators': 14, 'max_depth': 20.543363127754663}. Best is trial 1 with value: 0.9666666666666667.\u001b[0m\n",
            "\u001b[32m[I 2021-06-20 22:02:34,830]\u001b[0m Trial 7 finished with value: 0.32 and parameters: {'classifier': 'SVC', 'svc_c': 3.2339234443320365e-05}. Best is trial 1 with value: 0.9666666666666667.\u001b[0m\n",
            "\u001b[32m[I 2021-06-20 22:02:34,849]\u001b[0m Trial 8 finished with value: 0.96 and parameters: {'classifier': 'SVC', 'svc_c': 13385469.487261852}. Best is trial 1 with value: 0.9666666666666667.\u001b[0m\n",
            "\u001b[32m[I 2021-06-20 22:02:34,868]\u001b[0m Trial 9 finished with value: 0.96 and parameters: {'classifier': 'SVC', 'svc_c': 3337302259.5916553}. Best is trial 1 with value: 0.9666666666666667.\u001b[0m\n",
            "\u001b[32m[I 2021-06-20 22:02:34,955]\u001b[0m Trial 10 finished with value: 0.9666666666666667 and parameters: {'classifier': 'RandomForest', 'n_estimators': 20, 'max_depth': 11.40243522369355}. Best is trial 1 with value: 0.9666666666666667.\u001b[0m\n",
            "\u001b[32m[I 2021-06-20 22:02:35,046]\u001b[0m Trial 11 finished with value: 0.9533333333333333 and parameters: {'classifier': 'RandomForest', 'n_estimators': 20, 'max_depth': 11.016689541006073}. Best is trial 1 with value: 0.9666666666666667.\u001b[0m\n",
            "\u001b[32m[I 2021-06-20 22:02:35,140]\u001b[0m Trial 12 finished with value: 0.96 and parameters: {'classifier': 'RandomForest', 'n_estimators': 20, 'max_depth': 6.363185570913975}. Best is trial 1 with value: 0.9666666666666667.\u001b[0m\n",
            "\u001b[32m[I 2021-06-20 22:02:35,209]\u001b[0m Trial 13 finished with value: 0.96 and parameters: {'classifier': 'RandomForest', 'n_estimators': 15, 'max_depth': 16.29250483689295}. Best is trial 1 with value: 0.9666666666666667.\u001b[0m\n",
            "\u001b[32m[I 2021-06-20 22:02:35,283]\u001b[0m Trial 14 finished with value: 0.9666666666666667 and parameters: {'classifier': 'RandomForest', 'n_estimators': 17, 'max_depth': 4.981956104787176}. Best is trial 1 with value: 0.9666666666666667.\u001b[0m\n",
            "\u001b[32m[I 2021-06-20 22:02:35,337]\u001b[0m Trial 15 finished with value: 0.9466666666666667 and parameters: {'classifier': 'RandomForest', 'n_estimators': 11, 'max_depth': 5.43902555514703}. Best is trial 1 with value: 0.9666666666666667.\u001b[0m\n",
            "\u001b[32m[I 2021-06-20 22:02:35,429]\u001b[0m Trial 16 finished with value: 0.96 and parameters: {'classifier': 'RandomForest', 'n_estimators': 20, 'max_depth': 10.796850625859395}. Best is trial 1 with value: 0.9666666666666667.\u001b[0m\n",
            "\u001b[32m[I 2021-06-20 22:02:35,500]\u001b[0m Trial 17 finished with value: 0.96 and parameters: {'classifier': 'RandomForest', 'n_estimators': 16, 'max_depth': 3.6279921295463127}. Best is trial 1 with value: 0.9666666666666667.\u001b[0m\n",
            "\u001b[32m[I 2021-06-20 22:02:35,577]\u001b[0m Trial 18 finished with value: 0.9533333333333333 and parameters: {'classifier': 'RandomForest', 'n_estimators': 17, 'max_depth': 3.0399995665643313}. Best is trial 1 with value: 0.9666666666666667.\u001b[0m\n",
            "\u001b[32m[I 2021-06-20 22:02:35,637]\u001b[0m Trial 19 finished with value: 0.9533333333333333 and parameters: {'classifier': 'RandomForest', 'n_estimators': 12, 'max_depth': 31.117608637998032}. Best is trial 1 with value: 0.9666666666666667.\u001b[0m\n",
            "\u001b[32m[I 2021-06-20 22:02:35,716]\u001b[0m Trial 20 finished with value: 0.96 and parameters: {'classifier': 'RandomForest', 'n_estimators': 17, 'max_depth': 5.816515354431472}. Best is trial 1 with value: 0.9666666666666667.\u001b[0m\n",
            "\u001b[32m[I 2021-06-20 22:02:35,791]\u001b[0m Trial 21 finished with value: 0.96 and parameters: {'classifier': 'RandomForest', 'n_estimators': 18, 'max_depth': 9.79977580078252}. Best is trial 1 with value: 0.9666666666666667.\u001b[0m\n",
            "\u001b[32m[I 2021-06-20 22:02:35,853]\u001b[0m Trial 22 finished with value: 0.96 and parameters: {'classifier': 'RandomForest', 'n_estimators': 13, 'max_depth': 7.9349680061615135}. Best is trial 1 with value: 0.9666666666666667.\u001b[0m\n",
            "\u001b[32m[I 2021-06-20 22:02:35,934]\u001b[0m Trial 23 finished with value: 0.9533333333333333 and parameters: {'classifier': 'RandomForest', 'n_estimators': 19, 'max_depth': 3.924363296607811}. Best is trial 1 with value: 0.9666666666666667.\u001b[0m\n",
            "\u001b[32m[I 2021-06-20 22:02:35,980]\u001b[0m Trial 24 finished with value: 0.96 and parameters: {'classifier': 'RandomForest', 'n_estimators': 8, 'max_depth': 17.16772969372292}. Best is trial 1 with value: 0.9666666666666667.\u001b[0m\n",
            "\u001b[32m[I 2021-06-20 22:02:36,055]\u001b[0m Trial 25 finished with value: 0.94 and parameters: {'classifier': 'RandomForest', 'n_estimators': 15, 'max_depth': 13.085760307890217}. Best is trial 1 with value: 0.9666666666666667.\u001b[0m\n",
            "\u001b[32m[I 2021-06-20 22:02:36,143]\u001b[0m Trial 26 finished with value: 0.96 and parameters: {'classifier': 'RandomForest', 'n_estimators': 18, 'max_depth': 26.584203014162192}. Best is trial 1 with value: 0.9666666666666667.\u001b[0m\n",
            "\u001b[32m[I 2021-06-20 22:02:36,191]\u001b[0m Trial 27 finished with value: 0.94 and parameters: {'classifier': 'RandomForest', 'n_estimators': 9, 'max_depth': 7.6079034764686195}. Best is trial 1 with value: 0.9666666666666667.\u001b[0m\n",
            "\u001b[32m[I 2021-06-20 22:02:36,259]\u001b[0m Trial 28 finished with value: 0.94 and parameters: {'classifier': 'RandomForest', 'n_estimators': 16, 'max_depth': 2.3291808818021393}. Best is trial 1 with value: 0.9666666666666667.\u001b[0m\n",
            "\u001b[32m[I 2021-06-20 22:02:36,333]\u001b[0m Trial 29 finished with value: 0.84 and parameters: {'classifier': 'RandomForest', 'n_estimators': 18, 'max_depth': 1.0958894302733866}. Best is trial 1 with value: 0.9666666666666667.\u001b[0m\n",
            "\u001b[32m[I 2021-06-20 22:02:36,421]\u001b[0m Trial 30 finished with value: 0.96 and parameters: {'classifier': 'RandomForest', 'n_estimators': 20, 'max_depth': 4.2597067249815685}. Best is trial 1 with value: 0.9666666666666667.\u001b[0m\n",
            "\u001b[32m[I 2021-06-20 22:02:36,495]\u001b[0m Trial 31 finished with value: 0.9533333333333333 and parameters: {'classifier': 'RandomForest', 'n_estimators': 16, 'max_depth': 4.0540711761285095}. Best is trial 1 with value: 0.9666666666666667.\u001b[0m\n",
            "\u001b[32m[I 2021-06-20 22:02:36,555]\u001b[0m Trial 32 finished with value: 0.9533333333333333 and parameters: {'classifier': 'RandomForest', 'n_estimators': 13, 'max_depth': 3.363851843158431}. Best is trial 1 with value: 0.9666666666666667.\u001b[0m\n",
            "\u001b[32m[I 2021-06-20 22:02:36,639]\u001b[0m Trial 33 finished with value: 0.9666666666666667 and parameters: {'classifier': 'RandomForest', 'n_estimators': 20, 'max_depth': 9.263686318663666}. Best is trial 1 with value: 0.9666666666666667.\u001b[0m\n",
            "\u001b[32m[I 2021-06-20 22:02:36,717]\u001b[0m Trial 34 finished with value: 0.9466666666666667 and parameters: {'classifier': 'RandomForest', 'n_estimators': 19, 'max_depth': 8.150881554075902}. Best is trial 1 with value: 0.9666666666666667.\u001b[0m\n",
            "\u001b[32m[I 2021-06-20 22:02:36,797]\u001b[0m Trial 35 finished with value: 0.9533333333333333 and parameters: {'classifier': 'RandomForest', 'n_estimators': 19, 'max_depth': 12.976525127316071}. Best is trial 1 with value: 0.9666666666666667.\u001b[0m\n",
            "\u001b[32m[I 2021-06-20 22:02:36,869]\u001b[0m Trial 36 finished with value: 0.96 and parameters: {'classifier': 'RandomForest', 'n_estimators': 17, 'max_depth': 5.6203850238610515}. Best is trial 1 with value: 0.9666666666666667.\u001b[0m\n",
            "\u001b[32m[I 2021-06-20 22:02:36,884]\u001b[0m Trial 37 finished with value: 0.94 and parameters: {'classifier': 'SVC', 'svc_c': 243.54194687298084}. Best is trial 1 with value: 0.9666666666666667.\u001b[0m\n",
            "\u001b[32m[I 2021-06-20 22:02:36,965]\u001b[0m Trial 38 finished with value: 0.9666666666666667 and parameters: {'classifier': 'RandomForest', 'n_estimators': 18, 'max_depth': 9.040312502633892}. Best is trial 1 with value: 0.9666666666666667.\u001b[0m\n",
            "\u001b[32m[I 2021-06-20 22:02:36,983]\u001b[0m Trial 39 finished with value: 0.9533333333333333 and parameters: {'classifier': 'SVC', 'svc_c': 485.67883337876737}. Best is trial 1 with value: 0.9666666666666667.\u001b[0m\n",
            "\u001b[32m[I 2021-06-20 22:02:37,008]\u001b[0m Trial 40 finished with value: 0.9199999999999999 and parameters: {'classifier': 'RandomForest', 'n_estimators': 2, 'max_depth': 8.321824853748927}. Best is trial 1 with value: 0.9666666666666667.\u001b[0m\n",
            "\u001b[32m[I 2021-06-20 22:02:37,089]\u001b[0m Trial 41 finished with value: 0.9666666666666667 and parameters: {'classifier': 'RandomForest', 'n_estimators': 18, 'max_depth': 12.811066002523486}. Best is trial 1 with value: 0.9666666666666667.\u001b[0m\n",
            "\u001b[32m[I 2021-06-20 22:02:37,185]\u001b[0m Trial 42 finished with value: 0.96 and parameters: {'classifier': 'RandomForest', 'n_estimators': 19, 'max_depth': 14.035069556505226}. Best is trial 1 with value: 0.9666666666666667.\u001b[0m\n",
            "\u001b[32m[I 2021-06-20 22:02:37,292]\u001b[0m Trial 43 finished with value: 0.96 and parameters: {'classifier': 'RandomForest', 'n_estimators': 20, 'max_depth': 20.548040767253756}. Best is trial 1 with value: 0.9666666666666667.\u001b[0m\n",
            "\u001b[32m[I 2021-06-20 22:02:37,374]\u001b[0m Trial 44 finished with value: 0.9466666666666667 and parameters: {'classifier': 'RandomForest', 'n_estimators': 15, 'max_depth': 9.31759795701047}. Best is trial 1 with value: 0.9666666666666667.\u001b[0m\n",
            "\u001b[32m[I 2021-06-20 22:02:37,412]\u001b[0m Trial 45 finished with value: 0.96 and parameters: {'classifier': 'RandomForest', 'n_estimators': 5, 'max_depth': 6.779597367797725}. Best is trial 1 with value: 0.9666666666666667.\u001b[0m\n",
            "\u001b[32m[I 2021-06-20 22:02:37,497]\u001b[0m Trial 46 finished with value: 0.9666666666666667 and parameters: {'classifier': 'RandomForest', 'n_estimators': 18, 'max_depth': 17.64711503503367}. Best is trial 1 with value: 0.9666666666666667.\u001b[0m\n",
            "\u001b[32m[I 2021-06-20 22:02:37,577]\u001b[0m Trial 47 finished with value: 0.96 and parameters: {'classifier': 'RandomForest', 'n_estimators': 18, 'max_depth': 21.196670773625975}. Best is trial 1 with value: 0.9666666666666667.\u001b[0m\n",
            "\u001b[32m[I 2021-06-20 22:02:37,597]\u001b[0m Trial 48 finished with value: 0.32 and parameters: {'classifier': 'SVC', 'svc_c': 2.9073434047358244e-10}. Best is trial 1 with value: 0.9666666666666667.\u001b[0m\n",
            "\u001b[32m[I 2021-06-20 22:02:37,685]\u001b[0m Trial 49 finished with value: 0.96 and parameters: {'classifier': 'RandomForest', 'n_estimators': 20, 'max_depth': 16.41836695593315}. Best is trial 1 with value: 0.9666666666666667.\u001b[0m\n",
            "\u001b[32m[I 2021-06-20 22:02:37,751]\u001b[0m Trial 50 finished with value: 0.9533333333333333 and parameters: {'classifier': 'RandomForest', 'n_estimators': 14, 'max_depth': 4.811148675095474}. Best is trial 1 with value: 0.9666666666666667.\u001b[0m\n",
            "\u001b[32m[I 2021-06-20 22:02:37,826]\u001b[0m Trial 51 finished with value: 0.9466666666666667 and parameters: {'classifier': 'RandomForest', 'n_estimators': 17, 'max_depth': 11.978195889472667}. Best is trial 1 with value: 0.9666666666666667.\u001b[0m\n",
            "\u001b[32m[I 2021-06-20 22:02:37,905]\u001b[0m Trial 52 finished with value: 0.9533333333333333 and parameters: {'classifier': 'RandomForest', 'n_estimators': 19, 'max_depth': 10.461630119898548}. Best is trial 1 with value: 0.9666666666666667.\u001b[0m\n",
            "\u001b[32m[I 2021-06-20 22:02:37,989]\u001b[0m Trial 53 finished with value: 0.96 and parameters: {'classifier': 'RandomForest', 'n_estimators': 18, 'max_depth': 14.576127506554203}. Best is trial 1 with value: 0.9666666666666667.\u001b[0m\n",
            "\u001b[32m[I 2021-06-20 22:02:38,067]\u001b[0m Trial 54 finished with value: 0.9666666666666667 and parameters: {'classifier': 'RandomForest', 'n_estimators': 17, 'max_depth': 6.880889090673533}. Best is trial 1 with value: 0.9666666666666667.\u001b[0m\n",
            "\u001b[32m[I 2021-06-20 22:02:38,141]\u001b[0m Trial 55 finished with value: 0.96 and parameters: {'classifier': 'RandomForest', 'n_estimators': 16, 'max_depth': 6.403480652606454}. Best is trial 1 with value: 0.9666666666666667.\u001b[0m\n",
            "\u001b[32m[I 2021-06-20 22:02:38,212]\u001b[0m Trial 56 finished with value: 0.9533333333333333 and parameters: {'classifier': 'RandomForest', 'n_estimators': 14, 'max_depth': 9.639741263933596}. Best is trial 1 with value: 0.9666666666666667.\u001b[0m\n",
            "\u001b[32m[I 2021-06-20 22:02:38,300]\u001b[0m Trial 57 finished with value: 0.96 and parameters: {'classifier': 'RandomForest', 'n_estimators': 19, 'max_depth': 11.188609283594904}. Best is trial 1 with value: 0.9666666666666667.\u001b[0m\n",
            "\u001b[32m[I 2021-06-20 22:02:38,378]\u001b[0m Trial 58 finished with value: 0.96 and parameters: {'classifier': 'RandomForest', 'n_estimators': 17, 'max_depth': 6.915491181711143}. Best is trial 1 with value: 0.9666666666666667.\u001b[0m\n",
            "\u001b[32m[I 2021-06-20 22:02:38,448]\u001b[0m Trial 59 finished with value: 0.9533333333333333 and parameters: {'classifier': 'RandomForest', 'n_estimators': 15, 'max_depth': 24.274773487200804}. Best is trial 1 with value: 0.9666666666666667.\u001b[0m\n",
            "\u001b[32m[I 2021-06-20 22:02:38,467]\u001b[0m Trial 60 finished with value: 0.32 and parameters: {'classifier': 'SVC', 'svc_c': 2.702564167225663e-10}. Best is trial 1 with value: 0.9666666666666667.\u001b[0m\n",
            "\u001b[32m[I 2021-06-20 22:02:38,540]\u001b[0m Trial 61 finished with value: 0.9666666666666667 and parameters: {'classifier': 'RandomForest', 'n_estimators': 17, 'max_depth': 4.9323510841519935}. Best is trial 1 with value: 0.9666666666666667.\u001b[0m\n",
            "\u001b[32m[I 2021-06-20 22:02:38,624]\u001b[0m Trial 62 finished with value: 0.9666666666666667 and parameters: {'classifier': 'RandomForest', 'n_estimators': 20, 'max_depth': 4.908491164059909}. Best is trial 1 with value: 0.9666666666666667.\u001b[0m\n",
            "\u001b[32m[I 2021-06-20 22:02:38,703]\u001b[0m Trial 63 finished with value: 0.96 and parameters: {'classifier': 'RandomForest', 'n_estimators': 17, 'max_depth': 4.871276166274643}. Best is trial 1 with value: 0.9666666666666667.\u001b[0m\n",
            "\u001b[32m[I 2021-06-20 22:02:38,786]\u001b[0m Trial 64 finished with value: 0.9533333333333333 and parameters: {'classifier': 'RandomForest', 'n_estimators': 18, 'max_depth': 17.577921043261238}. Best is trial 1 with value: 0.9666666666666667.\u001b[0m\n",
            "\u001b[32m[I 2021-06-20 22:02:38,885]\u001b[0m Trial 65 finished with value: 0.96 and parameters: {'classifier': 'RandomForest', 'n_estimators': 18, 'max_depth': 9.562436496983402}. Best is trial 1 with value: 0.9666666666666667.\u001b[0m\n",
            "\u001b[32m[I 2021-06-20 22:02:38,973]\u001b[0m Trial 66 finished with value: 0.9666666666666667 and parameters: {'classifier': 'RandomForest', 'n_estimators': 19, 'max_depth': 7.319242004771007}. Best is trial 1 with value: 0.9666666666666667.\u001b[0m\n",
            "\u001b[32m[I 2021-06-20 22:02:39,048]\u001b[0m Trial 67 finished with value: 0.9666666666666667 and parameters: {'classifier': 'RandomForest', 'n_estimators': 16, 'max_depth': 6.049648967682503}. Best is trial 1 with value: 0.9666666666666667.\u001b[0m\n",
            "\u001b[32m[I 2021-06-20 22:02:39,135]\u001b[0m Trial 68 finished with value: 0.94 and parameters: {'classifier': 'RandomForest', 'n_estimators': 20, 'max_depth': 2.8294942637775637}. Best is trial 1 with value: 0.9666666666666667.\u001b[0m\n",
            "\u001b[32m[I 2021-06-20 22:02:39,214]\u001b[0m Trial 69 finished with value: 0.9666666666666667 and parameters: {'classifier': 'RandomForest', 'n_estimators': 16, 'max_depth': 4.743043919456688}. Best is trial 1 with value: 0.9666666666666667.\u001b[0m\n",
            "\u001b[32m[I 2021-06-20 22:02:39,289]\u001b[0m Trial 70 finished with value: 0.9533333333333333 and parameters: {'classifier': 'RandomForest', 'n_estimators': 17, 'max_depth': 8.398596871142784}. Best is trial 1 with value: 0.9666666666666667.\u001b[0m\n",
            "\u001b[32m[I 2021-06-20 22:02:39,375]\u001b[0m Trial 71 finished with value: 0.9666666666666667 and parameters: {'classifier': 'RandomForest', 'n_estimators': 19, 'max_depth': 5.7192688010484085}. Best is trial 1 with value: 0.9666666666666667.\u001b[0m\n",
            "\u001b[32m[I 2021-06-20 22:02:39,465]\u001b[0m Trial 72 finished with value: 0.96 and parameters: {'classifier': 'RandomForest', 'n_estimators': 20, 'max_depth': 5.36507904413182}. Best is trial 1 with value: 0.9666666666666667.\u001b[0m\n",
            "\u001b[32m[I 2021-06-20 22:02:39,551]\u001b[0m Trial 73 finished with value: 0.96 and parameters: {'classifier': 'RandomForest', 'n_estimators': 20, 'max_depth': 4.392643252852917}. Best is trial 1 with value: 0.9666666666666667.\u001b[0m\n",
            "\u001b[32m[I 2021-06-20 22:02:39,631]\u001b[0m Trial 74 finished with value: 0.9533333333333333 and parameters: {'classifier': 'RandomForest', 'n_estimators': 18, 'max_depth': 3.8118165226947087}. Best is trial 1 with value: 0.9666666666666667.\u001b[0m\n",
            "\u001b[32m[I 2021-06-20 22:02:39,713]\u001b[0m Trial 75 finished with value: 0.96 and parameters: {'classifier': 'RandomForest', 'n_estimators': 19, 'max_depth': 7.49027478006954}. Best is trial 1 with value: 0.9666666666666667.\u001b[0m\n",
            "\u001b[32m[I 2021-06-20 22:02:39,784]\u001b[0m Trial 76 finished with value: 0.9533333333333333 and parameters: {'classifier': 'RandomForest', 'n_estimators': 16, 'max_depth': 4.487815517393446}. Best is trial 1 with value: 0.9666666666666667.\u001b[0m\n",
            "\u001b[32m[I 2021-06-20 22:02:39,860]\u001b[0m Trial 77 finished with value: 0.96 and parameters: {'classifier': 'RandomForest', 'n_estimators': 16, 'max_depth': 6.041438004387958}. Best is trial 1 with value: 0.9666666666666667.\u001b[0m\n",
            "\u001b[32m[I 2021-06-20 22:02:39,943]\u001b[0m Trial 78 finished with value: 0.96 and parameters: {'classifier': 'RandomForest', 'n_estimators': 18, 'max_depth': 12.094546321445215}. Best is trial 1 with value: 0.9666666666666667.\u001b[0m\n",
            "\u001b[32m[I 2021-06-20 22:02:40,000]\u001b[0m Trial 79 finished with value: 0.9666666666666667 and parameters: {'classifier': 'RandomForest', 'n_estimators': 11, 'max_depth': 5.264977363088413}. Best is trial 1 with value: 0.9666666666666667.\u001b[0m\n",
            "\u001b[32m[I 2021-06-20 22:02:40,054]\u001b[0m Trial 80 finished with value: 0.96 and parameters: {'classifier': 'RandomForest', 'n_estimators': 10, 'max_depth': 9.007128668713465}. Best is trial 1 with value: 0.9666666666666667.\u001b[0m\n",
            "\u001b[32m[I 2021-06-20 22:02:40,096]\u001b[0m Trial 81 finished with value: 0.94 and parameters: {'classifier': 'RandomForest', 'n_estimators': 7, 'max_depth': 10.707638310086617}. Best is trial 1 with value: 0.9666666666666667.\u001b[0m\n",
            "\u001b[32m[I 2021-06-20 22:02:40,178]\u001b[0m Trial 82 finished with value: 0.96 and parameters: {'classifier': 'RandomForest', 'n_estimators': 19, 'max_depth': 7.133823769817649}. Best is trial 1 with value: 0.9666666666666667.\u001b[0m\n",
            "\u001b[32m[I 2021-06-20 22:02:40,266]\u001b[0m Trial 83 finished with value: 0.9466666666666667 and parameters: {'classifier': 'RandomForest', 'n_estimators': 17, 'max_depth': 6.423525398104711}. Best is trial 1 with value: 0.9666666666666667.\u001b[0m\n",
            "\u001b[32m[I 2021-06-20 22:02:40,354]\u001b[0m Trial 84 finished with value: 0.9666666666666667 and parameters: {'classifier': 'RandomForest', 'n_estimators': 19, 'max_depth': 6.077522395329187}. Best is trial 1 with value: 0.9666666666666667.\u001b[0m\n",
            "\u001b[32m[I 2021-06-20 22:02:40,441]\u001b[0m Trial 85 finished with value: 0.9533333333333333 and parameters: {'classifier': 'RandomForest', 'n_estimators': 18, 'max_depth': 3.580416959205172}. Best is trial 1 with value: 0.9666666666666667.\u001b[0m\n",
            "\u001b[32m[I 2021-06-20 22:02:40,523]\u001b[0m Trial 86 finished with value: 0.9533333333333333 and parameters: {'classifier': 'RandomForest', 'n_estimators': 19, 'max_depth': 14.910678273961878}. Best is trial 1 with value: 0.9666666666666667.\u001b[0m\n",
            "\u001b[32m[I 2021-06-20 22:02:40,594]\u001b[0m Trial 87 finished with value: 0.96 and parameters: {'classifier': 'RandomForest', 'n_estimators': 16, 'max_depth': 8.545109076227883}. Best is trial 1 with value: 0.9666666666666667.\u001b[0m\n",
            "\u001b[32m[I 2021-06-20 22:02:40,611]\u001b[0m Trial 88 finished with value: 0.96 and parameters: {'classifier': 'SVC', 'svc_c': 21218.828142135095}. Best is trial 1 with value: 0.9666666666666667.\u001b[0m\n",
            "\u001b[32m[I 2021-06-20 22:02:40,671]\u001b[0m Trial 89 finished with value: 0.96 and parameters: {'classifier': 'RandomForest', 'n_estimators': 12, 'max_depth': 5.558866361621581}. Best is trial 1 with value: 0.9666666666666667.\u001b[0m\n",
            "\u001b[32m[I 2021-06-20 22:02:40,711]\u001b[0m Trial 90 finished with value: 0.9333333333333332 and parameters: {'classifier': 'RandomForest', 'n_estimators': 6, 'max_depth': 7.589181603782741}. Best is trial 1 with value: 0.9666666666666667.\u001b[0m\n",
            "\u001b[32m[I 2021-06-20 22:02:40,797]\u001b[0m Trial 91 finished with value: 0.96 and parameters: {'classifier': 'RandomForest', 'n_estimators': 20, 'max_depth': 6.266163288284514}. Best is trial 1 with value: 0.9666666666666667.\u001b[0m\n",
            "\u001b[32m[I 2021-06-20 22:02:40,866]\u001b[0m Trial 92 finished with value: 0.9666666666666667 and parameters: {'classifier': 'RandomForest', 'n_estimators': 15, 'max_depth': 4.8261879374581005}. Best is trial 1 with value: 0.9666666666666667.\u001b[0m\n",
            "\u001b[32m[I 2021-06-20 22:02:40,947]\u001b[0m Trial 93 finished with value: 0.9733333333333333 and parameters: {'classifier': 'RandomForest', 'n_estimators': 17, 'max_depth': 5.232116529278027}. Best is trial 93 with value: 0.9733333333333333.\u001b[0m\n",
            "\u001b[32m[I 2021-06-20 22:02:41,021]\u001b[0m Trial 94 finished with value: 0.9666666666666667 and parameters: {'classifier': 'RandomForest', 'n_estimators': 15, 'max_depth': 5.584386975701804}. Best is trial 93 with value: 0.9733333333333333.\u001b[0m\n",
            "\u001b[32m[I 2021-06-20 22:02:41,102]\u001b[0m Trial 95 finished with value: 0.96 and parameters: {'classifier': 'RandomForest', 'n_estimators': 17, 'max_depth': 7.023074853746046}. Best is trial 93 with value: 0.9733333333333333.\u001b[0m\n",
            "\u001b[32m[I 2021-06-20 22:02:41,171]\u001b[0m Trial 96 finished with value: 0.9666666666666667 and parameters: {'classifier': 'RandomForest', 'n_estimators': 15, 'max_depth': 4.2424930904420455}. Best is trial 93 with value: 0.9733333333333333.\u001b[0m\n",
            "\u001b[32m[I 2021-06-20 22:02:41,253]\u001b[0m Trial 97 finished with value: 0.96 and parameters: {'classifier': 'RandomForest', 'n_estimators': 16, 'max_depth': 3.351634849947771}. Best is trial 93 with value: 0.9733333333333333.\u001b[0m\n",
            "\u001b[32m[I 2021-06-20 22:02:41,333]\u001b[0m Trial 98 finished with value: 0.9666666666666667 and parameters: {'classifier': 'RandomForest', 'n_estimators': 17, 'max_depth': 4.172563266608027}. Best is trial 93 with value: 0.9733333333333333.\u001b[0m\n",
            "\u001b[32m[I 2021-06-20 22:02:41,362]\u001b[0m Trial 99 finished with value: 0.96 and parameters: {'classifier': 'RandomForest', 'n_estimators': 3, 'max_depth': 5.18209939448373}. Best is trial 93 with value: 0.9733333333333333.\u001b[0m\n"
          ],
          "name": "stderr"
        },
        {
          "output_type": "stream",
          "text": [
            "Accuracy: 0.9733333333333333\n",
            "Best hyperparameters: {'classifier': 'RandomForest', 'n_estimators': 17, 'max_depth': 5.232116529278027}\n"
          ],
          "name": "stdout"
        }
      ]
    },
    {
      "cell_type": "markdown",
      "metadata": {
        "id": "molYGkRfWmB2"
      },
      "source": [
        "### Plotting the study\n",
        "\n",
        "Plotting the optimization history of the study."
      ]
    },
    {
      "cell_type": "code",
      "metadata": {
        "id": "pyu75R2xWmB3",
        "colab": {
          "base_uri": "https://localhost:8080/",
          "height": 542
        },
        "outputId": "43106a83-8a84-45e9-af92-a72969e6f916"
      },
      "source": [
        "optuna.visualization.plot_optimization_history(study)"
      ],
      "execution_count": 6,
      "outputs": [
        {
          "output_type": "display_data",
          "data": {
            "text/html": [
              "<html>\n",
              "<head><meta charset=\"utf-8\" /></head>\n",
              "<body>\n",
              "    <div>\n",
              "            <script src=\"https://cdnjs.cloudflare.com/ajax/libs/mathjax/2.7.5/MathJax.js?config=TeX-AMS-MML_SVG\"></script><script type=\"text/javascript\">if (window.MathJax) {MathJax.Hub.Config({SVG: {font: \"STIX-Web\"}});}</script>\n",
              "                <script type=\"text/javascript\">window.PlotlyConfig = {MathJaxConfig: 'local'};</script>\n",
              "        <script src=\"https://cdn.plot.ly/plotly-latest.min.js\"></script>    \n",
              "            <div id=\"dc877b42-8a04-494d-bd34-f991eb80b711\" class=\"plotly-graph-div\" style=\"height:525px; width:100%;\"></div>\n",
              "            <script type=\"text/javascript\">\n",
              "                \n",
              "                    window.PLOTLYENV=window.PLOTLYENV || {};\n",
              "                    \n",
              "                if (document.getElementById(\"dc877b42-8a04-494d-bd34-f991eb80b711\")) {\n",
              "                    Plotly.newPlot(\n",
              "                        'dc877b42-8a04-494d-bd34-f991eb80b711',\n",
              "                        [{\"mode\": \"markers\", \"name\": \"Objective Value\", \"type\": \"scatter\", \"x\": [0, 1, 2, 3, 4, 5, 6, 7, 8, 9, 10, 11, 12, 13, 14, 15, 16, 17, 18, 19, 20, 21, 22, 23, 24, 25, 26, 27, 28, 29, 30, 31, 32, 33, 34, 35, 36, 37, 38, 39, 40, 41, 42, 43, 44, 45, 46, 47, 48, 49, 50, 51, 52, 53, 54, 55, 56, 57, 58, 59, 60, 61, 62, 63, 64, 65, 66, 67, 68, 69, 70, 71, 72, 73, 74, 75, 76, 77, 78, 79, 80, 81, 82, 83, 84, 85, 86, 87, 88, 89, 90, 91, 92, 93, 94, 95, 96, 97, 98, 99], \"y\": [0.7466666666666667, 0.9666666666666667, 0.32, 0.6666666666666666, 0.96, 0.32, 0.96, 0.32, 0.96, 0.96, 0.9666666666666667, 0.9533333333333333, 0.96, 0.96, 0.9666666666666667, 0.9466666666666667, 0.96, 0.96, 0.9533333333333333, 0.9533333333333333, 0.96, 0.96, 0.96, 0.9533333333333333, 0.96, 0.94, 0.96, 0.94, 0.94, 0.84, 0.96, 0.9533333333333333, 0.9533333333333333, 0.9666666666666667, 0.9466666666666667, 0.9533333333333333, 0.96, 0.94, 0.9666666666666667, 0.9533333333333333, 0.9199999999999999, 0.9666666666666667, 0.96, 0.96, 0.9466666666666667, 0.96, 0.9666666666666667, 0.96, 0.32, 0.96, 0.9533333333333333, 0.9466666666666667, 0.9533333333333333, 0.96, 0.9666666666666667, 0.96, 0.9533333333333333, 0.96, 0.96, 0.9533333333333333, 0.32, 0.9666666666666667, 0.9666666666666667, 0.96, 0.9533333333333333, 0.96, 0.9666666666666667, 0.9666666666666667, 0.94, 0.9666666666666667, 0.9533333333333333, 0.9666666666666667, 0.96, 0.96, 0.9533333333333333, 0.96, 0.9533333333333333, 0.96, 0.96, 0.9666666666666667, 0.96, 0.94, 0.96, 0.9466666666666667, 0.9666666666666667, 0.9533333333333333, 0.9533333333333333, 0.96, 0.96, 0.96, 0.9333333333333332, 0.96, 0.9666666666666667, 0.9733333333333333, 0.9666666666666667, 0.96, 0.9666666666666667, 0.96, 0.9666666666666667, 0.96]}, {\"name\": \"Best Value\", \"type\": \"scatter\", \"x\": [0, 1, 2, 3, 4, 5, 6, 7, 8, 9, 10, 11, 12, 13, 14, 15, 16, 17, 18, 19, 20, 21, 22, 23, 24, 25, 26, 27, 28, 29, 30, 31, 32, 33, 34, 35, 36, 37, 38, 39, 40, 41, 42, 43, 44, 45, 46, 47, 48, 49, 50, 51, 52, 53, 54, 55, 56, 57, 58, 59, 60, 61, 62, 63, 64, 65, 66, 67, 68, 69, 70, 71, 72, 73, 74, 75, 76, 77, 78, 79, 80, 81, 82, 83, 84, 85, 86, 87, 88, 89, 90, 91, 92, 93, 94, 95, 96, 97, 98, 99], \"y\": [0.7466666666666667, 0.9666666666666667, 0.9666666666666667, 0.9666666666666667, 0.9666666666666667, 0.9666666666666667, 0.9666666666666667, 0.9666666666666667, 0.9666666666666667, 0.9666666666666667, 0.9666666666666667, 0.9666666666666667, 0.9666666666666667, 0.9666666666666667, 0.9666666666666667, 0.9666666666666667, 0.9666666666666667, 0.9666666666666667, 0.9666666666666667, 0.9666666666666667, 0.9666666666666667, 0.9666666666666667, 0.9666666666666667, 0.9666666666666667, 0.9666666666666667, 0.9666666666666667, 0.9666666666666667, 0.9666666666666667, 0.9666666666666667, 0.9666666666666667, 0.9666666666666667, 0.9666666666666667, 0.9666666666666667, 0.9666666666666667, 0.9666666666666667, 0.9666666666666667, 0.9666666666666667, 0.9666666666666667, 0.9666666666666667, 0.9666666666666667, 0.9666666666666667, 0.9666666666666667, 0.9666666666666667, 0.9666666666666667, 0.9666666666666667, 0.9666666666666667, 0.9666666666666667, 0.9666666666666667, 0.9666666666666667, 0.9666666666666667, 0.9666666666666667, 0.9666666666666667, 0.9666666666666667, 0.9666666666666667, 0.9666666666666667, 0.9666666666666667, 0.9666666666666667, 0.9666666666666667, 0.9666666666666667, 0.9666666666666667, 0.9666666666666667, 0.9666666666666667, 0.9666666666666667, 0.9666666666666667, 0.9666666666666667, 0.9666666666666667, 0.9666666666666667, 0.9666666666666667, 0.9666666666666667, 0.9666666666666667, 0.9666666666666667, 0.9666666666666667, 0.9666666666666667, 0.9666666666666667, 0.9666666666666667, 0.9666666666666667, 0.9666666666666667, 0.9666666666666667, 0.9666666666666667, 0.9666666666666667, 0.9666666666666667, 0.9666666666666667, 0.9666666666666667, 0.9666666666666667, 0.9666666666666667, 0.9666666666666667, 0.9666666666666667, 0.9666666666666667, 0.9666666666666667, 0.9666666666666667, 0.9666666666666667, 0.9666666666666667, 0.9666666666666667, 0.9733333333333333, 0.9733333333333333, 0.9733333333333333, 0.9733333333333333, 0.9733333333333333, 0.9733333333333333, 0.9733333333333333]}],\n",
              "                        {\"template\": {\"data\": {\"bar\": [{\"error_x\": {\"color\": \"#2a3f5f\"}, \"error_y\": {\"color\": \"#2a3f5f\"}, \"marker\": {\"line\": {\"color\": \"#E5ECF6\", \"width\": 0.5}}, \"type\": \"bar\"}], \"barpolar\": [{\"marker\": {\"line\": {\"color\": \"#E5ECF6\", \"width\": 0.5}}, \"type\": \"barpolar\"}], \"carpet\": [{\"aaxis\": {\"endlinecolor\": \"#2a3f5f\", \"gridcolor\": \"white\", \"linecolor\": \"white\", \"minorgridcolor\": \"white\", \"startlinecolor\": \"#2a3f5f\"}, \"baxis\": {\"endlinecolor\": \"#2a3f5f\", \"gridcolor\": \"white\", \"linecolor\": \"white\", \"minorgridcolor\": \"white\", \"startlinecolor\": \"#2a3f5f\"}, \"type\": \"carpet\"}], \"choropleth\": [{\"colorbar\": {\"outlinewidth\": 0, \"ticks\": \"\"}, \"type\": \"choropleth\"}], \"contour\": [{\"colorbar\": {\"outlinewidth\": 0, \"ticks\": \"\"}, \"colorscale\": [[0.0, \"#0d0887\"], [0.1111111111111111, \"#46039f\"], [0.2222222222222222, \"#7201a8\"], [0.3333333333333333, \"#9c179e\"], [0.4444444444444444, \"#bd3786\"], [0.5555555555555556, \"#d8576b\"], [0.6666666666666666, \"#ed7953\"], [0.7777777777777778, \"#fb9f3a\"], [0.8888888888888888, \"#fdca26\"], [1.0, \"#f0f921\"]], \"type\": \"contour\"}], \"contourcarpet\": [{\"colorbar\": {\"outlinewidth\": 0, \"ticks\": \"\"}, \"type\": \"contourcarpet\"}], \"heatmap\": [{\"colorbar\": {\"outlinewidth\": 0, \"ticks\": \"\"}, \"colorscale\": [[0.0, \"#0d0887\"], [0.1111111111111111, \"#46039f\"], [0.2222222222222222, \"#7201a8\"], [0.3333333333333333, \"#9c179e\"], [0.4444444444444444, \"#bd3786\"], [0.5555555555555556, \"#d8576b\"], [0.6666666666666666, \"#ed7953\"], [0.7777777777777778, \"#fb9f3a\"], [0.8888888888888888, \"#fdca26\"], [1.0, \"#f0f921\"]], \"type\": \"heatmap\"}], \"heatmapgl\": [{\"colorbar\": {\"outlinewidth\": 0, \"ticks\": \"\"}, \"colorscale\": [[0.0, \"#0d0887\"], [0.1111111111111111, \"#46039f\"], [0.2222222222222222, \"#7201a8\"], [0.3333333333333333, \"#9c179e\"], [0.4444444444444444, \"#bd3786\"], [0.5555555555555556, \"#d8576b\"], [0.6666666666666666, \"#ed7953\"], [0.7777777777777778, \"#fb9f3a\"], [0.8888888888888888, \"#fdca26\"], [1.0, \"#f0f921\"]], \"type\": \"heatmapgl\"}], \"histogram\": [{\"marker\": {\"colorbar\": {\"outlinewidth\": 0, \"ticks\": \"\"}}, \"type\": \"histogram\"}], \"histogram2d\": [{\"colorbar\": {\"outlinewidth\": 0, \"ticks\": \"\"}, \"colorscale\": [[0.0, \"#0d0887\"], [0.1111111111111111, \"#46039f\"], [0.2222222222222222, \"#7201a8\"], [0.3333333333333333, \"#9c179e\"], [0.4444444444444444, \"#bd3786\"], [0.5555555555555556, \"#d8576b\"], [0.6666666666666666, \"#ed7953\"], [0.7777777777777778, \"#fb9f3a\"], [0.8888888888888888, \"#fdca26\"], [1.0, \"#f0f921\"]], \"type\": \"histogram2d\"}], \"histogram2dcontour\": [{\"colorbar\": {\"outlinewidth\": 0, \"ticks\": \"\"}, \"colorscale\": [[0.0, \"#0d0887\"], [0.1111111111111111, \"#46039f\"], [0.2222222222222222, \"#7201a8\"], [0.3333333333333333, \"#9c179e\"], [0.4444444444444444, \"#bd3786\"], [0.5555555555555556, \"#d8576b\"], [0.6666666666666666, \"#ed7953\"], [0.7777777777777778, \"#fb9f3a\"], [0.8888888888888888, \"#fdca26\"], [1.0, \"#f0f921\"]], \"type\": \"histogram2dcontour\"}], \"mesh3d\": [{\"colorbar\": {\"outlinewidth\": 0, \"ticks\": \"\"}, \"type\": \"mesh3d\"}], \"parcoords\": [{\"line\": {\"colorbar\": {\"outlinewidth\": 0, \"ticks\": \"\"}}, \"type\": \"parcoords\"}], \"pie\": [{\"automargin\": true, \"type\": \"pie\"}], \"scatter\": [{\"marker\": {\"colorbar\": {\"outlinewidth\": 0, \"ticks\": \"\"}}, \"type\": \"scatter\"}], \"scatter3d\": [{\"line\": {\"colorbar\": {\"outlinewidth\": 0, \"ticks\": \"\"}}, \"marker\": {\"colorbar\": {\"outlinewidth\": 0, \"ticks\": \"\"}}, \"type\": \"scatter3d\"}], \"scattercarpet\": [{\"marker\": {\"colorbar\": {\"outlinewidth\": 0, \"ticks\": \"\"}}, \"type\": \"scattercarpet\"}], \"scattergeo\": [{\"marker\": {\"colorbar\": {\"outlinewidth\": 0, \"ticks\": \"\"}}, \"type\": \"scattergeo\"}], \"scattergl\": [{\"marker\": {\"colorbar\": {\"outlinewidth\": 0, \"ticks\": \"\"}}, \"type\": \"scattergl\"}], \"scattermapbox\": [{\"marker\": {\"colorbar\": {\"outlinewidth\": 0, \"ticks\": \"\"}}, \"type\": \"scattermapbox\"}], \"scatterpolar\": [{\"marker\": {\"colorbar\": {\"outlinewidth\": 0, \"ticks\": \"\"}}, \"type\": \"scatterpolar\"}], \"scatterpolargl\": [{\"marker\": {\"colorbar\": {\"outlinewidth\": 0, \"ticks\": \"\"}}, \"type\": \"scatterpolargl\"}], \"scatterternary\": [{\"marker\": {\"colorbar\": {\"outlinewidth\": 0, \"ticks\": \"\"}}, \"type\": \"scatterternary\"}], \"surface\": [{\"colorbar\": {\"outlinewidth\": 0, \"ticks\": \"\"}, \"colorscale\": [[0.0, \"#0d0887\"], [0.1111111111111111, \"#46039f\"], [0.2222222222222222, \"#7201a8\"], [0.3333333333333333, \"#9c179e\"], [0.4444444444444444, \"#bd3786\"], [0.5555555555555556, \"#d8576b\"], [0.6666666666666666, \"#ed7953\"], [0.7777777777777778, \"#fb9f3a\"], [0.8888888888888888, \"#fdca26\"], [1.0, \"#f0f921\"]], \"type\": \"surface\"}], \"table\": [{\"cells\": {\"fill\": {\"color\": \"#EBF0F8\"}, \"line\": {\"color\": \"white\"}}, \"header\": {\"fill\": {\"color\": \"#C8D4E3\"}, \"line\": {\"color\": \"white\"}}, \"type\": \"table\"}]}, \"layout\": {\"annotationdefaults\": {\"arrowcolor\": \"#2a3f5f\", \"arrowhead\": 0, \"arrowwidth\": 1}, \"coloraxis\": {\"colorbar\": {\"outlinewidth\": 0, \"ticks\": \"\"}}, \"colorscale\": {\"diverging\": [[0, \"#8e0152\"], [0.1, \"#c51b7d\"], [0.2, \"#de77ae\"], [0.3, \"#f1b6da\"], [0.4, \"#fde0ef\"], [0.5, \"#f7f7f7\"], [0.6, \"#e6f5d0\"], [0.7, \"#b8e186\"], [0.8, \"#7fbc41\"], [0.9, \"#4d9221\"], [1, \"#276419\"]], \"sequential\": [[0.0, \"#0d0887\"], [0.1111111111111111, \"#46039f\"], [0.2222222222222222, \"#7201a8\"], [0.3333333333333333, \"#9c179e\"], [0.4444444444444444, \"#bd3786\"], [0.5555555555555556, \"#d8576b\"], [0.6666666666666666, \"#ed7953\"], [0.7777777777777778, \"#fb9f3a\"], [0.8888888888888888, \"#fdca26\"], [1.0, \"#f0f921\"]], \"sequentialminus\": [[0.0, \"#0d0887\"], [0.1111111111111111, \"#46039f\"], [0.2222222222222222, \"#7201a8\"], [0.3333333333333333, \"#9c179e\"], [0.4444444444444444, \"#bd3786\"], [0.5555555555555556, \"#d8576b\"], [0.6666666666666666, \"#ed7953\"], [0.7777777777777778, \"#fb9f3a\"], [0.8888888888888888, \"#fdca26\"], [1.0, \"#f0f921\"]]}, \"colorway\": [\"#636efa\", \"#EF553B\", \"#00cc96\", \"#ab63fa\", \"#FFA15A\", \"#19d3f3\", \"#FF6692\", \"#B6E880\", \"#FF97FF\", \"#FECB52\"], \"font\": {\"color\": \"#2a3f5f\"}, \"geo\": {\"bgcolor\": \"white\", \"lakecolor\": \"white\", \"landcolor\": \"#E5ECF6\", \"showlakes\": true, \"showland\": true, \"subunitcolor\": \"white\"}, \"hoverlabel\": {\"align\": \"left\"}, \"hovermode\": \"closest\", \"mapbox\": {\"style\": \"light\"}, \"paper_bgcolor\": \"white\", \"plot_bgcolor\": \"#E5ECF6\", \"polar\": {\"angularaxis\": {\"gridcolor\": \"white\", \"linecolor\": \"white\", \"ticks\": \"\"}, \"bgcolor\": \"#E5ECF6\", \"radialaxis\": {\"gridcolor\": \"white\", \"linecolor\": \"white\", \"ticks\": \"\"}}, \"scene\": {\"xaxis\": {\"backgroundcolor\": \"#E5ECF6\", \"gridcolor\": \"white\", \"gridwidth\": 2, \"linecolor\": \"white\", \"showbackground\": true, \"ticks\": \"\", \"zerolinecolor\": \"white\"}, \"yaxis\": {\"backgroundcolor\": \"#E5ECF6\", \"gridcolor\": \"white\", \"gridwidth\": 2, \"linecolor\": \"white\", \"showbackground\": true, \"ticks\": \"\", \"zerolinecolor\": \"white\"}, \"zaxis\": {\"backgroundcolor\": \"#E5ECF6\", \"gridcolor\": \"white\", \"gridwidth\": 2, \"linecolor\": \"white\", \"showbackground\": true, \"ticks\": \"\", \"zerolinecolor\": \"white\"}}, \"shapedefaults\": {\"line\": {\"color\": \"#2a3f5f\"}}, \"ternary\": {\"aaxis\": {\"gridcolor\": \"white\", \"linecolor\": \"white\", \"ticks\": \"\"}, \"baxis\": {\"gridcolor\": \"white\", \"linecolor\": \"white\", \"ticks\": \"\"}, \"bgcolor\": \"#E5ECF6\", \"caxis\": {\"gridcolor\": \"white\", \"linecolor\": \"white\", \"ticks\": \"\"}}, \"title\": {\"x\": 0.05}, \"xaxis\": {\"automargin\": true, \"gridcolor\": \"white\", \"linecolor\": \"white\", \"ticks\": \"\", \"title\": {\"standoff\": 15}, \"zerolinecolor\": \"white\", \"zerolinewidth\": 2}, \"yaxis\": {\"automargin\": true, \"gridcolor\": \"white\", \"linecolor\": \"white\", \"ticks\": \"\", \"title\": {\"standoff\": 15}, \"zerolinecolor\": \"white\", \"zerolinewidth\": 2}}}, \"title\": {\"text\": \"Optimization History Plot\"}, \"xaxis\": {\"title\": {\"text\": \"#Trials\"}}, \"yaxis\": {\"title\": {\"text\": \"Objective Value\"}}},\n",
              "                        {\"responsive\": true}\n",
              "                    ).then(function(){\n",
              "                            \n",
              "var gd = document.getElementById('dc877b42-8a04-494d-bd34-f991eb80b711');\n",
              "var x = new MutationObserver(function (mutations, observer) {{\n",
              "        var display = window.getComputedStyle(gd).display;\n",
              "        if (!display || display === 'none') {{\n",
              "            console.log([gd, 'removed!']);\n",
              "            Plotly.purge(gd);\n",
              "            observer.disconnect();\n",
              "        }}\n",
              "}});\n",
              "\n",
              "// Listen for the removal of the full notebook cells\n",
              "var notebookContainer = gd.closest('#notebook-container');\n",
              "if (notebookContainer) {{\n",
              "    x.observe(notebookContainer, {childList: true});\n",
              "}}\n",
              "\n",
              "// Listen for the clearing of the current output cell\n",
              "var outputEl = gd.closest('.output');\n",
              "if (outputEl) {{\n",
              "    x.observe(outputEl, {childList: true});\n",
              "}}\n",
              "\n",
              "                        })\n",
              "                };\n",
              "                \n",
              "            </script>\n",
              "        </div>\n",
              "</body>\n",
              "</html>"
            ]
          },
          "metadata": {
            "tags": []
          }
        }
      ]
    },
    {
      "cell_type": "markdown",
      "metadata": {
        "id": "ulz44GYiWmB4"
      },
      "source": [
        "Plotting the accuracies for each hyperparameter for each trial."
      ]
    },
    {
      "cell_type": "code",
      "metadata": {
        "id": "zlGK1WD8WmB7",
        "colab": {
          "base_uri": "https://localhost:8080/",
          "height": 542
        },
        "outputId": "2088be4d-fd34-4bc0-a3ca-98b00a401b03"
      },
      "source": [
        "optuna.visualization.plot_slice(study)"
      ],
      "execution_count": 7,
      "outputs": [
        {
          "output_type": "display_data",
          "data": {
            "text/html": [
              "<html>\n",
              "<head><meta charset=\"utf-8\" /></head>\n",
              "<body>\n",
              "    <div>\n",
              "            <script src=\"https://cdnjs.cloudflare.com/ajax/libs/mathjax/2.7.5/MathJax.js?config=TeX-AMS-MML_SVG\"></script><script type=\"text/javascript\">if (window.MathJax) {MathJax.Hub.Config({SVG: {font: \"STIX-Web\"}});}</script>\n",
              "                <script type=\"text/javascript\">window.PlotlyConfig = {MathJaxConfig: 'local'};</script>\n",
              "        <script src=\"https://cdn.plot.ly/plotly-latest.min.js\"></script>    \n",
              "            <div id=\"48e6119d-2fb1-4a2d-ba5a-7968ec9740f8\" class=\"plotly-graph-div\" style=\"height:525px; width:1200px;\"></div>\n",
              "            <script type=\"text/javascript\">\n",
              "                \n",
              "                    window.PLOTLYENV=window.PLOTLYENV || {};\n",
              "                    \n",
              "                if (document.getElementById(\"48e6119d-2fb1-4a2d-ba5a-7968ec9740f8\")) {\n",
              "                    Plotly.newPlot(\n",
              "                        '48e6119d-2fb1-4a2d-ba5a-7968ec9740f8',\n",
              "                        [{\"marker\": {\"color\": [0, 1, 2, 3, 4, 5, 6, 7, 8, 9, 10, 11, 12, 13, 14, 15, 16, 17, 18, 19, 20, 21, 22, 23, 24, 25, 26, 27, 28, 29, 30, 31, 32, 33, 34, 35, 36, 37, 38, 39, 40, 41, 42, 43, 44, 45, 46, 47, 48, 49, 50, 51, 52, 53, 54, 55, 56, 57, 58, 59, 60, 61, 62, 63, 64, 65, 66, 67, 68, 69, 70, 71, 72, 73, 74, 75, 76, 77, 78, 79, 80, 81, 82, 83, 84, 85, 86, 87, 88, 89, 90, 91, 92, 93, 94, 95, 96, 97, 98, 99], \"colorbar\": {\"title\": {\"text\": \"#Trials\"}, \"x\": 1.0, \"xpad\": 40}, \"colorscale\": [[0.0, \"rgb(247,251,255)\"], [0.125, \"rgb(222,235,247)\"], [0.25, \"rgb(198,219,239)\"], [0.375, \"rgb(158,202,225)\"], [0.5, \"rgb(107,174,214)\"], [0.625, \"rgb(66,146,198)\"], [0.75, \"rgb(33,113,181)\"], [0.875, \"rgb(8,81,156)\"], [1.0, \"rgb(8,48,107)\"]], \"line\": {\"color\": \"Grey\", \"width\": 0.5}, \"showscale\": true}, \"mode\": \"markers\", \"showlegend\": false, \"type\": \"scatter\", \"x\": [\"RandomForest\", \"RandomForest\", \"SVC\", \"RandomForest\", \"SVC\", \"SVC\", \"RandomForest\", \"SVC\", \"SVC\", \"SVC\", \"RandomForest\", \"RandomForest\", \"RandomForest\", \"RandomForest\", \"RandomForest\", \"RandomForest\", \"RandomForest\", \"RandomForest\", \"RandomForest\", \"RandomForest\", \"RandomForest\", \"RandomForest\", \"RandomForest\", \"RandomForest\", \"RandomForest\", \"RandomForest\", \"RandomForest\", \"RandomForest\", \"RandomForest\", \"RandomForest\", \"RandomForest\", \"RandomForest\", \"RandomForest\", \"RandomForest\", \"RandomForest\", \"RandomForest\", \"RandomForest\", \"SVC\", \"RandomForest\", \"SVC\", \"RandomForest\", \"RandomForest\", \"RandomForest\", \"RandomForest\", \"RandomForest\", \"RandomForest\", \"RandomForest\", \"RandomForest\", \"SVC\", \"RandomForest\", \"RandomForest\", \"RandomForest\", \"RandomForest\", \"RandomForest\", \"RandomForest\", \"RandomForest\", \"RandomForest\", \"RandomForest\", \"RandomForest\", \"RandomForest\", \"SVC\", \"RandomForest\", \"RandomForest\", \"RandomForest\", \"RandomForest\", \"RandomForest\", \"RandomForest\", \"RandomForest\", \"RandomForest\", \"RandomForest\", \"RandomForest\", \"RandomForest\", \"RandomForest\", \"RandomForest\", \"RandomForest\", \"RandomForest\", \"RandomForest\", \"RandomForest\", \"RandomForest\", \"RandomForest\", \"RandomForest\", \"RandomForest\", \"RandomForest\", \"RandomForest\", \"RandomForest\", \"RandomForest\", \"RandomForest\", \"RandomForest\", \"SVC\", \"RandomForest\", \"RandomForest\", \"RandomForest\", \"RandomForest\", \"RandomForest\", \"RandomForest\", \"RandomForest\", \"RandomForest\", \"RandomForest\", \"RandomForest\", \"RandomForest\"], \"xaxis\": \"x\", \"y\": [0.7466666666666667, 0.9666666666666667, 0.32, 0.6666666666666666, 0.96, 0.32, 0.96, 0.32, 0.96, 0.96, 0.9666666666666667, 0.9533333333333333, 0.96, 0.96, 0.9666666666666667, 0.9466666666666667, 0.96, 0.96, 0.9533333333333333, 0.9533333333333333, 0.96, 0.96, 0.96, 0.9533333333333333, 0.96, 0.94, 0.96, 0.94, 0.94, 0.84, 0.96, 0.9533333333333333, 0.9533333333333333, 0.9666666666666667, 0.9466666666666667, 0.9533333333333333, 0.96, 0.94, 0.9666666666666667, 0.9533333333333333, 0.9199999999999999, 0.9666666666666667, 0.96, 0.96, 0.9466666666666667, 0.96, 0.9666666666666667, 0.96, 0.32, 0.96, 0.9533333333333333, 0.9466666666666667, 0.9533333333333333, 0.96, 0.9666666666666667, 0.96, 0.9533333333333333, 0.96, 0.96, 0.9533333333333333, 0.32, 0.9666666666666667, 0.9666666666666667, 0.96, 0.9533333333333333, 0.96, 0.9666666666666667, 0.9666666666666667, 0.94, 0.9666666666666667, 0.9533333333333333, 0.9666666666666667, 0.96, 0.96, 0.9533333333333333, 0.96, 0.9533333333333333, 0.96, 0.96, 0.9666666666666667, 0.96, 0.94, 0.96, 0.9466666666666667, 0.9666666666666667, 0.9533333333333333, 0.9533333333333333, 0.96, 0.96, 0.96, 0.9333333333333332, 0.96, 0.9666666666666667, 0.9733333333333333, 0.9666666666666667, 0.96, 0.9666666666666667, 0.96, 0.9666666666666667, 0.96], \"yaxis\": \"y\"}, {\"marker\": {\"color\": [0, 1, 3, 6, 10, 11, 12, 13, 14, 15, 16, 17, 18, 19, 20, 21, 22, 23, 24, 25, 26, 27, 28, 29, 30, 31, 32, 33, 34, 35, 36, 38, 40, 41, 42, 43, 44, 45, 46, 47, 49, 50, 51, 52, 53, 54, 55, 56, 57, 58, 59, 61, 62, 63, 64, 65, 66, 67, 68, 69, 70, 71, 72, 73, 74, 75, 76, 77, 78, 79, 80, 81, 82, 83, 84, 85, 86, 87, 89, 90, 91, 92, 93, 94, 95, 96, 97, 98, 99], \"colorbar\": {\"title\": {\"text\": \"#Trials\"}, \"x\": 1.0, \"xpad\": 40}, \"colorscale\": [[0.0, \"rgb(247,251,255)\"], [0.125, \"rgb(222,235,247)\"], [0.25, \"rgb(198,219,239)\"], [0.375, \"rgb(158,202,225)\"], [0.5, \"rgb(107,174,214)\"], [0.625, \"rgb(66,146,198)\"], [0.75, \"rgb(33,113,181)\"], [0.875, \"rgb(8,81,156)\"], [1.0, \"rgb(8,48,107)\"]], \"line\": {\"color\": \"Grey\", \"width\": 0.5}, \"showscale\": false}, \"mode\": \"markers\", \"showlegend\": false, \"type\": \"scatter\", \"x\": [1.6458248300063194, 8.201375692811228, 1.8527679516349724, 20.543363127754663, 11.40243522369355, 11.016689541006073, 6.363185570913975, 16.29250483689295, 4.981956104787176, 5.43902555514703, 10.796850625859395, 3.6279921295463127, 3.0399995665643313, 31.117608637998032, 5.816515354431472, 9.79977580078252, 7.9349680061615135, 3.924363296607811, 17.16772969372292, 13.085760307890217, 26.584203014162192, 7.6079034764686195, 2.3291808818021393, 1.0958894302733866, 4.2597067249815685, 4.0540711761285095, 3.363851843158431, 9.263686318663666, 8.150881554075902, 12.976525127316071, 5.6203850238610515, 9.040312502633892, 8.321824853748927, 12.811066002523486, 14.035069556505226, 20.548040767253756, 9.31759795701047, 6.779597367797725, 17.64711503503367, 21.196670773625975, 16.41836695593315, 4.811148675095474, 11.978195889472667, 10.461630119898548, 14.576127506554203, 6.880889090673533, 6.403480652606454, 9.639741263933596, 11.188609283594904, 6.915491181711143, 24.274773487200804, 4.9323510841519935, 4.908491164059909, 4.871276166274643, 17.577921043261238, 9.562436496983402, 7.319242004771007, 6.049648967682503, 2.8294942637775637, 4.743043919456688, 8.398596871142784, 5.7192688010484085, 5.36507904413182, 4.392643252852917, 3.8118165226947087, 7.49027478006954, 4.487815517393446, 6.041438004387958, 12.094546321445215, 5.264977363088413, 9.007128668713465, 10.707638310086617, 7.133823769817649, 6.423525398104711, 6.077522395329187, 3.580416959205172, 14.910678273961878, 8.545109076227883, 5.558866361621581, 7.589181603782741, 6.266163288284514, 4.8261879374581005, 5.232116529278027, 5.584386975701804, 7.023074853746046, 4.2424930904420455, 3.351634849947771, 4.172563266608027, 5.18209939448373], \"xaxis\": \"x2\", \"y\": [0.7466666666666667, 0.9666666666666667, 0.6666666666666666, 0.96, 0.9666666666666667, 0.9533333333333333, 0.96, 0.96, 0.9666666666666667, 0.9466666666666667, 0.96, 0.96, 0.9533333333333333, 0.9533333333333333, 0.96, 0.96, 0.96, 0.9533333333333333, 0.96, 0.94, 0.96, 0.94, 0.94, 0.84, 0.96, 0.9533333333333333, 0.9533333333333333, 0.9666666666666667, 0.9466666666666667, 0.9533333333333333, 0.96, 0.9666666666666667, 0.9199999999999999, 0.9666666666666667, 0.96, 0.96, 0.9466666666666667, 0.96, 0.9666666666666667, 0.96, 0.96, 0.9533333333333333, 0.9466666666666667, 0.9533333333333333, 0.96, 0.9666666666666667, 0.96, 0.9533333333333333, 0.96, 0.96, 0.9533333333333333, 0.9666666666666667, 0.9666666666666667, 0.96, 0.9533333333333333, 0.96, 0.9666666666666667, 0.9666666666666667, 0.94, 0.9666666666666667, 0.9533333333333333, 0.9666666666666667, 0.96, 0.96, 0.9533333333333333, 0.96, 0.9533333333333333, 0.96, 0.96, 0.9666666666666667, 0.96, 0.94, 0.96, 0.9466666666666667, 0.9666666666666667, 0.9533333333333333, 0.9533333333333333, 0.96, 0.96, 0.9333333333333332, 0.96, 0.9666666666666667, 0.9733333333333333, 0.9666666666666667, 0.96, 0.9666666666666667, 0.96, 0.9666666666666667, 0.96], \"yaxis\": \"y2\"}, {\"marker\": {\"color\": [0, 1, 3, 6, 10, 11, 12, 13, 14, 15, 16, 17, 18, 19, 20, 21, 22, 23, 24, 25, 26, 27, 28, 29, 30, 31, 32, 33, 34, 35, 36, 38, 40, 41, 42, 43, 44, 45, 46, 47, 49, 50, 51, 52, 53, 54, 55, 56, 57, 58, 59, 61, 62, 63, 64, 65, 66, 67, 68, 69, 70, 71, 72, 73, 74, 75, 76, 77, 78, 79, 80, 81, 82, 83, 84, 85, 86, 87, 89, 90, 91, 92, 93, 94, 95, 96, 97, 98, 99], \"colorbar\": {\"title\": {\"text\": \"#Trials\"}, \"x\": 1.0, \"xpad\": 40}, \"colorscale\": [[0.0, \"rgb(247,251,255)\"], [0.125, \"rgb(222,235,247)\"], [0.25, \"rgb(198,219,239)\"], [0.375, \"rgb(158,202,225)\"], [0.5, \"rgb(107,174,214)\"], [0.625, \"rgb(66,146,198)\"], [0.75, \"rgb(33,113,181)\"], [0.875, \"rgb(8,81,156)\"], [1.0, \"rgb(8,48,107)\"]], \"line\": {\"color\": \"Grey\", \"width\": 0.5}, \"showscale\": false}, \"mode\": \"markers\", \"showlegend\": false, \"type\": \"scatter\", \"x\": [7, 16, 4, 14, 20, 20, 20, 15, 17, 11, 20, 16, 17, 12, 17, 18, 13, 19, 8, 15, 18, 9, 16, 18, 20, 16, 13, 20, 19, 19, 17, 18, 2, 18, 19, 20, 15, 5, 18, 18, 20, 14, 17, 19, 18, 17, 16, 14, 19, 17, 15, 17, 20, 17, 18, 18, 19, 16, 20, 16, 17, 19, 20, 20, 18, 19, 16, 16, 18, 11, 10, 7, 19, 17, 19, 18, 19, 16, 12, 6, 20, 15, 17, 15, 17, 15, 16, 17, 3], \"xaxis\": \"x3\", \"y\": [0.7466666666666667, 0.9666666666666667, 0.6666666666666666, 0.96, 0.9666666666666667, 0.9533333333333333, 0.96, 0.96, 0.9666666666666667, 0.9466666666666667, 0.96, 0.96, 0.9533333333333333, 0.9533333333333333, 0.96, 0.96, 0.96, 0.9533333333333333, 0.96, 0.94, 0.96, 0.94, 0.94, 0.84, 0.96, 0.9533333333333333, 0.9533333333333333, 0.9666666666666667, 0.9466666666666667, 0.9533333333333333, 0.96, 0.9666666666666667, 0.9199999999999999, 0.9666666666666667, 0.96, 0.96, 0.9466666666666667, 0.96, 0.9666666666666667, 0.96, 0.96, 0.9533333333333333, 0.9466666666666667, 0.9533333333333333, 0.96, 0.9666666666666667, 0.96, 0.9533333333333333, 0.96, 0.96, 0.9533333333333333, 0.9666666666666667, 0.9666666666666667, 0.96, 0.9533333333333333, 0.96, 0.9666666666666667, 0.9666666666666667, 0.94, 0.9666666666666667, 0.9533333333333333, 0.9666666666666667, 0.96, 0.96, 0.9533333333333333, 0.96, 0.9533333333333333, 0.96, 0.96, 0.9666666666666667, 0.96, 0.94, 0.96, 0.9466666666666667, 0.9666666666666667, 0.9533333333333333, 0.9533333333333333, 0.96, 0.96, 0.9333333333333332, 0.96, 0.9666666666666667, 0.9733333333333333, 0.9666666666666667, 0.96, 0.9666666666666667, 0.96, 0.9666666666666667, 0.96], \"yaxis\": \"y3\"}, {\"marker\": {\"color\": [2, 4, 5, 7, 8, 9, 37, 39, 48, 60, 88], \"colorbar\": {\"title\": {\"text\": \"#Trials\"}, \"x\": 1.0, \"xpad\": 40}, \"colorscale\": [[0.0, \"rgb(247,251,255)\"], [0.125, \"rgb(222,235,247)\"], [0.25, \"rgb(198,219,239)\"], [0.375, \"rgb(158,202,225)\"], [0.5, \"rgb(107,174,214)\"], [0.625, \"rgb(66,146,198)\"], [0.75, \"rgb(33,113,181)\"], [0.875, \"rgb(8,81,156)\"], [1.0, \"rgb(8,48,107)\"]], \"line\": {\"color\": \"Grey\", \"width\": 0.5}, \"showscale\": false}, \"mode\": \"markers\", \"showlegend\": false, \"type\": \"scatter\", \"x\": [1.1106127225103179e-05, 1115193608.7301815, 0.00032834066448947396, 3.2339234443320365e-05, 13385469.487261852, 3337302259.5916553, 243.54194687298084, 485.67883337876737, 2.9073434047358244e-10, 2.702564167225663e-10, 21218.828142135095], \"xaxis\": \"x4\", \"y\": [0.32, 0.96, 0.32, 0.32, 0.96, 0.96, 0.94, 0.9533333333333333, 0.32, 0.32, 0.96], \"yaxis\": \"y4\"}],\n",
              "                        {\"template\": {\"data\": {\"bar\": [{\"error_x\": {\"color\": \"#2a3f5f\"}, \"error_y\": {\"color\": \"#2a3f5f\"}, \"marker\": {\"line\": {\"color\": \"#E5ECF6\", \"width\": 0.5}}, \"type\": \"bar\"}], \"barpolar\": [{\"marker\": {\"line\": {\"color\": \"#E5ECF6\", \"width\": 0.5}}, \"type\": \"barpolar\"}], \"carpet\": [{\"aaxis\": {\"endlinecolor\": \"#2a3f5f\", \"gridcolor\": \"white\", \"linecolor\": \"white\", \"minorgridcolor\": \"white\", \"startlinecolor\": \"#2a3f5f\"}, \"baxis\": {\"endlinecolor\": \"#2a3f5f\", \"gridcolor\": \"white\", \"linecolor\": \"white\", \"minorgridcolor\": \"white\", \"startlinecolor\": \"#2a3f5f\"}, \"type\": \"carpet\"}], \"choropleth\": [{\"colorbar\": {\"outlinewidth\": 0, \"ticks\": \"\"}, \"type\": \"choropleth\"}], \"contour\": [{\"colorbar\": {\"outlinewidth\": 0, \"ticks\": \"\"}, \"colorscale\": [[0.0, \"#0d0887\"], [0.1111111111111111, \"#46039f\"], [0.2222222222222222, \"#7201a8\"], [0.3333333333333333, \"#9c179e\"], [0.4444444444444444, \"#bd3786\"], [0.5555555555555556, \"#d8576b\"], [0.6666666666666666, \"#ed7953\"], [0.7777777777777778, \"#fb9f3a\"], [0.8888888888888888, \"#fdca26\"], [1.0, \"#f0f921\"]], \"type\": \"contour\"}], \"contourcarpet\": [{\"colorbar\": {\"outlinewidth\": 0, \"ticks\": \"\"}, \"type\": \"contourcarpet\"}], \"heatmap\": [{\"colorbar\": {\"outlinewidth\": 0, \"ticks\": \"\"}, \"colorscale\": [[0.0, \"#0d0887\"], [0.1111111111111111, \"#46039f\"], [0.2222222222222222, \"#7201a8\"], [0.3333333333333333, \"#9c179e\"], [0.4444444444444444, \"#bd3786\"], [0.5555555555555556, \"#d8576b\"], [0.6666666666666666, \"#ed7953\"], [0.7777777777777778, \"#fb9f3a\"], [0.8888888888888888, \"#fdca26\"], [1.0, \"#f0f921\"]], \"type\": \"heatmap\"}], \"heatmapgl\": [{\"colorbar\": {\"outlinewidth\": 0, \"ticks\": \"\"}, \"colorscale\": [[0.0, \"#0d0887\"], [0.1111111111111111, \"#46039f\"], [0.2222222222222222, \"#7201a8\"], [0.3333333333333333, \"#9c179e\"], [0.4444444444444444, \"#bd3786\"], [0.5555555555555556, \"#d8576b\"], [0.6666666666666666, \"#ed7953\"], [0.7777777777777778, \"#fb9f3a\"], [0.8888888888888888, \"#fdca26\"], [1.0, \"#f0f921\"]], \"type\": \"heatmapgl\"}], \"histogram\": [{\"marker\": {\"colorbar\": {\"outlinewidth\": 0, \"ticks\": \"\"}}, \"type\": \"histogram\"}], \"histogram2d\": [{\"colorbar\": {\"outlinewidth\": 0, \"ticks\": \"\"}, \"colorscale\": [[0.0, \"#0d0887\"], [0.1111111111111111, \"#46039f\"], [0.2222222222222222, \"#7201a8\"], [0.3333333333333333, \"#9c179e\"], [0.4444444444444444, \"#bd3786\"], [0.5555555555555556, \"#d8576b\"], [0.6666666666666666, \"#ed7953\"], [0.7777777777777778, \"#fb9f3a\"], [0.8888888888888888, \"#fdca26\"], [1.0, \"#f0f921\"]], \"type\": \"histogram2d\"}], \"histogram2dcontour\": [{\"colorbar\": {\"outlinewidth\": 0, \"ticks\": \"\"}, \"colorscale\": [[0.0, \"#0d0887\"], [0.1111111111111111, \"#46039f\"], [0.2222222222222222, \"#7201a8\"], [0.3333333333333333, \"#9c179e\"], [0.4444444444444444, \"#bd3786\"], [0.5555555555555556, \"#d8576b\"], [0.6666666666666666, \"#ed7953\"], [0.7777777777777778, \"#fb9f3a\"], [0.8888888888888888, \"#fdca26\"], [1.0, \"#f0f921\"]], \"type\": \"histogram2dcontour\"}], \"mesh3d\": [{\"colorbar\": {\"outlinewidth\": 0, \"ticks\": \"\"}, \"type\": \"mesh3d\"}], \"parcoords\": [{\"line\": {\"colorbar\": {\"outlinewidth\": 0, \"ticks\": \"\"}}, \"type\": \"parcoords\"}], \"pie\": [{\"automargin\": true, \"type\": \"pie\"}], \"scatter\": [{\"marker\": {\"colorbar\": {\"outlinewidth\": 0, \"ticks\": \"\"}}, \"type\": \"scatter\"}], \"scatter3d\": [{\"line\": {\"colorbar\": {\"outlinewidth\": 0, \"ticks\": \"\"}}, \"marker\": {\"colorbar\": {\"outlinewidth\": 0, \"ticks\": \"\"}}, \"type\": \"scatter3d\"}], \"scattercarpet\": [{\"marker\": {\"colorbar\": {\"outlinewidth\": 0, \"ticks\": \"\"}}, \"type\": \"scattercarpet\"}], \"scattergeo\": [{\"marker\": {\"colorbar\": {\"outlinewidth\": 0, \"ticks\": \"\"}}, \"type\": \"scattergeo\"}], \"scattergl\": [{\"marker\": {\"colorbar\": {\"outlinewidth\": 0, \"ticks\": \"\"}}, \"type\": \"scattergl\"}], \"scattermapbox\": [{\"marker\": {\"colorbar\": {\"outlinewidth\": 0, \"ticks\": \"\"}}, \"type\": \"scattermapbox\"}], \"scatterpolar\": [{\"marker\": {\"colorbar\": {\"outlinewidth\": 0, \"ticks\": \"\"}}, \"type\": \"scatterpolar\"}], \"scatterpolargl\": [{\"marker\": {\"colorbar\": {\"outlinewidth\": 0, \"ticks\": \"\"}}, \"type\": \"scatterpolargl\"}], \"scatterternary\": [{\"marker\": {\"colorbar\": {\"outlinewidth\": 0, \"ticks\": \"\"}}, \"type\": \"scatterternary\"}], \"surface\": [{\"colorbar\": {\"outlinewidth\": 0, \"ticks\": \"\"}, \"colorscale\": [[0.0, \"#0d0887\"], [0.1111111111111111, \"#46039f\"], [0.2222222222222222, \"#7201a8\"], [0.3333333333333333, \"#9c179e\"], [0.4444444444444444, \"#bd3786\"], [0.5555555555555556, \"#d8576b\"], [0.6666666666666666, \"#ed7953\"], [0.7777777777777778, \"#fb9f3a\"], [0.8888888888888888, \"#fdca26\"], [1.0, \"#f0f921\"]], \"type\": \"surface\"}], \"table\": [{\"cells\": {\"fill\": {\"color\": \"#EBF0F8\"}, \"line\": {\"color\": \"white\"}}, \"header\": {\"fill\": {\"color\": \"#C8D4E3\"}, \"line\": {\"color\": \"white\"}}, \"type\": \"table\"}]}, \"layout\": {\"annotationdefaults\": {\"arrowcolor\": \"#2a3f5f\", \"arrowhead\": 0, \"arrowwidth\": 1}, \"coloraxis\": {\"colorbar\": {\"outlinewidth\": 0, \"ticks\": \"\"}}, \"colorscale\": {\"diverging\": [[0, \"#8e0152\"], [0.1, \"#c51b7d\"], [0.2, \"#de77ae\"], [0.3, \"#f1b6da\"], [0.4, \"#fde0ef\"], [0.5, \"#f7f7f7\"], [0.6, \"#e6f5d0\"], [0.7, \"#b8e186\"], [0.8, \"#7fbc41\"], [0.9, \"#4d9221\"], [1, \"#276419\"]], \"sequential\": [[0.0, \"#0d0887\"], [0.1111111111111111, \"#46039f\"], [0.2222222222222222, \"#7201a8\"], [0.3333333333333333, \"#9c179e\"], [0.4444444444444444, \"#bd3786\"], [0.5555555555555556, \"#d8576b\"], [0.6666666666666666, \"#ed7953\"], [0.7777777777777778, \"#fb9f3a\"], [0.8888888888888888, \"#fdca26\"], [1.0, \"#f0f921\"]], \"sequentialminus\": [[0.0, \"#0d0887\"], [0.1111111111111111, \"#46039f\"], [0.2222222222222222, \"#7201a8\"], [0.3333333333333333, \"#9c179e\"], [0.4444444444444444, \"#bd3786\"], [0.5555555555555556, \"#d8576b\"], [0.6666666666666666, \"#ed7953\"], [0.7777777777777778, \"#fb9f3a\"], [0.8888888888888888, \"#fdca26\"], [1.0, \"#f0f921\"]]}, \"colorway\": [\"#636efa\", \"#EF553B\", \"#00cc96\", \"#ab63fa\", \"#FFA15A\", \"#19d3f3\", \"#FF6692\", \"#B6E880\", \"#FF97FF\", \"#FECB52\"], \"font\": {\"color\": \"#2a3f5f\"}, \"geo\": {\"bgcolor\": \"white\", \"lakecolor\": \"white\", \"landcolor\": \"#E5ECF6\", \"showlakes\": true, \"showland\": true, \"subunitcolor\": \"white\"}, \"hoverlabel\": {\"align\": \"left\"}, \"hovermode\": \"closest\", \"mapbox\": {\"style\": \"light\"}, \"paper_bgcolor\": \"white\", \"plot_bgcolor\": \"#E5ECF6\", \"polar\": {\"angularaxis\": {\"gridcolor\": \"white\", \"linecolor\": \"white\", \"ticks\": \"\"}, \"bgcolor\": \"#E5ECF6\", \"radialaxis\": {\"gridcolor\": \"white\", \"linecolor\": \"white\", \"ticks\": \"\"}}, \"scene\": {\"xaxis\": {\"backgroundcolor\": \"#E5ECF6\", \"gridcolor\": \"white\", \"gridwidth\": 2, \"linecolor\": \"white\", \"showbackground\": true, \"ticks\": \"\", \"zerolinecolor\": \"white\"}, \"yaxis\": {\"backgroundcolor\": \"#E5ECF6\", \"gridcolor\": \"white\", \"gridwidth\": 2, \"linecolor\": \"white\", \"showbackground\": true, \"ticks\": \"\", \"zerolinecolor\": \"white\"}, \"zaxis\": {\"backgroundcolor\": \"#E5ECF6\", \"gridcolor\": \"white\", \"gridwidth\": 2, \"linecolor\": \"white\", \"showbackground\": true, \"ticks\": \"\", \"zerolinecolor\": \"white\"}}, \"shapedefaults\": {\"line\": {\"color\": \"#2a3f5f\"}}, \"ternary\": {\"aaxis\": {\"gridcolor\": \"white\", \"linecolor\": \"white\", \"ticks\": \"\"}, \"baxis\": {\"gridcolor\": \"white\", \"linecolor\": \"white\", \"ticks\": \"\"}, \"bgcolor\": \"#E5ECF6\", \"caxis\": {\"gridcolor\": \"white\", \"linecolor\": \"white\", \"ticks\": \"\"}}, \"title\": {\"x\": 0.05}, \"xaxis\": {\"automargin\": true, \"gridcolor\": \"white\", \"linecolor\": \"white\", \"ticks\": \"\", \"title\": {\"standoff\": 15}, \"zerolinecolor\": \"white\", \"zerolinewidth\": 2}, \"yaxis\": {\"automargin\": true, \"gridcolor\": \"white\", \"linecolor\": \"white\", \"ticks\": \"\", \"title\": {\"standoff\": 15}, \"zerolinecolor\": \"white\", \"zerolinewidth\": 2}}}, \"title\": {\"text\": \"Slice Plot\"}, \"width\": 1200, \"xaxis\": {\"anchor\": \"y\", \"domain\": [0.0, 0.2125], \"title\": {\"text\": \"classifier\"}}, \"xaxis2\": {\"anchor\": \"y2\", \"domain\": [0.2625, 0.475], \"title\": {\"text\": \"max_depth\"}, \"type\": \"log\"}, \"xaxis3\": {\"anchor\": \"y3\", \"domain\": [0.525, 0.7375], \"title\": {\"text\": \"n_estimators\"}}, \"xaxis4\": {\"anchor\": \"y4\", \"domain\": [0.7875, 1.0], \"title\": {\"text\": \"svc_c\"}, \"type\": \"log\"}, \"yaxis\": {\"anchor\": \"x\", \"domain\": [0.0, 1.0], \"title\": {\"text\": \"Objective Value\"}}, \"yaxis2\": {\"anchor\": \"x2\", \"domain\": [0.0, 1.0], \"matches\": \"y\", \"showticklabels\": false}, \"yaxis3\": {\"anchor\": \"x3\", \"domain\": [0.0, 1.0], \"matches\": \"y\", \"showticklabels\": false}, \"yaxis4\": {\"anchor\": \"x4\", \"domain\": [0.0, 1.0], \"matches\": \"y\", \"showticklabels\": false}},\n",
              "                        {\"responsive\": true}\n",
              "                    ).then(function(){\n",
              "                            \n",
              "var gd = document.getElementById('48e6119d-2fb1-4a2d-ba5a-7968ec9740f8');\n",
              "var x = new MutationObserver(function (mutations, observer) {{\n",
              "        var display = window.getComputedStyle(gd).display;\n",
              "        if (!display || display === 'none') {{\n",
              "            console.log([gd, 'removed!']);\n",
              "            Plotly.purge(gd);\n",
              "            observer.disconnect();\n",
              "        }}\n",
              "}});\n",
              "\n",
              "// Listen for the removal of the full notebook cells\n",
              "var notebookContainer = gd.closest('#notebook-container');\n",
              "if (notebookContainer) {{\n",
              "    x.observe(notebookContainer, {childList: true});\n",
              "}}\n",
              "\n",
              "// Listen for the clearing of the current output cell\n",
              "var outputEl = gd.closest('.output');\n",
              "if (outputEl) {{\n",
              "    x.observe(outputEl, {childList: true});\n",
              "}}\n",
              "\n",
              "                        })\n",
              "                };\n",
              "                \n",
              "            </script>\n",
              "        </div>\n",
              "</body>\n",
              "</html>"
            ]
          },
          "metadata": {
            "tags": []
          }
        }
      ]
    },
    {
      "cell_type": "markdown",
      "metadata": {
        "id": "_d6GCt0OWmB8"
      },
      "source": [
        "Plotting the accuracy surface for the hyperparameters involved in the random forest model."
      ]
    },
    {
      "cell_type": "code",
      "metadata": {
        "id": "gfsojH88WmB9",
        "colab": {
          "base_uri": "https://localhost:8080/",
          "height": 542
        },
        "outputId": "33383b4c-6a3a-4d13-e031-033103675d12"
      },
      "source": [
        "optuna.visualization.plot_contour(study, params=['n_estimators', 'max_depth'])"
      ],
      "execution_count": 8,
      "outputs": [
        {
          "output_type": "display_data",
          "data": {
            "text/html": [
              "<html>\n",
              "<head><meta charset=\"utf-8\" /></head>\n",
              "<body>\n",
              "    <div>\n",
              "            <script src=\"https://cdnjs.cloudflare.com/ajax/libs/mathjax/2.7.5/MathJax.js?config=TeX-AMS-MML_SVG\"></script><script type=\"text/javascript\">if (window.MathJax) {MathJax.Hub.Config({SVG: {font: \"STIX-Web\"}});}</script>\n",
              "                <script type=\"text/javascript\">window.PlotlyConfig = {MathJaxConfig: 'local'};</script>\n",
              "        <script src=\"https://cdn.plot.ly/plotly-latest.min.js\"></script>    \n",
              "            <div id=\"188286fa-d978-484e-9b3c-394babde0ef2\" class=\"plotly-graph-div\" style=\"height:525px; width:100%;\"></div>\n",
              "            <script type=\"text/javascript\">\n",
              "                \n",
              "                    window.PLOTLYENV=window.PLOTLYENV || {};\n",
              "                    \n",
              "                if (document.getElementById(\"188286fa-d978-484e-9b3c-394babde0ef2\")) {\n",
              "                    Plotly.newPlot(\n",
              "                        '188286fa-d978-484e-9b3c-394babde0ef2',\n",
              "                        [{\"colorbar\": {\"title\": {\"text\": \"Objective Value\"}}, \"colorscale\": [[0, \"rgb(5,10,172)\"], [0.35, \"rgb(40,60,190)\"], [0.5, \"rgb(70,100,245)\"], [0.6, \"rgb(90,120,245)\"], [0.7, \"rgb(106,137,247)\"], [1, \"rgb(220,220,220)\"]], \"connectgaps\": true, \"contours\": {\"coloring\": \"heatmap\"}, \"hoverinfo\": \"none\", \"line\": {\"smoothing\": 1.3}, \"reversescale\": false, \"type\": \"contour\", \"x\": [0.9270534285756388, 1.0958894302733866, 1.6458248300063194, 1.8527679516349724, 2.3291808818021393, 2.8294942637775637, 3.0399995665643313, 3.351634849947771, 3.363851843158431, 3.580416959205172, 3.6279921295463127, 3.8118165226947087, 3.924363296607811, 4.0540711761285095, 4.172563266608027, 4.2424930904420455, 4.2597067249815685, 4.392643252852917, 4.487815517393446, 4.743043919456688, 4.811148675095474, 4.8261879374581005, 4.871276166274643, 4.908491164059909, 4.9323510841519935, 4.981956104787176, 5.18209939448373, 5.232116529278027, 5.264977363088413, 5.36507904413182, 5.43902555514703, 5.558866361621581, 5.584386975701804, 5.6203850238610515, 5.7192688010484085, 5.816515354431472, 6.041438004387958, 6.049648967682503, 6.077522395329187, 6.266163288284514, 6.363185570913975, 6.403480652606454, 6.423525398104711, 6.779597367797725, 6.880889090673533, 6.915491181711143, 7.023074853746046, 7.133823769817649, 7.319242004771007, 7.49027478006954, 7.589181603782741, 7.6079034764686195, 7.9349680061615135, 8.150881554075902, 8.201375692811228, 8.321824853748927, 8.398596871142784, 8.545109076227883, 9.007128668713465, 9.040312502633892, 9.263686318663666, 9.31759795701047, 9.562436496983402, 9.639741263933596, 9.79977580078252, 10.461630119898548, 10.707638310086617, 10.796850625859395, 11.016689541006073, 11.188609283594904, 11.40243522369355, 11.978195889472667, 12.094546321445215, 12.811066002523486, 12.976525127316071, 13.085760307890217, 14.035069556505226, 14.576127506554203, 14.910678273961878, 16.29250483689295, 16.41836695593315, 17.16772969372292, 17.577921043261238, 17.64711503503367, 20.543363127754663, 20.548040767253756, 21.196670773625975, 24.274773487200804, 26.584203014162192, 31.117608637998032, 36.78478213942932], \"y\": [1.1, 2, 3, 4, 5, 6, 7, 8, 9, 10, 11, 12, 13, 14, 15, 16, 17, 18, 19, 20, 20.9], \"z\": [[null, null, null, null, null, null, null, null, null, null, null, null, null, null, null, null, null, null, null, null, null, null, null, null, null, null, null, null, null, null, null, null, null, null, null, null, null, null, null, null, null, null, null, null, null, null, null, null, null, null, null, null, null, null, null, null, null, null, null, null, null, null, null, null, null, null, null, null, null, null, null, null, null, null, null, null, null, null, null, null, null, null, null, null, null, null, null, null, null, null, null], [null, null, null, null, null, null, null, null, null, null, null, null, null, null, null, null, null, null, null, null, null, null, null, null, null, null, null, null, null, null, null, null, null, null, null, null, null, null, null, null, null, null, null, null, null, null, null, null, null, null, null, null, null, null, null, 0.9199999999999999, null, null, null, null, null, null, null, null, null, null, null, null, null, null, null, null, null, null, null, null, null, null, null, null, null, null, null, null, null, null, null, null, null, null, null], [null, null, null, null, null, null, null, null, null, null, null, null, null, null, null, null, null, null, null, null, null, null, null, null, null, null, 0.96, null, null, null, null, null, null, null, null, null, null, null, null, null, null, null, null, null, null, null, null, null, null, null, null, null, null, null, null, null, null, null, null, null, null, null, null, null, null, null, null, null, null, null, null, null, null, null, null, null, null, null, null, null, null, null, null, null, null, null, null, null, null, null, null], [null, null, null, 0.6666666666666666, null, null, null, null, null, null, null, null, null, null, null, null, null, null, null, null, null, null, null, null, null, null, null, null, null, null, null, null, null, null, null, null, null, null, null, null, null, null, null, null, null, null, null, null, null, null, null, null, null, null, null, null, null, null, null, null, null, null, null, null, null, null, null, null, null, null, null, null, null, null, null, null, null, null, null, null, null, null, null, null, null, null, null, null, null, null, null], [null, null, null, null, null, null, null, null, null, null, null, null, null, null, null, null, null, null, null, null, null, null, null, null, null, null, null, null, null, null, null, null, null, null, null, null, null, null, null, null, null, null, null, 0.96, null, null, null, null, null, null, null, null, null, null, null, null, null, null, null, null, null, null, null, null, null, null, null, null, null, null, null, null, null, null, null, null, null, null, null, null, null, null, null, null, null, null, null, null, null, null, null], [null, null, null, null, null, null, null, null, null, null, null, null, null, null, null, null, null, null, null, null, null, null, null, null, null, null, null, null, null, null, null, null, null, null, null, null, null, null, null, null, null, null, null, null, null, null, null, null, null, null, 0.9333333333333332, null, null, null, null, null, null, null, null, null, null, null, null, null, null, null, null, null, null, null, null, null, null, null, null, null, null, null, null, null, null, null, null, null, null, null, null, null, null, null, null], [null, null, 0.7466666666666667, null, null, null, null, null, null, null, null, null, null, null, null, null, null, null, null, null, null, null, null, null, null, null, null, null, null, null, null, null, null, null, null, null, null, null, null, null, null, null, null, null, null, null, null, null, null, null, null, null, null, null, null, null, null, null, null, null, null, null, null, null, null, null, 0.94, null, null, null, null, null, null, null, null, null, null, null, null, null, null, null, null, null, null, null, null, null, null, null, null], [null, null, null, null, null, null, null, null, null, null, null, null, null, null, null, null, null, null, null, null, null, null, null, null, null, null, null, null, null, null, null, null, null, null, null, null, null, null, null, null, null, null, null, null, null, null, null, null, null, null, null, null, null, null, null, null, null, null, null, null, null, null, null, null, null, null, null, null, null, null, null, null, null, null, null, null, null, null, null, null, null, 0.96, null, null, null, null, null, null, null, null, null], [null, null, null, null, null, null, null, null, null, null, null, null, null, null, null, null, null, null, null, null, null, null, null, null, null, null, null, null, null, null, null, null, null, null, null, null, null, null, null, null, null, null, null, null, null, null, null, null, null, null, null, 0.94, null, null, null, null, null, null, null, null, null, null, null, null, null, null, null, null, null, null, null, null, null, null, null, null, null, null, null, null, null, null, null, null, null, null, null, null, null, null, null], [null, null, null, null, null, null, null, null, null, null, null, null, null, null, null, null, null, null, null, null, null, null, null, null, null, null, null, null, null, null, null, null, null, null, null, null, null, null, null, null, null, null, null, null, null, null, null, null, null, null, null, null, null, null, null, null, null, null, 0.96, null, null, null, null, null, null, null, null, null, null, null, null, null, null, null, null, null, null, null, null, null, null, null, null, null, null, null, null, null, null, null, null], [null, null, null, null, null, null, null, null, null, null, null, null, null, null, null, null, null, null, null, null, null, null, null, null, null, null, null, null, 0.9666666666666667, null, 0.9466666666666667, null, null, null, null, null, null, null, null, null, null, null, null, null, null, null, null, null, null, null, null, null, null, null, null, null, null, null, null, null, null, null, null, null, null, null, null, null, null, null, null, null, null, null, null, null, null, null, null, null, null, null, null, null, null, null, null, null, null, null, null], [null, null, null, null, null, null, null, null, null, null, null, null, null, null, null, null, null, null, null, null, null, null, null, null, null, null, null, null, null, null, null, 0.96, null, null, null, null, null, null, null, null, null, null, null, null, null, null, null, null, null, null, null, null, null, null, null, null, null, null, null, null, null, null, null, null, null, null, null, null, null, null, null, null, null, null, null, null, null, null, null, null, null, null, null, null, null, null, null, null, null, 0.9533333333333333, null], [null, null, null, null, null, null, null, null, 0.9533333333333333, null, null, null, null, null, null, null, null, null, null, null, null, null, null, null, null, null, null, null, null, null, null, null, null, null, null, null, null, null, null, null, null, null, null, null, null, null, null, null, null, null, null, null, 0.96, null, null, null, null, null, null, null, null, null, null, null, null, null, null, null, null, null, null, null, null, null, null, null, null, null, null, null, null, null, null, null, null, null, null, null, null, null, null], [null, null, null, null, null, null, null, null, null, null, null, null, null, null, null, null, null, null, null, null, 0.9533333333333333, null, null, null, null, null, null, null, null, null, null, null, null, null, null, null, null, null, null, null, null, null, null, null, null, null, null, null, null, null, null, null, null, null, null, null, null, null, null, null, null, null, null, 0.9533333333333333, null, null, null, null, null, null, null, null, null, null, null, null, null, null, null, null, null, null, null, null, 0.96, null, null, null, null, null, null], [null, null, null, null, null, null, null, null, null, null, null, null, null, null, null, 0.9666666666666667, null, null, null, null, null, 0.9666666666666667, null, null, null, null, null, null, null, null, null, null, 0.9666666666666667, null, null, null, null, null, null, null, null, null, null, null, null, null, null, null, null, null, null, null, null, null, null, null, null, null, null, null, null, 0.9466666666666667, null, null, null, null, null, null, null, null, null, null, null, null, null, 0.94, null, null, null, 0.96, null, null, null, null, null, null, null, 0.9533333333333333, null, null, null], [null, null, null, null, 0.94, null, null, 0.96, null, null, 0.96, null, null, 0.9533333333333333, null, null, null, null, 0.9533333333333333, 0.9666666666666667, null, null, null, null, null, null, null, null, null, null, null, null, null, null, null, null, 0.96, 0.9666666666666667, null, null, null, 0.96, null, null, null, null, null, null, null, null, null, null, null, null, 0.9666666666666667, null, null, 0.96, null, null, null, null, null, null, null, null, null, null, null, null, null, null, null, null, null, null, null, null, null, null, null, null, null, null, null, null, null, null, null, null, null], [null, null, null, null, null, null, 0.9533333333333333, null, null, null, null, null, null, null, 0.9666666666666667, null, null, null, null, null, null, null, 0.96, null, 0.9666666666666667, 0.9666666666666667, null, 0.9733333333333333, null, null, null, null, null, 0.96, null, 0.96, null, null, null, null, null, null, 0.9466666666666667, null, 0.9666666666666667, 0.96, 0.96, null, null, null, null, null, null, null, null, null, 0.9533333333333333, null, null, null, null, null, null, null, null, null, null, null, null, null, null, 0.9466666666666667, null, null, null, null, null, null, null, null, null, null, null, null, null, null, null, null, null, null, null], [null, 0.84, null, null, null, null, null, null, null, 0.9533333333333333, null, 0.9533333333333333, null, null, null, null, null, null, null, null, null, null, null, null, null, null, null, null, null, null, null, null, null, null, null, null, null, null, null, null, null, null, null, null, null, null, null, null, null, null, null, null, null, null, null, null, null, null, null, 0.9666666666666667, null, null, 0.96, null, 0.96, null, null, null, null, null, null, null, 0.96, 0.9666666666666667, null, null, null, 0.96, null, null, null, null, 0.9533333333333333, 0.9666666666666667, null, null, 0.96, null, 0.96, null, null], [null, null, null, null, null, null, null, null, null, null, null, null, 0.9533333333333333, null, null, null, null, null, null, null, null, null, null, null, null, null, null, null, null, null, null, null, null, null, 0.9666666666666667, null, null, null, 0.9666666666666667, null, null, null, null, null, null, null, null, 0.96, 0.9666666666666667, 0.96, null, null, null, 0.9466666666666667, null, null, null, null, null, null, null, null, null, null, null, 0.9533333333333333, null, null, null, 0.96, null, null, null, null, 0.9533333333333333, null, 0.96, null, 0.9533333333333333, null, null, null, null, null, null, null, null, null, null, null, null], [null, null, null, null, null, 0.94, null, null, null, null, null, null, null, null, null, null, 0.96, 0.96, null, null, null, null, null, 0.9666666666666667, null, null, null, null, null, 0.96, null, null, null, null, null, null, null, null, null, 0.96, 0.96, null, null, null, null, null, null, null, null, null, null, null, null, null, null, null, null, null, null, null, 0.9666666666666667, null, null, null, null, null, null, 0.96, 0.9533333333333333, null, 0.9666666666666667, null, null, null, null, null, null, null, null, null, 0.96, null, null, null, null, 0.96, null, null, null, null, null], [null, null, null, null, null, null, null, null, null, null, null, null, null, null, null, null, null, null, null, null, null, null, null, null, null, null, null, null, null, null, null, null, null, null, null, null, null, null, null, null, null, null, null, null, null, null, null, null, null, null, null, null, null, null, null, null, null, null, null, null, null, null, null, null, null, null, null, null, null, null, null, null, null, null, null, null, null, null, null, null, null, null, null, null, null, null, null, null, null, null, null]]}, {\"marker\": {\"color\": \"black\", \"line\": {\"color\": \"Grey\", \"width\": 0.5}}, \"mode\": \"markers\", \"showlegend\": false, \"type\": \"scatter\", \"x\": [1.6458248300063194, 8.201375692811228, 1.8527679516349724, 20.543363127754663, 11.40243522369355, 11.016689541006073, 6.363185570913975, 16.29250483689295, 4.981956104787176, 5.43902555514703, 10.796850625859395, 3.6279921295463127, 3.0399995665643313, 31.117608637998032, 5.816515354431472, 9.79977580078252, 7.9349680061615135, 3.924363296607811, 17.16772969372292, 13.085760307890217, 26.584203014162192, 7.6079034764686195, 2.3291808818021393, 1.0958894302733866, 4.2597067249815685, 4.0540711761285095, 3.363851843158431, 9.263686318663666, 8.150881554075902, 12.976525127316071, 5.6203850238610515, 9.040312502633892, 8.321824853748927, 12.811066002523486, 14.035069556505226, 20.548040767253756, 9.31759795701047, 6.779597367797725, 17.64711503503367, 21.196670773625975, 16.41836695593315, 4.811148675095474, 11.978195889472667, 10.461630119898548, 14.576127506554203, 6.880889090673533, 6.403480652606454, 9.639741263933596, 11.188609283594904, 6.915491181711143, 24.274773487200804, 4.9323510841519935, 4.908491164059909, 4.871276166274643, 17.577921043261238, 9.562436496983402, 7.319242004771007, 6.049648967682503, 2.8294942637775637, 4.743043919456688, 8.398596871142784, 5.7192688010484085, 5.36507904413182, 4.392643252852917, 3.8118165226947087, 7.49027478006954, 4.487815517393446, 6.041438004387958, 12.094546321445215, 5.264977363088413, 9.007128668713465, 10.707638310086617, 7.133823769817649, 6.423525398104711, 6.077522395329187, 3.580416959205172, 14.910678273961878, 8.545109076227883, 5.558866361621581, 7.589181603782741, 6.266163288284514, 4.8261879374581005, 5.232116529278027, 5.584386975701804, 7.023074853746046, 4.2424930904420455, 3.351634849947771, 4.172563266608027, 5.18209939448373], \"y\": [7, 16, 4, 14, 20, 20, 20, 15, 17, 11, 20, 16, 17, 12, 17, 18, 13, 19, 8, 15, 18, 9, 16, 18, 20, 16, 13, 20, 19, 19, 17, 18, 2, 18, 19, 20, 15, 5, 18, 18, 20, 14, 17, 19, 18, 17, 16, 14, 19, 17, 15, 17, 20, 17, 18, 18, 19, 16, 20, 16, 17, 19, 20, 20, 18, 19, 16, 16, 18, 11, 10, 7, 19, 17, 19, 18, 19, 16, 12, 6, 20, 15, 17, 15, 17, 15, 16, 17, 3]}],\n",
              "                        {\"template\": {\"data\": {\"bar\": [{\"error_x\": {\"color\": \"#2a3f5f\"}, \"error_y\": {\"color\": \"#2a3f5f\"}, \"marker\": {\"line\": {\"color\": \"#E5ECF6\", \"width\": 0.5}}, \"type\": \"bar\"}], \"barpolar\": [{\"marker\": {\"line\": {\"color\": \"#E5ECF6\", \"width\": 0.5}}, \"type\": \"barpolar\"}], \"carpet\": [{\"aaxis\": {\"endlinecolor\": \"#2a3f5f\", \"gridcolor\": \"white\", \"linecolor\": \"white\", \"minorgridcolor\": \"white\", \"startlinecolor\": \"#2a3f5f\"}, \"baxis\": {\"endlinecolor\": \"#2a3f5f\", \"gridcolor\": \"white\", \"linecolor\": \"white\", \"minorgridcolor\": \"white\", \"startlinecolor\": \"#2a3f5f\"}, \"type\": \"carpet\"}], \"choropleth\": [{\"colorbar\": {\"outlinewidth\": 0, \"ticks\": \"\"}, \"type\": \"choropleth\"}], \"contour\": [{\"colorbar\": {\"outlinewidth\": 0, \"ticks\": \"\"}, \"colorscale\": [[0.0, \"#0d0887\"], [0.1111111111111111, \"#46039f\"], [0.2222222222222222, \"#7201a8\"], [0.3333333333333333, \"#9c179e\"], [0.4444444444444444, \"#bd3786\"], [0.5555555555555556, \"#d8576b\"], [0.6666666666666666, \"#ed7953\"], [0.7777777777777778, \"#fb9f3a\"], [0.8888888888888888, \"#fdca26\"], [1.0, \"#f0f921\"]], \"type\": \"contour\"}], \"contourcarpet\": [{\"colorbar\": {\"outlinewidth\": 0, \"ticks\": \"\"}, \"type\": \"contourcarpet\"}], \"heatmap\": [{\"colorbar\": {\"outlinewidth\": 0, \"ticks\": \"\"}, \"colorscale\": [[0.0, \"#0d0887\"], [0.1111111111111111, \"#46039f\"], [0.2222222222222222, \"#7201a8\"], [0.3333333333333333, \"#9c179e\"], [0.4444444444444444, \"#bd3786\"], [0.5555555555555556, \"#d8576b\"], [0.6666666666666666, \"#ed7953\"], [0.7777777777777778, \"#fb9f3a\"], [0.8888888888888888, \"#fdca26\"], [1.0, \"#f0f921\"]], \"type\": \"heatmap\"}], \"heatmapgl\": [{\"colorbar\": {\"outlinewidth\": 0, \"ticks\": \"\"}, \"colorscale\": [[0.0, \"#0d0887\"], [0.1111111111111111, \"#46039f\"], [0.2222222222222222, \"#7201a8\"], [0.3333333333333333, \"#9c179e\"], [0.4444444444444444, \"#bd3786\"], [0.5555555555555556, \"#d8576b\"], [0.6666666666666666, \"#ed7953\"], [0.7777777777777778, \"#fb9f3a\"], [0.8888888888888888, \"#fdca26\"], [1.0, \"#f0f921\"]], \"type\": \"heatmapgl\"}], \"histogram\": [{\"marker\": {\"colorbar\": {\"outlinewidth\": 0, \"ticks\": \"\"}}, \"type\": \"histogram\"}], \"histogram2d\": [{\"colorbar\": {\"outlinewidth\": 0, \"ticks\": \"\"}, \"colorscale\": [[0.0, \"#0d0887\"], [0.1111111111111111, \"#46039f\"], [0.2222222222222222, \"#7201a8\"], [0.3333333333333333, \"#9c179e\"], [0.4444444444444444, \"#bd3786\"], [0.5555555555555556, \"#d8576b\"], [0.6666666666666666, \"#ed7953\"], [0.7777777777777778, \"#fb9f3a\"], [0.8888888888888888, \"#fdca26\"], [1.0, \"#f0f921\"]], \"type\": \"histogram2d\"}], \"histogram2dcontour\": [{\"colorbar\": {\"outlinewidth\": 0, \"ticks\": \"\"}, \"colorscale\": [[0.0, \"#0d0887\"], [0.1111111111111111, \"#46039f\"], [0.2222222222222222, \"#7201a8\"], [0.3333333333333333, \"#9c179e\"], [0.4444444444444444, \"#bd3786\"], [0.5555555555555556, \"#d8576b\"], [0.6666666666666666, \"#ed7953\"], [0.7777777777777778, \"#fb9f3a\"], [0.8888888888888888, \"#fdca26\"], [1.0, \"#f0f921\"]], \"type\": \"histogram2dcontour\"}], \"mesh3d\": [{\"colorbar\": {\"outlinewidth\": 0, \"ticks\": \"\"}, \"type\": \"mesh3d\"}], \"parcoords\": [{\"line\": {\"colorbar\": {\"outlinewidth\": 0, \"ticks\": \"\"}}, \"type\": \"parcoords\"}], \"pie\": [{\"automargin\": true, \"type\": \"pie\"}], \"scatter\": [{\"marker\": {\"colorbar\": {\"outlinewidth\": 0, \"ticks\": \"\"}}, \"type\": \"scatter\"}], \"scatter3d\": [{\"line\": {\"colorbar\": {\"outlinewidth\": 0, \"ticks\": \"\"}}, \"marker\": {\"colorbar\": {\"outlinewidth\": 0, \"ticks\": \"\"}}, \"type\": \"scatter3d\"}], \"scattercarpet\": [{\"marker\": {\"colorbar\": {\"outlinewidth\": 0, \"ticks\": \"\"}}, \"type\": \"scattercarpet\"}], \"scattergeo\": [{\"marker\": {\"colorbar\": {\"outlinewidth\": 0, \"ticks\": \"\"}}, \"type\": \"scattergeo\"}], \"scattergl\": [{\"marker\": {\"colorbar\": {\"outlinewidth\": 0, \"ticks\": \"\"}}, \"type\": \"scattergl\"}], \"scattermapbox\": [{\"marker\": {\"colorbar\": {\"outlinewidth\": 0, \"ticks\": \"\"}}, \"type\": \"scattermapbox\"}], \"scatterpolar\": [{\"marker\": {\"colorbar\": {\"outlinewidth\": 0, \"ticks\": \"\"}}, \"type\": \"scatterpolar\"}], \"scatterpolargl\": [{\"marker\": {\"colorbar\": {\"outlinewidth\": 0, \"ticks\": \"\"}}, \"type\": \"scatterpolargl\"}], \"scatterternary\": [{\"marker\": {\"colorbar\": {\"outlinewidth\": 0, \"ticks\": \"\"}}, \"type\": \"scatterternary\"}], \"surface\": [{\"colorbar\": {\"outlinewidth\": 0, \"ticks\": \"\"}, \"colorscale\": [[0.0, \"#0d0887\"], [0.1111111111111111, \"#46039f\"], [0.2222222222222222, \"#7201a8\"], [0.3333333333333333, \"#9c179e\"], [0.4444444444444444, \"#bd3786\"], [0.5555555555555556, \"#d8576b\"], [0.6666666666666666, \"#ed7953\"], [0.7777777777777778, \"#fb9f3a\"], [0.8888888888888888, \"#fdca26\"], [1.0, \"#f0f921\"]], \"type\": \"surface\"}], \"table\": [{\"cells\": {\"fill\": {\"color\": \"#EBF0F8\"}, \"line\": {\"color\": \"white\"}}, \"header\": {\"fill\": {\"color\": \"#C8D4E3\"}, \"line\": {\"color\": \"white\"}}, \"type\": \"table\"}]}, \"layout\": {\"annotationdefaults\": {\"arrowcolor\": \"#2a3f5f\", \"arrowhead\": 0, \"arrowwidth\": 1}, \"coloraxis\": {\"colorbar\": {\"outlinewidth\": 0, \"ticks\": \"\"}}, \"colorscale\": {\"diverging\": [[0, \"#8e0152\"], [0.1, \"#c51b7d\"], [0.2, \"#de77ae\"], [0.3, \"#f1b6da\"], [0.4, \"#fde0ef\"], [0.5, \"#f7f7f7\"], [0.6, \"#e6f5d0\"], [0.7, \"#b8e186\"], [0.8, \"#7fbc41\"], [0.9, \"#4d9221\"], [1, \"#276419\"]], \"sequential\": [[0.0, \"#0d0887\"], [0.1111111111111111, \"#46039f\"], [0.2222222222222222, \"#7201a8\"], [0.3333333333333333, \"#9c179e\"], [0.4444444444444444, \"#bd3786\"], [0.5555555555555556, \"#d8576b\"], [0.6666666666666666, \"#ed7953\"], [0.7777777777777778, \"#fb9f3a\"], [0.8888888888888888, \"#fdca26\"], [1.0, \"#f0f921\"]], \"sequentialminus\": [[0.0, \"#0d0887\"], [0.1111111111111111, \"#46039f\"], [0.2222222222222222, \"#7201a8\"], [0.3333333333333333, \"#9c179e\"], [0.4444444444444444, \"#bd3786\"], [0.5555555555555556, \"#d8576b\"], [0.6666666666666666, \"#ed7953\"], [0.7777777777777778, \"#fb9f3a\"], [0.8888888888888888, \"#fdca26\"], [1.0, \"#f0f921\"]]}, \"colorway\": [\"#636efa\", \"#EF553B\", \"#00cc96\", \"#ab63fa\", \"#FFA15A\", \"#19d3f3\", \"#FF6692\", \"#B6E880\", \"#FF97FF\", \"#FECB52\"], \"font\": {\"color\": \"#2a3f5f\"}, \"geo\": {\"bgcolor\": \"white\", \"lakecolor\": \"white\", \"landcolor\": \"#E5ECF6\", \"showlakes\": true, \"showland\": true, \"subunitcolor\": \"white\"}, \"hoverlabel\": {\"align\": \"left\"}, \"hovermode\": \"closest\", \"mapbox\": {\"style\": \"light\"}, \"paper_bgcolor\": \"white\", \"plot_bgcolor\": \"#E5ECF6\", \"polar\": {\"angularaxis\": {\"gridcolor\": \"white\", \"linecolor\": \"white\", \"ticks\": \"\"}, \"bgcolor\": \"#E5ECF6\", \"radialaxis\": {\"gridcolor\": \"white\", \"linecolor\": \"white\", \"ticks\": \"\"}}, \"scene\": {\"xaxis\": {\"backgroundcolor\": \"#E5ECF6\", \"gridcolor\": \"white\", \"gridwidth\": 2, \"linecolor\": \"white\", \"showbackground\": true, \"ticks\": \"\", \"zerolinecolor\": \"white\"}, \"yaxis\": {\"backgroundcolor\": \"#E5ECF6\", \"gridcolor\": \"white\", \"gridwidth\": 2, \"linecolor\": \"white\", \"showbackground\": true, \"ticks\": \"\", \"zerolinecolor\": \"white\"}, \"zaxis\": {\"backgroundcolor\": \"#E5ECF6\", \"gridcolor\": \"white\", \"gridwidth\": 2, \"linecolor\": \"white\", \"showbackground\": true, \"ticks\": \"\", \"zerolinecolor\": \"white\"}}, \"shapedefaults\": {\"line\": {\"color\": \"#2a3f5f\"}}, \"ternary\": {\"aaxis\": {\"gridcolor\": \"white\", \"linecolor\": \"white\", \"ticks\": \"\"}, \"baxis\": {\"gridcolor\": \"white\", \"linecolor\": \"white\", \"ticks\": \"\"}, \"bgcolor\": \"#E5ECF6\", \"caxis\": {\"gridcolor\": \"white\", \"linecolor\": \"white\", \"ticks\": \"\"}}, \"title\": {\"x\": 0.05}, \"xaxis\": {\"automargin\": true, \"gridcolor\": \"white\", \"linecolor\": \"white\", \"ticks\": \"\", \"title\": {\"standoff\": 15}, \"zerolinecolor\": \"white\", \"zerolinewidth\": 2}, \"yaxis\": {\"automargin\": true, \"gridcolor\": \"white\", \"linecolor\": \"white\", \"ticks\": \"\", \"title\": {\"standoff\": 15}, \"zerolinecolor\": \"white\", \"zerolinewidth\": 2}}}, \"title\": {\"text\": \"Contour Plot\"}, \"xaxis\": {\"range\": [-0.032895235578354845, 1.5656681882452066], \"title\": {\"text\": \"max_depth\"}, \"type\": \"log\"}, \"yaxis\": {\"range\": [1.1, 20.9], \"title\": {\"text\": \"n_estimators\"}}},\n",
              "                        {\"responsive\": true}\n",
              "                    ).then(function(){\n",
              "                            \n",
              "var gd = document.getElementById('188286fa-d978-484e-9b3c-394babde0ef2');\n",
              "var x = new MutationObserver(function (mutations, observer) {{\n",
              "        var display = window.getComputedStyle(gd).display;\n",
              "        if (!display || display === 'none') {{\n",
              "            console.log([gd, 'removed!']);\n",
              "            Plotly.purge(gd);\n",
              "            observer.disconnect();\n",
              "        }}\n",
              "}});\n",
              "\n",
              "// Listen for the removal of the full notebook cells\n",
              "var notebookContainer = gd.closest('#notebook-container');\n",
              "if (notebookContainer) {{\n",
              "    x.observe(notebookContainer, {childList: true});\n",
              "}}\n",
              "\n",
              "// Listen for the clearing of the current output cell\n",
              "var outputEl = gd.closest('.output');\n",
              "if (outputEl) {{\n",
              "    x.observe(outputEl, {childList: true});\n",
              "}}\n",
              "\n",
              "                        })\n",
              "                };\n",
              "                \n",
              "            </script>\n",
              "        </div>\n",
              "</body>\n",
              "</html>"
            ]
          },
          "metadata": {
            "tags": []
          }
        }
      ]
    }
  ]
}